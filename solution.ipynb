{
 "cells": [
  {
   "cell_type": "markdown",
   "metadata": {},
   "source": [
    "# TODO:\n",
    "\n",
    "1. Find some good candidates for binary classification including ensembles\n",
    "    1. 5 different models\n",
    "2. Write a pipeline for testing and analysis of the results\n",
    "3. Create code documentation :)\n",
    "4. Maybe extract the functions to separate .py to make the notebook cleaner\n",
    "3. Write the report\n",
    "4. Prepare the presentation"
   ]
  },
  {
   "cell_type": "markdown",
   "metadata": {},
   "source": [
    "# Imports and Consts"
   ]
  },
  {
   "cell_type": "code",
   "execution_count": 34,
   "metadata": {},
   "outputs": [],
   "source": [
    "import pickle\n",
    "from sklearn.discriminant_analysis import LinearDiscriminantAnalysis, QuadraticDiscriminantAnalysis\n",
    "from sklearn.tree import DecisionTreeClassifier\n",
    "import numpy as np\n",
    "from sklearn.model_selection import train_test_split"
   ]
  },
  {
   "cell_type": "markdown",
   "metadata": {},
   "source": [
    "# Load Data"
   ]
  },
  {
   "cell_type": "markdown",
   "metadata": {},
   "source": [
    "load the training and test data in a format specified by task description"
   ]
  },
  {
   "cell_type": "code",
   "execution_count": 35,
   "metadata": {},
   "outputs": [],
   "source": [
    "with open('./Dataset/x_test.txt') as file:\n",
    "    X_test = [[float(digit) for digit in line.split()] for line in file]\n",
    "\n",
    "\n",
    "with open('./Dataset/x_train.txt') as file:\n",
    "    X_train = [[float(digit) for digit in line.split()] for line in file]\n",
    "\n",
    "\n",
    "with open('./Dataset/y_train.txt') as file:\n",
    "    y_train = [[float(digit) for digit in line.split()] for line in file]\n",
    "\n"
   ]
  },
  {
   "cell_type": "markdown",
   "metadata": {},
   "source": [
    "In the X_test there are 500 features and 5000 observations, y_train contains 5000 values, X_train contains 500 features and 5000 observations"
   ]
  },
  {
   "cell_type": "code",
   "execution_count": 36,
   "metadata": {},
   "outputs": [
    {
     "name": "stdout",
     "output_type": "stream",
     "text": [
      "X_test datapoints: 5000  features: 500\n",
      "X_train datapoints: 5000  features: 500\n",
      "y_train datapoints: 5000\n"
     ]
    }
   ],
   "source": [
    "print('X_test datapoints:',len(X_test),\" features:\",len(X_test[0]))\n",
    "print('X_train datapoints:',len(X_train),\" features:\",len(X_train[0]))\n",
    "print('y_train datapoints:',len(y_train))\n"
   ]
  },
  {
   "cell_type": "markdown",
   "metadata": {},
   "source": [
    "# Experiment"
   ]
  },
  {
   "cell_type": "markdown",
   "metadata": {},
   "source": [
    "## Models"
   ]
  },
  {
   "cell_type": "markdown",
   "metadata": {},
   "source": [
    " - models is an array of model objects together with their display names and parameters that possess functions: fit, predict, predict_proba\n",
    "\n",
    "  - featureSelectors is an array of feature selector model objects together with their display names and parameters that"
   ]
  },
  {
   "cell_type": "code",
   "execution_count": 37,
   "metadata": {},
   "outputs": [],
   "source": [
    "# TODO: Put here at least 5 different models, which can be including ensembles\n",
    "models = [{'name':'LDA','model':LinearDiscriminantAnalysis()},{'name':'QDA','model':QuadraticDiscriminantAnalysis()},{'name':'DecisionTree','model':DecisionTreeClassifier(min_samples_leaf=300)}]\n",
    "# TODO: Put here selection techniques (Can be the same as in data exploration project 4 (I will do it - Patryk))\n",
    "featureSelectors=[]\n"
   ]
  },
  {
   "cell_type": "markdown",
   "metadata": {},
   "source": [
    "## Main experiment loop"
   ]
  },
  {
   "cell_type": "markdown",
   "metadata": {},
   "source": [
    "1. for now just do one train test split\n",
    "2. For each of the models:\n",
    "    1. For each of the feature selectors:\n",
    "        1. Calculate the score of the given combination of model+feature selector based on the +10 for each correct prediction and -200 for each feature used.\n",
    "\n",
    "\n",
    "## TODO: You will have to somehow handle different parameters for each model and save that information, so maybe use a parameter arrays for models and feature selectors and then iterate over parameter arrays instead of models"
   ]
  },
  {
   "cell_type": "markdown",
   "metadata": {},
   "source": [
    "## Helper Functions"
   ]
  },
  {
   "cell_type": "code",
   "execution_count": 38,
   "metadata": {},
   "outputs": [],
   "source": [
    "def performExperiment(X_train,y_train,X_test,model):\n",
    "    model.fit(X_train,y_train)\n",
    "    result = model.predict_proba(X_test)\n",
    "    # Take only 1000 of the highest class 1 probabilities\n",
    "    # TODO: Turn it into a dataframe and keep track of the indexes\n",
    "    finalResult = np.sort(result[:,1])[::-1][:1000]\n",
    "    \n",
    "    return finalResult"
   ]
  },
  {
   "cell_type": "code",
   "execution_count": 42,
   "metadata": {},
   "outputs": [],
   "source": [
    "def getScore(y_true,y_pred,featuresUsed):\n",
    "    score=0\n",
    "    correct=0\n",
    "    for i,y in enumerate(y_true):\n",
    "        if y == y_pred[i]:\n",
    "            correct+=1\n",
    "    score=10*correct-200*featuresUsed\n",
    "    return score"
   ]
  },
  {
   "cell_type": "markdown",
   "metadata": {},
   "source": [
    "## Conducting the experiment"
   ]
  },
  {
   "cell_type": "markdown",
   "metadata": {},
   "source": [
    "collect info about features used and the amount of predicted positive class"
   ]
  },
  {
   "cell_type": "code",
   "execution_count": 40,
   "metadata": {},
   "outputs": [
    {
     "name": "stderr",
     "output_type": "stream",
     "text": [
      "c:\\Users\\prusak.patryk\\AppData\\Local\\Programs\\Python\\Python312\\Lib\\site-packages\\sklearn\\utils\\validation.py:1300: DataConversionWarning: A column-vector y was passed when a 1d array was expected. Please change the shape of y to (n_samples, ), for example using ravel().\n",
      "  y = column_or_1d(y, warn=True)\n",
      "c:\\Users\\prusak.patryk\\AppData\\Local\\Programs\\Python\\Python312\\Lib\\site-packages\\sklearn\\utils\\validation.py:1300: DataConversionWarning: A column-vector y was passed when a 1d array was expected. Please change the shape of y to (n_samples, ), for example using ravel().\n",
      "  y = column_or_1d(y, warn=True)\n",
      "c:\\Users\\prusak.patryk\\AppData\\Local\\Programs\\Python\\Python312\\Lib\\site-packages\\sklearn\\discriminant_analysis.py:935: UserWarning: Variables are collinear\n",
      "  warnings.warn(\"Variables are collinear\")\n"
     ]
    },
    {
     "name": "stdout",
     "output_type": "stream",
     "text": [
      "CPU times: total: 984 ms\n",
      "Wall time: 3.55 s\n"
     ]
    }
   ],
   "source": [
    "%%time\n",
    "results=[]\n",
    "for model in models:\n",
    "    result = performExperiment(X_train=X_train,y_train=y_train,X_test=X_test,model=model['model'])\n",
    "    results.append(result)\n",
    "with open(\"./Results/results\", \"wb\") as f:\n",
    "    pickle.dump(results, f)"
   ]
  },
  {
   "cell_type": "code",
   "execution_count": 41,
   "metadata": {},
   "outputs": [
    {
     "name": "stdout",
     "output_type": "stream",
     "text": [
      "0.7307087273167114\n",
      "0.9999999999999967\n",
      "0.6763097441744506\n"
     ]
    }
   ],
   "source": [
    "for result in results:\n",
    "    print(np.mean(result))"
   ]
  },
  {
   "cell_type": "markdown",
   "metadata": {},
   "source": [
    "# Results"
   ]
  },
  {
   "cell_type": "code",
   "execution_count": null,
   "metadata": {},
   "outputs": [],
   "source": [
    "with open(r\"./Results/results\", \"rb\") as input_file:\n",
    "     results = pickle.load(input_file)"
   ]
  }
 ],
 "metadata": {
  "kernelspec": {
   "display_name": "Python 3",
   "language": "python",
   "name": "python3"
  },
  "language_info": {
   "codemirror_mode": {
    "name": "ipython",
    "version": 3
   },
   "file_extension": ".py",
   "mimetype": "text/x-python",
   "name": "python",
   "nbconvert_exporter": "python",
   "pygments_lexer": "ipython3",
   "version": "3.12.2"
  }
 },
 "nbformat": 4,
 "nbformat_minor": 2
}
