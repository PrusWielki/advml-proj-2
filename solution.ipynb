{
 "cells": [
  {
   "cell_type": "markdown",
   "metadata": {},
   "source": [
    "# README:\n",
    "\n",
    " - To conduct the experiment copy one of the Batch # section, and modify the Parameters section. Beforehand run the Imports and Consts, Functions and Load Data sections"
   ]
  },
  {
   "cell_type": "markdown",
   "metadata": {},
   "source": [
    "# TODO:\n",
    "\n",
    "1. Choose different params and run batches\n",
    "\n",
    "2. Maybe extract the functions to separate .py to make the notebook cleaner\n",
    "\n",
    "3. At the end use the CustomModel class to create a final model OR just use the scikit Pipeline and remove that CustomModel Class\n",
    "\n",
    "4. Write the report\n",
    "\n",
    "5. Prepare the presentation"
   ]
  },
  {
   "cell_type": "markdown",
   "metadata": {},
   "source": [
    "# Imports and Consts"
   ]
  },
  {
   "cell_type": "code",
   "execution_count": 463,
   "metadata": {},
   "outputs": [],
   "source": [
    "import pickle\n",
    "from sklearn.discriminant_analysis import (\n",
    "    LinearDiscriminantAnalysis,\n",
    "    QuadraticDiscriminantAnalysis,\n",
    ")\n",
    "from sklearn.tree import DecisionTreeClassifier\n",
    "import numpy as np\n",
    "import pandas as pd\n",
    "from sklearn.model_selection import train_test_split\n",
    "import itertools\n",
    "from enum import Enum\n",
    "from sklearn.feature_selection import f_classif, mutual_info_classif\n",
    "from sklearn.feature_selection import SelectKBest\n",
    "import seaborn as sns\n",
    "import matplotlib.pyplot as plt\n",
    "from sklearn.pipeline import Pipeline"
   ]
  },
  {
   "cell_type": "code",
   "execution_count": 464,
   "metadata": {},
   "outputs": [],
   "source": [
    "RESULTS_COLUMNS = [\n",
    "    \"score\",\n",
    "    \"model\",\n",
    "    \"model_parameters\",\n",
    "    \"feature_selector\",\n",
    "    \"selector_parameters\",\n",
    "]"
   ]
  },
  {
   "cell_type": "markdown",
   "metadata": {},
   "source": [
    "# Functions"
   ]
  },
  {
   "cell_type": "markdown",
   "metadata": {},
   "source": [
    "## Custom Model Class"
   ]
  },
  {
   "cell_type": "code",
   "execution_count": 465,
   "metadata": {},
   "outputs": [],
   "source": [
    "class CustomModel:\n",
    "    \"\"\"Class representing a model that combines a feature selector a classifier\"\"\"\n",
    "\n",
    "    def __init__(self, featureSelector, model):\n",
    "        self.featureSelector = featureSelector\n",
    "        self.model = model\n",
    "\n",
    "    def fit(self, X, y):\n",
    "        X_new = self.featureSelector.fit_predict(X, y)\n",
    "        return self.model.fit(X_new, y)\n",
    "\n",
    "    def predict(self, X):\n",
    "        return self.model.predict(X)"
   ]
  },
  {
   "cell_type": "markdown",
   "metadata": {},
   "source": [
    "## Generate parameters\n"
   ]
  },
  {
   "cell_type": "code",
   "execution_count": 466,
   "metadata": {},
   "outputs": [],
   "source": [
    "def namestr(obj, namespace) -> str:\n",
    "    \"\"\"Get name of a variable as a string\"\"\"\n",
    "    return [name for name in namespace if namespace[name] is obj]"
   ]
  },
  {
   "cell_type": "code",
   "execution_count": 467,
   "metadata": {},
   "outputs": [],
   "source": [
    "def generateParameters(arrays, namespace):\n",
    "    \"\"\"Takes any number of arrays and returns an array of\n",
    "    dictionaries with keys as array names and values, all possible combinations\n",
    "\n",
    "    namespace in general should be globals() or locals()\n",
    "    \"\"\"\n",
    "\n",
    "    allCombinations = list(itertools.product(*arrays))\n",
    "\n",
    "    allCombinations = [list(elem) for elem in allCombinations]\n",
    "\n",
    "    arrayNames = []\n",
    "\n",
    "    for array in arrays:\n",
    "        arrayNames.append(namestr(array, namespace)[0])\n",
    "\n",
    "    return [dict(zip(arrayNames, value)) for value in allCombinations]"
   ]
  },
  {
   "cell_type": "markdown",
   "metadata": {},
   "source": [
    "- example usage, create arrays with parameters (their names should be the same as desired parameter names), pass them in an array to generateParamters function"
   ]
  },
  {
   "cell_type": "code",
   "execution_count": 468,
   "metadata": {},
   "outputs": [
    {
     "data": {
      "text/plain": [
       "[{'arr1': 1, 'arr2': 3},\n",
       " {'arr1': 1, 'arr2': 4},\n",
       " {'arr1': 1, 'arr2': 8},\n",
       " {'arr1': 2, 'arr2': 3},\n",
       " {'arr1': 2, 'arr2': 4},\n",
       " {'arr1': 2, 'arr2': 8},\n",
       " {'arr1': 7, 'arr2': 3},\n",
       " {'arr1': 7, 'arr2': 4},\n",
       " {'arr1': 7, 'arr2': 8}]"
      ]
     },
     "execution_count": 468,
     "metadata": {},
     "output_type": "execute_result"
    }
   ],
   "source": [
    "arr1 = [1, 2, 7]\n",
    "arr2 = [3, 4, 8]\n",
    "generateParameters([arr1, arr2], globals())"
   ]
  },
  {
   "cell_type": "markdown",
   "metadata": {},
   "source": [
    "## Model helpers"
   ]
  },
  {
   "cell_type": "markdown",
   "metadata": {},
   "source": [
    "- definition of available models and feature selection methods\n",
    "\n",
    "- getters for models and feature selection methods"
   ]
  },
  {
   "cell_type": "code",
   "execution_count": 469,
   "metadata": {},
   "outputs": [],
   "source": [
    "class ModelType(Enum):\n",
    "    \"\"\"Available classifiers\"\"\"\n",
    "\n",
    "    LDA = 0\n",
    "\n",
    "    QDA = 1\n",
    "\n",
    "    DecisionTree = 2"
   ]
  },
  {
   "cell_type": "code",
   "execution_count": 470,
   "metadata": {},
   "outputs": [],
   "source": [
    "def getModel(modelType, arguments):\n",
    "    \"\"\"Returns a classifier that can fit() and predict()\"\"\"\n",
    "\n",
    "    match modelType:\n",
    "\n",
    "        case ModelType.LDA:\n",
    "\n",
    "            return LinearDiscriminantAnalysis(**arguments)\n",
    "\n",
    "        case ModelType.QDA:\n",
    "\n",
    "            return QuadraticDiscriminantAnalysis(**arguments)\n",
    "\n",
    "        case ModelType.DecisionTree:\n",
    "\n",
    "            return DecisionTreeClassifier(**arguments)"
   ]
  },
  {
   "cell_type": "code",
   "execution_count": 471,
   "metadata": {},
   "outputs": [],
   "source": [
    "class FeatureSelectorType(Enum):\n",
    "    \"\"\"Available Feature Selectors that can fit_transform() a dataset\"\"\"\n",
    "\n",
    "    NoFeatureSelection = 0\n",
    "\n",
    "    KBest = 1"
   ]
  },
  {
   "cell_type": "code",
   "execution_count": 472,
   "metadata": {},
   "outputs": [],
   "source": [
    "class NoFeatureSelection:\n",
    "    \"\"\"Wrapper class for no feature selection, exposes\n",
    "    fit_transform method that returns unchanged X\n",
    "    \"\"\"\n",
    "\n",
    "    def fit_transform(self, X, y):\n",
    "\n",
    "        return X"
   ]
  },
  {
   "cell_type": "code",
   "execution_count": 473,
   "metadata": {},
   "outputs": [],
   "source": [
    "def getFeatureSelector(selectorType, arguments):\n",
    "    \"\"\"Returns a feature selector that can fit_transform()\"\"\"\n",
    "\n",
    "    match selectorType:\n",
    "\n",
    "        case FeatureSelectorType.NoFeatureSelection:\n",
    "\n",
    "            return \"passthrough\"\n",
    "\n",
    "        case FeatureSelectorType.KBest:\n",
    "\n",
    "            return SelectKBest(**arguments)"
   ]
  },
  {
   "cell_type": "markdown",
   "metadata": {},
   "source": [
    "## Experiment process"
   ]
  },
  {
   "cell_type": "code",
   "execution_count": 474,
   "metadata": {},
   "outputs": [],
   "source": [
    "def getScore(y_true, y_pred, featuresUsed):\n",
    "    \"\"\"Get score based on y_true, y_pred and number of feature used\n",
    "\n",
    "    Scoring function, based on which, the best model is selected.\n",
    "    Score is calculated according to task description: +10 points for each\n",
    "    correctly classified positive class, -200 points for each feature used\n",
    "    \"\"\"\n",
    "\n",
    "    score = 0\n",
    "\n",
    "    correct = 0\n",
    "\n",
    "    for i, y in enumerate(y_true):\n",
    "        if y == y_pred[i]:\n",
    "            correct += 1\n",
    "\n",
    "    score = 10 * correct - 200 * featuresUsed\n",
    "    return score"
   ]
  },
  {
   "cell_type": "code",
   "execution_count": 475,
   "metadata": {},
   "outputs": [],
   "source": [
    "def performExperiment(X_train, y_train, X_test, y_test, model):\n",
    "    \"\"\"Returns a score for given model and provided data\"\"\"\n",
    "\n",
    "    model.fit(X_train, y_train)\n",
    "\n",
    "    y_pred = model.predict(X_test)\n",
    "\n",
    "    # TODO: The length of the X_train is incorrect it's untransformed, maybe transform it by hand\n",
    "    finalResult = getScore(y_test, y_pred, model[\"classification\"].n_features_in_)\n",
    "\n",
    "    # Take only 1000 of the highest class 1 probabilities\n",
    "\n",
    "    # TODO: Turn it into a dataframe and keep track of the indexes\n",
    "\n",
    "    # finalResult = np.sort(result[:, 1])[::-1][:1000]\n",
    "\n",
    "    return finalResult"
   ]
  },
  {
   "cell_type": "code",
   "execution_count": 476,
   "metadata": {},
   "outputs": [],
   "source": [
    "def conductExperiments(models, featureSelectors, X_orig, y_orig):\n",
    "    \"\"\"Collects score results for all provided models and feature selectors on given dataset\n",
    "\n",
    "    Parameters:\n",
    "\n",
    "    models: array in a format: [{\"model\":\"model name\",\"parameters\":[{paramters object}]}]\n",
    "\n",
    "    featureSelectors: array in a format: [{\"model\":\"model name\",\"parameters\":[{paramters object}]}]\n",
    "\n",
    "\n",
    "    \"\"\"\n",
    "    results = []\n",
    "\n",
    "    X_split_train, X_split_test, y_split_train, y_split_test = train_test_split(\n",
    "        X_orig, y_orig, test_size=0.33, random_state=42\n",
    "    )\n",
    "    for model in models:\n",
    "        for modelParameters in model[\"parameters\"]:\n",
    "\n",
    "            for featureSelector in featureSelectors:\n",
    "                for featureSelectorParameters in featureSelector[\"parameters\"]:\n",
    "\n",
    "                    clf = Pipeline(\n",
    "                        [\n",
    "                            (\n",
    "                                \"feature_selection\",\n",
    "                                getFeatureSelector(\n",
    "                                    featureSelector[\"model\"], featureSelectorParameters\n",
    "                                ),\n",
    "                            ),\n",
    "                            (\n",
    "                                \"classification\",\n",
    "                                getModel(model[\"model\"], modelParameters),\n",
    "                            ),\n",
    "                        ]\n",
    "                    )\n",
    "                    # X_new = selector.fit_transform(X_orig, y_orig)\n",
    "\n",
    "                    result = performExperiment(\n",
    "                        X_train=X_split_train,\n",
    "                        y_train=y_split_train,\n",
    "                        X_test=X_split_test,\n",
    "                        y_test=y_split_test,\n",
    "                        model=clf,\n",
    "                    )\n",
    "\n",
    "                    results.append(\n",
    "                        [\n",
    "                            result,\n",
    "                            model[\"model\"].name,\n",
    "                            modelParameters,\n",
    "                            featureSelector[\"model\"].name,\n",
    "                            featureSelectorParameters,\n",
    "                        ]\n",
    "                    )\n",
    "    return results"
   ]
  },
  {
   "cell_type": "markdown",
   "metadata": {},
   "source": [
    "## Results processing"
   ]
  },
  {
   "cell_type": "code",
   "execution_count": 477,
   "metadata": {},
   "outputs": [],
   "source": [
    "def flattenArray(array):\n",
    "    \"\"\"Convert list of lists to a flat list\"\"\"\n",
    "    return [element for list in array for element in list]"
   ]
  },
  {
   "cell_type": "code",
   "execution_count": 478,
   "metadata": {},
   "outputs": [],
   "source": [
    "def processParameter(parameter):\n",
    "    \"\"\"Returns proper name of a paramter\n",
    "\n",
    "    Some paramters (i.e. functions) need to be processed\n",
    "    by extracting their name as str\n",
    "    \"\"\"\n",
    "    if hasattr(parameter, \"__name__\"):\n",
    "        return parameter.__name__\n",
    "    else:\n",
    "        return parameter"
   ]
  },
  {
   "cell_type": "code",
   "execution_count": 479,
   "metadata": {},
   "outputs": [],
   "source": [
    "def getParameterName(column, parameter):\n",
    "    \"\"\"Helper function returns a new name for parameter to avoid collisions\"\"\"\n",
    "    return column + \"_\" + parameter"
   ]
  },
  {
   "cell_type": "code",
   "execution_count": 480,
   "metadata": {},
   "outputs": [],
   "source": [
    "def extractParamterInformation(df, parameterColumnName, parameterName):\n",
    "    \"\"\"\n",
    "    Extract information about certain parameter and include it with\n",
    "    the dataframe as a separate column in a format parameterColumnName+\"_\"+parameterName\n",
    "    to avoid conflicts between model parameters and feature selector parameters\n",
    "    MODIFIES THE PROVIDED DF\n",
    "    \"\"\"\n",
    "\n",
    "    df[getParameterName(parameterColumnName, parameterName)] = df.apply(\n",
    "        lambda x: (\n",
    "            processParameter(x[parameterColumnName][parameterName])\n",
    "            if parameterName in x[parameterColumnName].keys()\n",
    "            else pd.NA\n",
    "        ),\n",
    "        axis=1,\n",
    "    )"
   ]
  },
  {
   "cell_type": "code",
   "execution_count": 481,
   "metadata": {},
   "outputs": [],
   "source": [
    "def extractParameterResults(resultsDf, models, featureSelectors):\n",
    "    \"\"\"Extract parameters from results for further results processing\n",
    "\n",
    "    Prepares resulting parameters for further processing and appends\n",
    "    resultsDf with columns corresponding to said parameters\n",
    "    returns new dataframe and parameters\n",
    "    \"\"\"\n",
    "\n",
    "    parameterName = []\n",
    "    for featureSelector in featureSelectors:\n",
    "        parameterName.append(list(featureSelector[\"parameters\"][0].keys()))\n",
    "    parameterName = list(set(flattenArray(parameterName)))\n",
    "\n",
    "    parameterColumnName = [\"selector_parameters\"]\n",
    "\n",
    "    parameters = generateParameters([parameterName, parameterColumnName], locals())\n",
    "\n",
    "    parameterName = []\n",
    "    for model in models:\n",
    "        parameterName.append(list(model[\"parameters\"][0].keys()))\n",
    "    parameterName = list(set(flattenArray(parameterName)))\n",
    "    parameterColumnName = [\"model_parameters\"]\n",
    "\n",
    "    parameters = parameters + generateParameters(\n",
    "        [parameterName, parameterColumnName], locals()\n",
    "    )\n",
    "    newDf = resultsDf.copy()\n",
    "    for parameter in parameters:\n",
    "        extractParamterInformation(newDf, **parameter)\n",
    "    return newDf, parameters"
   ]
  },
  {
   "cell_type": "code",
   "execution_count": 482,
   "metadata": {},
   "outputs": [],
   "source": [
    "def drawParameterResultsBoxplot(resultsDf, parameters):\n",
    "    \"\"\"Draw boxplots of how different parameters affect the score\"\"\"\n",
    "    for parameter in parameters:\n",
    "        grouped = resultsDf.groupby(\"feature_selector\")\n",
    "        for name, group in grouped:\n",
    "            groupOnlyNa = group[group.isnull().any(axis=1)]\n",
    "            group = group.dropna()\n",
    "\n",
    "            if group.shape[0] > 0:\n",
    "                plt.title(\n",
    "                    \"Score by \" + str(parameter[\"parameterName\"]) + \" for \" + name\n",
    "                )\n",
    "                sns.boxplot(\n",
    "                    data=group.reset_index(),\n",
    "                    x=\"model\",\n",
    "                    y=\"score\",\n",
    "                    hue=getParameterName(\n",
    "                        parameter[\"parameterColumnName\"], parameter[\"parameterName\"]\n",
    "                    ),\n",
    "                )\n",
    "                plt.show()\n",
    "            if groupOnlyNa.shape[0] > 0:\n",
    "                plt.title(\"Score for \" + name)\n",
    "                sns.boxplot(\n",
    "                    data=groupOnlyNa.reset_index(),\n",
    "                    x=\"model\",\n",
    "                    y=\"score\",\n",
    "                )\n",
    "                plt.show()"
   ]
  },
  {
   "cell_type": "code",
   "execution_count": 483,
   "metadata": {},
   "outputs": [],
   "source": [
    "def drawParameterResultsBarplot(resultsDf, parameters):\n",
    "    \"\"\"Draw barplits of how different parameters affect the score\"\"\"\n",
    "    for parameter in parameters:\n",
    "\n",
    "        if parameter[\"parameterColumnName\"] == RESULTS_COLUMNS[4]:\n",
    "            plt.title(\"Score for parameter \" + parameter[\"parameterName\"])\n",
    "            sns.barplot(\n",
    "                data=resultsDf,\n",
    "                x=\"model\",\n",
    "                y=\"score\",\n",
    "                hue=resultsDf[\n",
    "                    [\n",
    "                        \"feature_selector\",\n",
    "                        getParameterName(\n",
    "                            parameter[\"parameterColumnName\"], parameter[\"parameterName\"]\n",
    "                        ),\n",
    "                    ]\n",
    "                ].apply(tuple, axis=1),\n",
    "            )\n",
    "            plt.show()\n",
    "        else:\n",
    "            plt.title(\"Score for parameter \" + parameter[\"parameterName\"])\n",
    "            sns.barplot(\n",
    "                data=resultsDf,\n",
    "                x=\"feature_selector\",\n",
    "                y=\"score\",\n",
    "                hue=resultsDf[\n",
    "                    [\n",
    "                        \"model\",\n",
    "                        getParameterName(\n",
    "                            parameter[\"parameterColumnName\"], parameter[\"parameterName\"]\n",
    "                        ),\n",
    "                    ]\n",
    "                ].apply(tuple, axis=1),\n",
    "            )\n",
    "            plt.show()"
   ]
  },
  {
   "cell_type": "code",
   "execution_count": 484,
   "metadata": {},
   "outputs": [],
   "source": [
    "def filterDataframeByBestResultsForFeatureSelectors(resultsDf):\n",
    "    \"\"\"Extracts best results for each parameter for final comparison of feature selectors\n",
    "    Returns a dataframe containing only the best results\n",
    "    \"\"\"\n",
    "    filteredDf = resultsDf.copy()\n",
    "\n",
    "    filteredDf = filteredDf.loc[\n",
    "        filteredDf.groupby(\"feature_selector\")[\"score\"].idxmax()\n",
    "    ]\n",
    "    return filteredDf"
   ]
  },
  {
   "cell_type": "code",
   "execution_count": 485,
   "metadata": {},
   "outputs": [],
   "source": [
    "def filterDataframeByBestResultsForModels(resultsDf):\n",
    "    \"\"\"Extracts best results for each parameter for final comparison of models\n",
    "    Returns a dataframe containing only the best results\n",
    "    \"\"\"\n",
    "    filteredDf = resultsDf.copy()\n",
    "\n",
    "    filteredDf = filteredDf.loc[filteredDf.groupby(\"model\")[\"score\"].idxmax()]\n",
    "    return filteredDf"
   ]
  },
  {
   "cell_type": "code",
   "execution_count": 486,
   "metadata": {},
   "outputs": [],
   "source": [
    "def filterDataframeByBestResults(resultsDf):\n",
    "    \"\"\"Extracts best results for each parameter for final comparison\n",
    "    Returns a dataframe containing only the best results\n",
    "    \"\"\"\n",
    "    filteredDf = resultsDf.copy()\n",
    "    filteredDf = filteredDf.loc[\n",
    "        filteredDf.groupby(\"feature_selector\")[\"score\"].idxmax()\n",
    "    ]\n",
    "    filteredDf = filteredDf.loc[filteredDf.groupby(\"model\")[\"score\"].idxmax()]\n",
    "    return filteredDf"
   ]
  },
  {
   "cell_type": "markdown",
   "metadata": {},
   "source": [
    "# Load Data"
   ]
  },
  {
   "cell_type": "markdown",
   "metadata": {},
   "source": [
    "load the training and test data in a format specified by task description"
   ]
  },
  {
   "cell_type": "code",
   "execution_count": 487,
   "metadata": {},
   "outputs": [],
   "source": [
    "with open(\"./Dataset/x_test.txt\") as file:\n",
    "    X_test = [[float(digit) for digit in line.split()] for line in file]\n",
    "\n",
    "\n",
    "with open(\"./Dataset/x_train.txt\") as file:\n",
    "    X_train = [[float(digit) for digit in line.split()] for line in file]\n",
    "\n",
    "\n",
    "with open(\"./Dataset/y_train.txt\") as file:\n",
    "    y_train = [[float(digit) for digit in line.split()] for line in file]"
   ]
  },
  {
   "cell_type": "markdown",
   "metadata": {},
   "source": [
    "In the X_test there are 500 features and 5000 observations, y_train contains 5000 values, X_train contains 500 features and 5000 observations"
   ]
  },
  {
   "cell_type": "code",
   "execution_count": 488,
   "metadata": {},
   "outputs": [
    {
     "name": "stdout",
     "output_type": "stream",
     "text": [
      "X_test datapoints: 5000  features: 500\n",
      "X_train datapoints: 5000  features: 500\n",
      "y_train datapoints: 5000\n"
     ]
    }
   ],
   "source": [
    "print(\"X_test datapoints:\", len(X_test), \" features:\", len(X_test[0]))\n",
    "print(\"X_train datapoints:\", len(X_train), \" features:\", len(X_train[0]))\n",
    "print(\"y_train datapoints:\", len(y_train))"
   ]
  },
  {
   "cell_type": "markdown",
   "metadata": {},
   "source": [
    "# Batch 1"
   ]
  },
  {
   "cell_type": "markdown",
   "metadata": {},
   "source": [
    "## Consts"
   ]
  },
  {
   "cell_type": "code",
   "execution_count": 489,
   "metadata": {},
   "outputs": [],
   "source": [
    "RESULTS_FILENAME = \"./Results/results-1\""
   ]
  },
  {
   "cell_type": "markdown",
   "metadata": {},
   "source": [
    "## Experiment"
   ]
  },
  {
   "cell_type": "markdown",
   "metadata": {},
   "source": [
    "### Parameters"
   ]
  },
  {
   "cell_type": "code",
   "execution_count": 490,
   "metadata": {},
   "outputs": [],
   "source": [
    "# TODO: Create parameter arrays\n",
    "\n",
    "# LDA\n",
    "solver = [\"svd\", \"lsqr\"]\n",
    "ldaParameters = generateParameters([solver], globals())\n",
    "\n",
    "# QDA\n",
    "\n",
    "\n",
    "models = [\n",
    "    {\"model\": ModelType.LDA, \"parameters\": ldaParameters},\n",
    "    {\"model\": ModelType.QDA, \"parameters\": [{}]},\n",
    "]"
   ]
  },
  {
   "cell_type": "code",
   "execution_count": 491,
   "metadata": {},
   "outputs": [],
   "source": [
    "# TODO: Create parameter arrays\n",
    "\n",
    "# KBest\n",
    "k = [5, 10, 20, 40, 80]\n",
    "score_func = [f_classif, mutual_info_classif]\n",
    "kBestParameters = generateParameters([score_func, k], globals())\n",
    "\n",
    "\n",
    "featureSelectors = [\n",
    "    {\"model\": FeatureSelectorType.NoFeatureSelection, \"parameters\": [{}]},\n",
    "    {\"model\": FeatureSelectorType.KBest, \"parameters\": kBestParameters},\n",
    "]"
   ]
  },
  {
   "cell_type": "markdown",
   "metadata": {},
   "source": [
    "### Conducting the experiment"
   ]
  },
  {
   "cell_type": "code",
   "execution_count": 492,
   "metadata": {},
   "outputs": [],
   "source": [
    "y_train = np.ravel(y_train, order=\"C\")"
   ]
  },
  {
   "cell_type": "code",
   "execution_count": 493,
   "metadata": {},
   "outputs": [
    {
     "name": "stderr",
     "output_type": "stream",
     "text": [
      "c:\\Users\\Patryk\\Repos\\advml-proj-2\\.venv\\Lib\\site-packages\\sklearn\\discriminant_analysis.py:935: UserWarning: Variables are collinear\n",
      "  warnings.warn(\"Variables are collinear\")\n"
     ]
    },
    {
     "name": "stdout",
     "output_type": "stream",
     "text": [
      "CPU times: total: 1min 44s\n",
      "Wall time: 2min 11s\n"
     ]
    }
   ],
   "source": [
    "%%time\n",
    "results = conductExperiments(\n",
    "    models=models, featureSelectors=featureSelectors, X_orig=X_train, y_orig=y_train\n",
    ")\n",
    "with open(RESULTS_FILENAME, \"wb\") as f:\n",
    "    pickle.dump(results, f)"
   ]
  },
  {
   "cell_type": "markdown",
   "metadata": {},
   "source": [
    "## Results"
   ]
  },
  {
   "cell_type": "code",
   "execution_count": 494,
   "metadata": {},
   "outputs": [],
   "source": [
    "with open(RESULTS_FILENAME, \"rb\") as input_file:\n",
    "    results = pickle.load(input_file)"
   ]
  },
  {
   "cell_type": "code",
   "execution_count": 495,
   "metadata": {},
   "outputs": [],
   "source": [
    "resultsDf = pd.DataFrame(\n",
    "    results,\n",
    "    columns=RESULTS_COLUMNS,\n",
    ")"
   ]
  },
  {
   "cell_type": "markdown",
   "metadata": {},
   "source": [
    "### Detailed Results"
   ]
  },
  {
   "cell_type": "code",
   "execution_count": 496,
   "metadata": {},
   "outputs": [
    {
     "data": {
      "image/png": "[encoded data removed]",
      "text/plain": [
       "<Figure size 640x480 with 1 Axes>"
      ]
     },
     "metadata": {},
     "output_type": "display_data"
    },
    {
     "data": {
      "image/png": "[encoded data removed]",
      "text/plain": [
       "<Figure size 640x480 with 1 Axes>"
      ]
     },
     "metadata": {},
     "output_type": "display_data"
    },
    {
     "data": {
      "image/png": "[encoded data removed]",
      "text/plain": [
       "<Figure size 640x480 with 1 Axes>"
      ]
     },
     "metadata": {},
     "output_type": "display_data"
    },
    {
     "name": "stdout",
     "output_type": "stream",
     "text": [
      "CPU times: total: 891 ms\n",
      "Wall time: 1.59 s\n"
     ]
    }
   ],
   "source": [
    "%%time\n",
    "processedResultsDf, parameters = extractParameterResults(\n",
    "    resultsDf, models, featureSelectors\n",
    ")\n",
    "drawParameterResultsBarplot(processedResultsDf, parameters)"
   ]
  },
  {
   "cell_type": "markdown",
   "metadata": {},
   "source": [
    "### Final Results for Feature Selectors"
   ]
  },
  {
   "cell_type": "code",
   "execution_count": 497,
   "metadata": {},
   "outputs": [
    {
     "name": "stdout",
     "output_type": "stream",
     "text": [
      "CPU times: total: 0 ns\n",
      "Wall time: 0 ns\n"
     ]
    }
   ],
   "source": [
    "%%time\n",
    "filteredDf = filterDataframeByBestResultsForFeatureSelectors(processedResultsDf)"
   ]
  },
  {
   "cell_type": "code",
   "execution_count": 498,
   "metadata": {},
   "outputs": [
    {
     "data": {
      "image/png": "[encoded data removed]",
      "text/plain": [
       "<Figure size 640x480 with 1 Axes>"
      ]
     },
     "metadata": {},
     "output_type": "display_data"
    }
   ],
   "source": [
    "plt.title(\"Final comparison of feature selectors\")\n",
    "sns.barplot(data=filteredDf, x=\"feature_selector\", y=\"score\")\n",
    "plt.show()"
   ]
  },
  {
   "cell_type": "markdown",
   "metadata": {},
   "source": [
    "### Final Results for Models"
   ]
  },
  {
   "cell_type": "code",
   "execution_count": 499,
   "metadata": {},
   "outputs": [
    {
     "name": "stdout",
     "output_type": "stream",
     "text": [
      "CPU times: total: 0 ns\n",
      "Wall time: 0 ns\n"
     ]
    }
   ],
   "source": [
    "%%time\n",
    "filteredDf = filterDataframeByBestResultsForModels(processedResultsDf)"
   ]
  },
  {
   "cell_type": "code",
   "execution_count": 500,
   "metadata": {},
   "outputs": [
    {
     "data": {
      "image/png": "[encoded data removed]",
      "text/plain": [
       "<Figure size 640x480 with 1 Axes>"
      ]
     },
     "metadata": {},
     "output_type": "display_data"
    }
   ],
   "source": [
    "plt.title(\"Final comparison of models\")\n",
    "sns.barplot(data=filteredDf, x=\"model\", y=\"score\")\n",
    "plt.show()"
   ]
  },
  {
   "cell_type": "markdown",
   "metadata": {},
   "source": [
    "### Final Results"
   ]
  },
  {
   "cell_type": "code",
   "execution_count": 501,
   "metadata": {},
   "outputs": [
    {
     "name": "stdout",
     "output_type": "stream",
     "text": [
      "CPU times: total: 0 ns\n",
      "Wall time: 0 ns\n"
     ]
    }
   ],
   "source": [
    "%%time\n",
    "filteredDf = filterDataframeByBestResults(processedResultsDf)"
   ]
  },
  {
   "cell_type": "code",
   "execution_count": 502,
   "metadata": {},
   "outputs": [
    {
     "data": {
      "image/png": "[encoded data removed]",
      "text/plain": [
       "<Figure size 640x480 with 1 Axes>"
      ]
     },
     "metadata": {},
     "output_type": "display_data"
    }
   ],
   "source": [
    "plt.title(\"Final best results\")\n",
    "sns.barplot(data=filteredDf, x=\"model\", y=\"score\", hue=\"feature_selector\")\n",
    "plt.show()"
   ]
  }
 ],
 "metadata": {
  "kernelspec": {
   "display_name": "Python 3",
   "language": "python",
   "name": "python3"
  },
  "language_info": {
   "codemirror_mode": {
    "name": "ipython",
    "version": 3
   },
   "file_extension": ".py",
   "mimetype": "text/x-python",
   "name": "python",
   "nbconvert_exporter": "python",
   "pygments_lexer": "ipython3",
   "version": "3.12.2"
  }
 },
 "nbformat": 4,
 "nbformat_minor": 2
}
