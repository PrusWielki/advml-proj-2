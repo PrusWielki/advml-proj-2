{
 "cells": [
  {
   "cell_type": "markdown",
   "metadata": {},
   "source": [
    "# Notes\n",
    "\n",
    "Emm I read the pdf and it's a bit hard to split this project into tasks tbh. From what I understood the goal, in short, is to achieve the best possible accuracy with least amount of features used. Whereas there is some reward for higher accuracy and penalty for number of features used so we need to find a proper balance. 5 different approaches should be used. It is a binary classification task. So I think we could:\n",
    "\n",
    "1. Find some best candidates methods for binary classification tasks with numeric features.\n",
    "2. One approach would be to iterate over the number of features starting from 1 (xd) and find the number that achieves the best score for each of the chosen methods\n",
    "3. We could also do some feature selection methods and try to find the best number of features that way.\n",
    "4. We could do some ensembling, maybe combining  models from the above"
   ]
  },
  {
   "cell_type": "markdown",
   "metadata": {},
   "source": [
    "# TODO:\n",
    "\n",
    "1. Find some good candidates for binary classification including ensembles\n",
    "    1. 5 different models\n",
    "2. Write a pipeline for testing and analysis of the results\n",
    "3. Write the report\n",
    "4. Prepare the presentation"
   ]
  },
  {
   "cell_type": "code",
   "execution_count": 25,
   "metadata": {},
   "outputs": [],
   "source": [
    "import pickle"
   ]
  },
  {
   "cell_type": "markdown",
   "metadata": {},
   "source": [
    "# Load Data"
   ]
  },
  {
   "cell_type": "code",
   "execution_count": 4,
   "metadata": {},
   "outputs": [],
   "source": [
    "with open('./Dataset/x_test.txt') as file:\n",
    "    X_test = [[float(digit) for digit in line.split()] for line in file]\n",
    "\n",
    "\n",
    "with open('./Dataset/x_train.txt') as file:\n",
    "    X_train = [[float(digit) for digit in line.split()] for line in file]\n",
    "\n",
    "\n",
    "with open('./Dataset/y_train.txt') as file:\n",
    "    y_train = [[float(digit) for digit in line.split()] for line in file]\n",
    "\n"
   ]
  },
  {
   "cell_type": "markdown",
   "metadata": {},
   "source": [
    "## In the X_test there are 500 features and 5000 observations, y_train contains 5000 values, X_train contains 500 features and 5000 observations"
   ]
  },
  {
   "cell_type": "code",
   "execution_count": 16,
   "metadata": {},
   "outputs": [
    {
     "name": "stdout",
     "output_type": "stream",
     "text": [
      "X_test datapoints: 5000  features: 500\n",
      "X_train datapoints: 5000  features: 500\n",
      "y_train datapoints: 5000\n"
     ]
    }
   ],
   "source": [
    "print('X_test datapoints:',len(X_test),\" features:\",len(X_test[0]))\n",
    "print('X_train datapoints:',len(X_train),\" features:\",len(X_train[0]))\n",
    "print('y_train datapoints:',len(y_train))\n"
   ]
  },
  {
   "cell_type": "markdown",
   "metadata": {},
   "source": [
    "# Experiment"
   ]
  },
  {
   "cell_type": "markdown",
   "metadata": {},
   "source": [
    "## Models"
   ]
  },
  {
   "cell_type": "code",
   "execution_count": 27,
   "metadata": {},
   "outputs": [],
   "source": [
    "# TODO: Put here at least 5 different models, which can be including ensembles\n",
    "models = []\n",
    "# TODO: Put here corresponding model names, names You would like to see on charts etc\n",
    "modelNames = ['xd']\n",
    "# TODO: Put here selection techniques (Can be the same as in data exploration project 4 (I will do it - Patryk))\n",
    "featureSelectors=[]\n",
    "featureSelectorsNames=['xd']"
   ]
  },
  {
   "cell_type": "markdown",
   "metadata": {},
   "source": [
    "# Parameters"
   ]
  },
  {
   "cell_type": "code",
   "execution_count": 31,
   "metadata": {},
   "outputs": [],
   "source": [
    "# TODO: Put here model parameters in the following format\n",
    "modelParameters=[{str(modelNames[0]):{'param1':5}}]\n",
    "# TODO: A dictionary with experiment function parameters (maybe things such as number of repetitions, maybe some parameters for )\n",
    "experimentParameters = [{\"param1\":5}]\n",
    "# TODO: Feature selector parameters\n",
    "featureSelectorsParameters=[{str(featureSelectorsNames[0]):{'param1':5}}]"
   ]
  },
  {
   "cell_type": "markdown",
   "metadata": {},
   "source": [
    "## Main experiment loop"
   ]
  },
  {
   "cell_type": "code",
   "execution_count": 32,
   "metadata": {},
   "outputs": [],
   "source": [
    "def performExperiment(param1):\n",
    "    return 1"
   ]
  },
  {
   "cell_type": "markdown",
   "metadata": {},
   "source": [
    "## Conducting the experiment"
   ]
  },
  {
   "cell_type": "code",
   "execution_count": 33,
   "metadata": {},
   "outputs": [],
   "source": [
    "for parameters in experimentParameters:\n",
    "    results = performExperiment(**parameters)\n",
    "with open(\"./Results/results\", \"wb\") as f:\n",
    "    pickle.dump(results, f)"
   ]
  },
  {
   "cell_type": "markdown",
   "metadata": {},
   "source": [
    "# Results"
   ]
  },
  {
   "cell_type": "code",
   "execution_count": null,
   "metadata": {},
   "outputs": [],
   "source": [
    "with open(r\"./Results/results\", \"rb\") as input_file:\n",
    "     results = pickle.load(input_file)"
   ]
  },
  {
   "cell_type": "markdown",
   "metadata": {},
   "source": [
    "# TODO: Process the results, some charts etc, maybe some correlations, line plots etc"
   ]
  }
 ],
 "metadata": {
  "kernelspec": {
   "display_name": "Python 3",
   "language": "python",
   "name": "python3"
  },
  "language_info": {
   "codemirror_mode": {
    "name": "ipython",
    "version": 3
   },
   "file_extension": ".py",
   "mimetype": "text/x-python",
   "name": "python",
   "nbconvert_exporter": "python",
   "pygments_lexer": "ipython3",
   "version": "3.12.2"
  }
 },
 "nbformat": 4,
 "nbformat_minor": 2
}
