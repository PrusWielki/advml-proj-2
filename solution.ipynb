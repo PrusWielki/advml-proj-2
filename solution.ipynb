{
 "cells": [
  {
   "cell_type": "markdown",
   "metadata": {},
   "source": [
    "# TODO:\n",
    "\n",
    "1. Find some good candidates for binary classification including ensembles\n",
    "    1. 5 different models\n",
    "2. Write a pipeline for testing and analysis of the results\n",
    "3. Create code documentation :)\n",
    "4. Maybe extract the functions to separate .py to make the notebook cleaner\n",
    "3. Write the report\n",
    "4. Prepare the presentation"
   ]
  },
  {
   "cell_type": "markdown",
   "metadata": {},
   "source": [
    "# Imports and Consts"
   ]
  },
  {
   "cell_type": "code",
   "execution_count": 82,
   "metadata": {},
   "outputs": [],
   "source": [
    "import pickle\n",
    "from sklearn.discriminant_analysis import (\n",
    "    LinearDiscriminantAnalysis,\n",
    "    QuadraticDiscriminantAnalysis,\n",
    ")\n",
    "from sklearn.tree import DecisionTreeClassifier\n",
    "import numpy as np\n",
    "import pandas as pd\n",
    "from sklearn.model_selection import train_test_split\n",
    "import itertools\n",
    "from enum import Enum\n",
    "from sklearn.feature_selection import f_classif\n",
    "from sklearn.feature_selection import SelectKBest\n",
    "import seaborn as sns"
   ]
  },
  {
   "cell_type": "markdown",
   "metadata": {},
   "source": [
    "# Functions"
   ]
  },
  {
   "cell_type": "markdown",
   "metadata": {},
   "source": [
    "## Generate parameters\n",
    "\n",
    "- takes any number of arrays and returns an array of dictionaries with keys as array names and values, all possible combinations"
   ]
  },
  {
   "cell_type": "code",
   "execution_count": 54,
   "metadata": {},
   "outputs": [],
   "source": [
    "# Get name of a variable as string\n",
    "def namestr(obj, namespace):\n",
    "    return [name for name in namespace if namespace[name] is obj]"
   ]
  },
  {
   "cell_type": "code",
   "execution_count": 55,
   "metadata": {},
   "outputs": [],
   "source": [
    "def generateParameters(arrays):\n",
    "    allCombinations = list(itertools.product(*arrays))\n",
    "    allCombinations = [list(elem) for elem in allCombinations]\n",
    "    arrayNames = []\n",
    "    for array in arrays:\n",
    "        arrayNames.append(namestr(array, globals())[0])\n",
    "    return [dict(zip(arrayNames, value)) for value in allCombinations]"
   ]
  },
  {
   "cell_type": "markdown",
   "metadata": {},
   "source": [
    "- example usage, create arrays with parameters (their names should be the same as desired parameter names), pass them in an array to generateParamters function"
   ]
  },
  {
   "cell_type": "code",
   "execution_count": 56,
   "metadata": {},
   "outputs": [
    {
     "data": {
      "text/plain": [
       "[{'arr1': 1, 'arr2': 3},\n",
       " {'arr1': 1, 'arr2': 4},\n",
       " {'arr1': 1, 'arr2': 8},\n",
       " {'arr1': 2, 'arr2': 3},\n",
       " {'arr1': 2, 'arr2': 4},\n",
       " {'arr1': 2, 'arr2': 8},\n",
       " {'arr1': 7, 'arr2': 3},\n",
       " {'arr1': 7, 'arr2': 4},\n",
       " {'arr1': 7, 'arr2': 8}]"
      ]
     },
     "execution_count": 56,
     "metadata": {},
     "output_type": "execute_result"
    }
   ],
   "source": [
    "arr1 = [1, 2, 7]\n",
    "arr2 = [3, 4, 8]\n",
    "generateParameters([arr1, arr2])"
   ]
  },
  {
   "cell_type": "markdown",
   "metadata": {},
   "source": [
    "## Experiment process"
   ]
  },
  {
   "cell_type": "markdown",
   "metadata": {},
   "source": [
    "Scoring function, based on which, the best model is selected. Score is calculated according to task description: +10 points for each correctly classified positive class, -200 points for each feature used"
   ]
  },
  {
   "cell_type": "code",
   "execution_count": 57,
   "metadata": {},
   "outputs": [],
   "source": [
    "def getScore(y_true, y_pred, featuresUsed):\n",
    "    score = 0\n",
    "    correct = 0\n",
    "    for i, y in enumerate(y_true):\n",
    "        if y == y_pred[i]:\n",
    "            correct += 1\n",
    "    score = 10 * correct - 200 * featuresUsed\n",
    "    return score"
   ]
  },
  {
   "cell_type": "markdown",
   "metadata": {},
   "source": [
    "Main experiment loop, each chosen classifier is tested with different methods of feature selection and different parameters"
   ]
  },
  {
   "cell_type": "code",
   "execution_count": 58,
   "metadata": {},
   "outputs": [],
   "source": [
    "def performExperiment(X_train, y_train, X_test, y_test, model):\n",
    "    model.fit(X_train, y_train)\n",
    "    y_pred = model.predict(X_test)\n",
    "    finalResult = getScore(y_test, y_pred, len(X_train[0]))\n",
    "    # Take only 1000 of the highest class 1 probabilities\n",
    "    # TODO: Turn it into a dataframe and keep track of the indexes\n",
    "    # finalResult = np.sort(result[:, 1])[::-1][:1000]\n",
    "\n",
    "    return finalResult"
   ]
  },
  {
   "cell_type": "markdown",
   "metadata": {},
   "source": [
    "## Model helpers"
   ]
  },
  {
   "cell_type": "markdown",
   "metadata": {},
   "source": [
    "- definition of available models and feature selection methods\n",
    "\n",
    "- getters for models and feature selection methods"
   ]
  },
  {
   "cell_type": "code",
   "execution_count": 59,
   "metadata": {},
   "outputs": [],
   "source": [
    "class ModelType(Enum):\n",
    "    LDA = 0\n",
    "    QDA = 1\n",
    "    DecisionTree = 2"
   ]
  },
  {
   "cell_type": "code",
   "execution_count": 60,
   "metadata": {},
   "outputs": [],
   "source": [
    "def getModel(modelType, arguments):\n",
    "    match modelType:\n",
    "        case ModelType.LDA:\n",
    "            return LinearDiscriminantAnalysis(**arguments)\n",
    "        case ModelType.QDA:\n",
    "            return QuadraticDiscriminantAnalysis(**arguments)\n",
    "        case ModelType.DecisionTree:\n",
    "            return DecisionTreeClassifier(**arguments)"
   ]
  },
  {
   "cell_type": "code",
   "execution_count": 61,
   "metadata": {},
   "outputs": [],
   "source": [
    "class FeatureSelectorType(Enum):\n",
    "    NoFeatureSelection = 0\n",
    "    KBest = 1"
   ]
  },
  {
   "cell_type": "code",
   "execution_count": 73,
   "metadata": {},
   "outputs": [],
   "source": [
    "class NoFeatureSelection:\n",
    "    def fit_transform(self, X, y):\n",
    "        return X"
   ]
  },
  {
   "cell_type": "code",
   "execution_count": 63,
   "metadata": {},
   "outputs": [],
   "source": [
    "def getFeatureSelector(selectorType, arguments):\n",
    "    match selectorType:\n",
    "        case FeatureSelectorType.NoFeatureSelection:\n",
    "            return NoFeatureSelection(**arguments)\n",
    "        case FeatureSelectorType.KBest:\n",
    "            return SelectKBest(**arguments)"
   ]
  },
  {
   "cell_type": "markdown",
   "metadata": {},
   "source": [
    "# Load Data"
   ]
  },
  {
   "cell_type": "markdown",
   "metadata": {},
   "source": [
    "load the training and test data in a format specified by task description"
   ]
  },
  {
   "cell_type": "code",
   "execution_count": 64,
   "metadata": {},
   "outputs": [],
   "source": [
    "with open(\"./Dataset/x_test.txt\") as file:\n",
    "    X_test = [[float(digit) for digit in line.split()] for line in file]\n",
    "\n",
    "\n",
    "with open(\"./Dataset/x_train.txt\") as file:\n",
    "    X_train = [[float(digit) for digit in line.split()] for line in file]\n",
    "\n",
    "\n",
    "with open(\"./Dataset/y_train.txt\") as file:\n",
    "    y_train = [[float(digit) for digit in line.split()] for line in file]"
   ]
  },
  {
   "cell_type": "markdown",
   "metadata": {},
   "source": [
    "In the X_test there are 500 features and 5000 observations, y_train contains 5000 values, X_train contains 500 features and 5000 observations"
   ]
  },
  {
   "cell_type": "code",
   "execution_count": 65,
   "metadata": {},
   "outputs": [
    {
     "name": "stdout",
     "output_type": "stream",
     "text": [
      "X_test datapoints: 5000  features: 500\n",
      "X_train datapoints: 5000  features: 500\n",
      "y_train datapoints: 5000\n"
     ]
    }
   ],
   "source": [
    "print(\"X_test datapoints:\", len(X_test), \" features:\", len(X_test[0]))\n",
    "print(\"X_train datapoints:\", len(X_train), \" features:\", len(X_train[0]))\n",
    "print(\"y_train datapoints:\", len(y_train))"
   ]
  },
  {
   "cell_type": "markdown",
   "metadata": {},
   "source": [
    "# Experiment"
   ]
  },
  {
   "cell_type": "markdown",
   "metadata": {},
   "source": [
    "## Parameters"
   ]
  },
  {
   "cell_type": "code",
   "execution_count": 66,
   "metadata": {},
   "outputs": [],
   "source": [
    "# TODO: Create parameter arrays\n",
    "\n",
    "# LDA\n",
    "solver = [\"svd\"]\n",
    "ldaParameters = generateParameters([solver])\n",
    "\n",
    "\n",
    "models = [{\"model\": ModelType.LDA, \"parameters\": ldaParameters}]"
   ]
  },
  {
   "cell_type": "code",
   "execution_count": 68,
   "metadata": {},
   "outputs": [],
   "source": [
    "score_func = [f_classif]\n",
    "k = [5, 10, 20, 40, 80]\n",
    "kBestParameters = generateParameters([score_func, k])\n",
    "\n",
    "featureSelectors = [\n",
    "    {\"model\": FeatureSelectorType.NoFeatureSelection, \"parameters\": [{}]},\n",
    "    {\"model\": FeatureSelectorType.KBest, \"parameters\": kBestParameters},\n",
    "]"
   ]
  },
  {
   "cell_type": "markdown",
   "metadata": {},
   "source": [
    "## Main experiment loop"
   ]
  },
  {
   "cell_type": "markdown",
   "metadata": {},
   "source": [
    "1. for now just do one train test split\n",
    "2. For each of the models:\n",
    "    1. For each of the feature selectors:\n",
    "        1. Calculate the score of the given combination of model+feature selector based on the +10 for each correct prediction and -200 for each feature used.\n"
   ]
  },
  {
   "cell_type": "markdown",
   "metadata": {},
   "source": [
    "## Conducting the experiment"
   ]
  },
  {
   "cell_type": "code",
   "execution_count": 89,
   "metadata": {},
   "outputs": [],
   "source": [
    "y_train = np.ravel(y_train, order=\"C\")"
   ]
  },
  {
   "cell_type": "code",
   "execution_count": 90,
   "metadata": {},
   "outputs": [
    {
     "name": "stdout",
     "output_type": "stream",
     "text": [
      "CPU times: total: 2.73 s\n",
      "Wall time: 1.92 s\n"
     ]
    }
   ],
   "source": [
    "%%time\n",
    "results=[]\n",
    "for model in models:\n",
    "    for modelParameters in model['parameters']:\n",
    "        \n",
    "\n",
    "        for featureSelector in featureSelectors:\n",
    "            for featureSelectorParameters in featureSelector['parameters']:\n",
    "                selector=getFeatureSelector(featureSelector[\"model\"],featureSelectorParameters)\n",
    "                X_new=selector.fit_transform(X_train,y_train)\n",
    "\n",
    "                X_split_train, X_split_test, y_split_train, y_split_test = train_test_split(X_new, y_train, test_size=0.33, random_state=42)\n",
    "\n",
    "                result = performExperiment(X_train=X_split_train, y_train=y_split_train, X_test=X_split_test, \n",
    "                y_test=y_split_test, model=getModel(model['model'], modelParameters))\n",
    "\n",
    "                results.append([result,model['model'].name,modelParameters,featureSelector[\"model\"].name,featureSelectorParameters])\n",
    "with open(\"./Results/results\", \"wb\") as f:\n",
    "    pickle.dump(results, f)"
   ]
  },
  {
   "cell_type": "code",
   "execution_count": 91,
   "metadata": {},
   "outputs": [],
   "source": [
    "resultsDf = pd.DataFrame(\n",
    "    results,\n",
    "    columns=[\n",
    "        \"score\",\n",
    "        \"model\",\n",
    "        \"model_parameters\",\n",
    "        \"feature_selector\",\n",
    "        \"selector_parameters\",\n",
    "    ],\n",
    ")"
   ]
  },
  {
   "cell_type": "code",
   "execution_count": 92,
   "metadata": {},
   "outputs": [
    {
     "data": {
      "text/html": [
       "<div>\n",
       "<style scoped>\n",
       "    .dataframe tbody tr th:only-of-type {\n",
       "        vertical-align: middle;\n",
       "    }\n",
       "\n",
       "    .dataframe tbody tr th {\n",
       "        vertical-align: top;\n",
       "    }\n",
       "\n",
       "    .dataframe thead th {\n",
       "        text-align: right;\n",
       "    }\n",
       "</style>\n",
       "<table border=\"1\" class=\"dataframe\">\n",
       "  <thead>\n",
       "    <tr style=\"text-align: right;\">\n",
       "      <th></th>\n",
       "      <th>score</th>\n",
       "      <th>model</th>\n",
       "      <th>model_parameters</th>\n",
       "      <th>feature_selector</th>\n",
       "      <th>selector_parameters</th>\n",
       "    </tr>\n",
       "  </thead>\n",
       "  <tbody>\n",
       "    <tr>\n",
       "      <th>0</th>\n",
       "      <td>-91740</td>\n",
       "      <td>LDA</td>\n",
       "      <td>{'solver': 'svd'}</td>\n",
       "      <td>NoFeatureSelection</td>\n",
       "      <td>{}</td>\n",
       "    </tr>\n",
       "    <tr>\n",
       "      <th>1</th>\n",
       "      <td>7760</td>\n",
       "      <td>LDA</td>\n",
       "      <td>{'solver': 'svd'}</td>\n",
       "      <td>KBest</td>\n",
       "      <td>{'score_func': &lt;function f_classif at 0x000002...</td>\n",
       "    </tr>\n",
       "    <tr>\n",
       "      <th>2</th>\n",
       "      <td>6780</td>\n",
       "      <td>LDA</td>\n",
       "      <td>{'solver': 'svd'}</td>\n",
       "      <td>KBest</td>\n",
       "      <td>{'score_func': &lt;function f_classif at 0x000002...</td>\n",
       "    </tr>\n",
       "    <tr>\n",
       "      <th>3</th>\n",
       "      <td>4760</td>\n",
       "      <td>LDA</td>\n",
       "      <td>{'solver': 'svd'}</td>\n",
       "      <td>KBest</td>\n",
       "      <td>{'score_func': &lt;function f_classif at 0x000002...</td>\n",
       "    </tr>\n",
       "    <tr>\n",
       "      <th>4</th>\n",
       "      <td>1190</td>\n",
       "      <td>LDA</td>\n",
       "      <td>{'solver': 'svd'}</td>\n",
       "      <td>KBest</td>\n",
       "      <td>{'score_func': &lt;function f_classif at 0x000002...</td>\n",
       "    </tr>\n",
       "    <tr>\n",
       "      <th>5</th>\n",
       "      <td>-6710</td>\n",
       "      <td>LDA</td>\n",
       "      <td>{'solver': 'svd'}</td>\n",
       "      <td>KBest</td>\n",
       "      <td>{'score_func': &lt;function f_classif at 0x000002...</td>\n",
       "    </tr>\n",
       "  </tbody>\n",
       "</table>\n",
       "</div>"
      ],
      "text/plain": [
       "   score model   model_parameters    feature_selector  \\\n",
       "0 -91740   LDA  {'solver': 'svd'}  NoFeatureSelection   \n",
       "1   7760   LDA  {'solver': 'svd'}               KBest   \n",
       "2   6780   LDA  {'solver': 'svd'}               KBest   \n",
       "3   4760   LDA  {'solver': 'svd'}               KBest   \n",
       "4   1190   LDA  {'solver': 'svd'}               KBest   \n",
       "5  -6710   LDA  {'solver': 'svd'}               KBest   \n",
       "\n",
       "                                 selector_parameters  \n",
       "0                                                 {}  \n",
       "1  {'score_func': <function f_classif at 0x000002...  \n",
       "2  {'score_func': <function f_classif at 0x000002...  \n",
       "3  {'score_func': <function f_classif at 0x000002...  \n",
       "4  {'score_func': <function f_classif at 0x000002...  \n",
       "5  {'score_func': <function f_classif at 0x000002...  "
      ]
     },
     "execution_count": 92,
     "metadata": {},
     "output_type": "execute_result"
    }
   ],
   "source": [
    "resultsDf"
   ]
  },
  {
   "cell_type": "markdown",
   "metadata": {},
   "source": [
    "# Results"
   ]
  },
  {
   "cell_type": "code",
   "execution_count": 93,
   "metadata": {},
   "outputs": [],
   "source": [
    "with open(r\"./Results/results\", \"rb\") as input_file:\n",
    "    results = pickle.load(input_file)"
   ]
  },
  {
   "cell_type": "code",
   "execution_count": 94,
   "metadata": {},
   "outputs": [],
   "source": [
    "resultsDf = pd.DataFrame(\n",
    "    results,\n",
    "    columns=[\n",
    "        \"score\",\n",
    "        \"model\",\n",
    "        \"model_parameters\",\n",
    "        \"feature_selector\",\n",
    "        \"selector_parameters\",\n",
    "    ],\n",
    ")"
   ]
  },
  {
   "cell_type": "markdown",
   "metadata": {},
   "source": [
    "# TODO: How to extract results, say per value of k of KBest classifier? Maybe they should be saved in a different way that would allow for that?"
   ]
  },
  {
   "cell_type": "code",
   "execution_count": 95,
   "metadata": {},
   "outputs": [],
   "source": [
    "def extractParamterInformation(df, paramterColumnName, parameterName):\n",
    "    df[parameterName] = df[paramterColumnName][parameterName]\n",
    "    pass"
   ]
  },
  {
   "cell_type": "code",
   "execution_count": 96,
   "metadata": {},
   "outputs": [
    {
     "ename": "KeyError",
     "evalue": "'k'",
     "output_type": "error",
     "traceback": [
      "\u001b[1;31m---------------------------------------------------------------------------\u001b[0m",
      "\u001b[1;31mKeyError\u001b[0m                                  Traceback (most recent call last)",
      "Cell \u001b[1;32mIn[96], line 1\u001b[0m\n\u001b[1;32m----> 1\u001b[0m \u001b[43mextractParamterInformation\u001b[49m\u001b[43m(\u001b[49m\u001b[43mresultsDf\u001b[49m\u001b[43m,\u001b[49m\u001b[38;5;124;43m'\u001b[39;49m\u001b[38;5;124;43mselector_parameters\u001b[39;49m\u001b[38;5;124;43m'\u001b[39;49m\u001b[43m,\u001b[49m\u001b[38;5;124;43m'\u001b[39;49m\u001b[38;5;124;43mk\u001b[39;49m\u001b[38;5;124;43m'\u001b[39;49m\u001b[43m)\u001b[49m\n",
      "Cell \u001b[1;32mIn[95], line 2\u001b[0m, in \u001b[0;36mextractParamterInformation\u001b[1;34m(df, paramterColumnName, parameterName)\u001b[0m\n\u001b[0;32m      1\u001b[0m \u001b[38;5;28;01mdef\u001b[39;00m \u001b[38;5;21mextractParamterInformation\u001b[39m(df,paramterColumnName,parameterName):\n\u001b[1;32m----> 2\u001b[0m     df[parameterName]\u001b[38;5;241m=\u001b[39m\u001b[43mdf\u001b[49m\u001b[43m[\u001b[49m\u001b[43mparamterColumnName\u001b[49m\u001b[43m]\u001b[49m\u001b[43m[\u001b[49m\u001b[43mparameterName\u001b[49m\u001b[43m]\u001b[49m\n\u001b[0;32m      3\u001b[0m     \u001b[38;5;28;01mpass\u001b[39;00m\n",
      "File \u001b[1;32mc:\\Users\\Patryk\\Repos\\advml-proj-2\\.venv\\Lib\\site-packages\\pandas\\core\\series.py:1121\u001b[0m, in \u001b[0;36mSeries.__getitem__\u001b[1;34m(self, key)\u001b[0m\n\u001b[0;32m   1118\u001b[0m     \u001b[38;5;28;01mreturn\u001b[39;00m \u001b[38;5;28mself\u001b[39m\u001b[38;5;241m.\u001b[39m_values[key]\n\u001b[0;32m   1120\u001b[0m \u001b[38;5;28;01melif\u001b[39;00m key_is_scalar:\n\u001b[1;32m-> 1121\u001b[0m     \u001b[38;5;28;01mreturn\u001b[39;00m \u001b[38;5;28;43mself\u001b[39;49m\u001b[38;5;241;43m.\u001b[39;49m\u001b[43m_get_value\u001b[49m\u001b[43m(\u001b[49m\u001b[43mkey\u001b[49m\u001b[43m)\u001b[49m\n\u001b[0;32m   1123\u001b[0m \u001b[38;5;66;03m# Convert generator to list before going through hashable part\u001b[39;00m\n\u001b[0;32m   1124\u001b[0m \u001b[38;5;66;03m# (We will iterate through the generator there to check for slices)\u001b[39;00m\n\u001b[0;32m   1125\u001b[0m \u001b[38;5;28;01mif\u001b[39;00m is_iterator(key):\n",
      "File \u001b[1;32mc:\\Users\\Patryk\\Repos\\advml-proj-2\\.venv\\Lib\\site-packages\\pandas\\core\\series.py:1237\u001b[0m, in \u001b[0;36mSeries._get_value\u001b[1;34m(self, label, takeable)\u001b[0m\n\u001b[0;32m   1234\u001b[0m     \u001b[38;5;28;01mreturn\u001b[39;00m \u001b[38;5;28mself\u001b[39m\u001b[38;5;241m.\u001b[39m_values[label]\n\u001b[0;32m   1236\u001b[0m \u001b[38;5;66;03m# Similar to Index.get_value, but we do not fall back to positional\u001b[39;00m\n\u001b[1;32m-> 1237\u001b[0m loc \u001b[38;5;241m=\u001b[39m \u001b[38;5;28;43mself\u001b[39;49m\u001b[38;5;241;43m.\u001b[39;49m\u001b[43mindex\u001b[49m\u001b[38;5;241;43m.\u001b[39;49m\u001b[43mget_loc\u001b[49m\u001b[43m(\u001b[49m\u001b[43mlabel\u001b[49m\u001b[43m)\u001b[49m\n\u001b[0;32m   1239\u001b[0m \u001b[38;5;28;01mif\u001b[39;00m is_integer(loc):\n\u001b[0;32m   1240\u001b[0m     \u001b[38;5;28;01mreturn\u001b[39;00m \u001b[38;5;28mself\u001b[39m\u001b[38;5;241m.\u001b[39m_values[loc]\n",
      "File \u001b[1;32mc:\\Users\\Patryk\\Repos\\advml-proj-2\\.venv\\Lib\\site-packages\\pandas\\core\\indexes\\range.py:417\u001b[0m, in \u001b[0;36mRangeIndex.get_loc\u001b[1;34m(self, key)\u001b[0m\n\u001b[0;32m    415\u001b[0m         \u001b[38;5;28;01mraise\u001b[39;00m \u001b[38;5;167;01mKeyError\u001b[39;00m(key) \u001b[38;5;28;01mfrom\u001b[39;00m \u001b[38;5;21;01merr\u001b[39;00m\n\u001b[0;32m    416\u001b[0m \u001b[38;5;28;01mif\u001b[39;00m \u001b[38;5;28misinstance\u001b[39m(key, Hashable):\n\u001b[1;32m--> 417\u001b[0m     \u001b[38;5;28;01mraise\u001b[39;00m \u001b[38;5;167;01mKeyError\u001b[39;00m(key)\n\u001b[0;32m    418\u001b[0m \u001b[38;5;28mself\u001b[39m\u001b[38;5;241m.\u001b[39m_check_indexing_error(key)\n\u001b[0;32m    419\u001b[0m \u001b[38;5;28;01mraise\u001b[39;00m \u001b[38;5;167;01mKeyError\u001b[39;00m(key)\n",
      "\u001b[1;31mKeyError\u001b[0m: 'k'"
     ]
    }
   ],
   "source": [
    "extractParamterInformation(resultsDf, \"selector_parameters\", \"k\")"
   ]
  },
  {
   "cell_type": "code",
   "execution_count": 85,
   "metadata": {},
   "outputs": [
    {
     "data": {
      "text/plain": [
       "<Axes: xlabel='model', ylabel='score'>"
      ]
     },
     "execution_count": 85,
     "metadata": {},
     "output_type": "execute_result"
    },
    {
     "data": {
      "image/png": "[encoded data removed]",
      "text/plain": [
       "<Figure size 640x480 with 1 Axes>"
      ]
     },
     "metadata": {},
     "output_type": "display_data"
    }
   ],
   "source": [
    "sns.boxplot(data=resultsDf, x=\"model\", y=\"score\", hue=\"feature_selector\")"
   ]
  }
 ],
 "metadata": {
  "kernelspec": {
   "display_name": "Python 3",
   "language": "python",
   "name": "python3"
  },
  "language_info": {
   "codemirror_mode": {
    "name": "ipython",
    "version": 3
   },
   "file_extension": ".py",
   "mimetype": "text/x-python",
   "name": "python",
   "nbconvert_exporter": "python",
   "pygments_lexer": "ipython3",
   "version": "3.12.3"
  }
 },
 "nbformat": 4,
 "nbformat_minor": 2
}
