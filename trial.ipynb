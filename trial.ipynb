{
 "cells": [
  {
   "cell_type": "code",
   "execution_count": 44,
   "metadata": {},
   "outputs": [],
   "source": [
    "import pickle\n",
    "import numpy as np\n",
    "import pandas as pd\n",
    "import itertools\n",
    "from enum import Enum\n",
    "import seaborn as sns\n",
    "import matplotlib.pyplot as plt\n",
    "\n",
    "from sklearn.discriminant_analysis import (\n",
    "    LinearDiscriminantAnalysis,\n",
    "    QuadraticDiscriminantAnalysis,\n",
    ")\n",
    "from sklearn.tree import DecisionTreeClassifier\n",
    "from sklearn.model_selection import train_test_split\n",
    "from sklearn.feature_selection import (\n",
    "    f_classif,\n",
    "    mutual_info_classif,\n",
    "    SelectKBest,\n",
    "    RFE,\n",
    "    RFECV,\n",
    "    SelectFpr,\n",
    "    SelectFdr,\n",
    "    SelectFwe,\n",
    ")\n",
    "from sklearn.svm import SVC\n",
    "from sklearn.preprocessing import StandardScaler\n",
    "from sklearn.pipeline import Pipeline\n",
    "from sklearn.linear_model import LogisticRegression\n",
    "from sklearn.neighbors import KNeighborsClassifier\n",
    "from sklearn.ensemble import HistGradientBoostingClassifier, GradientBoostingClassifier\n",
    "from sklearn.metrics import accuracy_score, precision_score\n",
    "import time\n",
    "RESULTS_COLUMNS = [\n",
    "    \"score\",\n",
    "    \"numberOfTruePositives\",\n",
    "    \"accuracy\",\n",
    "    \"precision\",\n",
    "    \"numberOfFeatures\",\n",
    "    \"model\",\n",
    "    \"model_parameters\",\n",
    "    \"feature_selector\",\n",
    "    \"selector_parameters\",\n",
    "]"
   ]
  },
  {
   "cell_type": "code",
   "execution_count": 45,
   "metadata": {},
   "outputs": [],
   "source": [
    "def namestr(obj, namespace) -> str:\n",
    "    \"\"\"Get name of a variable as a string\"\"\"\n",
    "    return [name for name in namespace if namespace[name] is obj]"
   ]
  },
  {
   "cell_type": "code",
   "execution_count": 46,
   "metadata": {},
   "outputs": [],
   "source": [
    "def generateParameters(arrays, namespace):\n",
    "    \"\"\"Takes any number of arrays and returns an array of\n",
    "    dictionaries with keys as array names and values, all possible combinations\n",
    "\n",
    "    namespace in general should be globals() or locals()\n",
    "    \"\"\"\n",
    "\n",
    "    allCombinations = list(itertools.product(*arrays))\n",
    "\n",
    "    allCombinations = [list(elem) for elem in allCombinations]\n",
    "\n",
    "    arrayNames = []\n",
    "\n",
    "    for array in arrays:\n",
    "        arrayNames.append(namestr(array, namespace)[0])\n",
    "\n",
    "    return [dict(zip(arrayNames, value)) for value in allCombinations]"
   ]
  },
  {
   "cell_type": "code",
   "execution_count": 47,
   "metadata": {},
   "outputs": [],
   "source": [
    "class ModelType(Enum):\n",
    "    \"\"\"Available classifiers\"\"\"\n",
    "\n",
    "    LDA = 0\n",
    "\n",
    "    QDA = 1\n",
    "\n",
    "    DecisionTree = 2\n",
    "\n",
    "    KNN = 3\n",
    "\n",
    "    SVC = 4\n",
    "\n",
    "    GradientBoosting = 5\n",
    "\n",
    "    HistGradientBoosting = 6\n",
    "\n",
    "    MLPClassifier = 7"
   ]
  },
  {
   "cell_type": "code",
   "execution_count": 48,
   "metadata": {},
   "outputs": [],
   "source": [
    "from sklearn.neural_network import MLPClassifier\n",
    "\n",
    "\n",
    "def getModel(modelType, arguments):\n",
    "    \"\"\"Returns a classifier that can fit() and predict()\"\"\"\n",
    "\n",
    "    match modelType:\n",
    "\n",
    "        case ModelType.LDA:\n",
    "\n",
    "            return LinearDiscriminantAnalysis(**arguments)\n",
    "\n",
    "        case ModelType.QDA:\n",
    "\n",
    "            return QuadraticDiscriminantAnalysis(**arguments)\n",
    "\n",
    "        case ModelType.DecisionTree:\n",
    "\n",
    "            return DecisionTreeClassifier(**arguments)\n",
    "\n",
    "        case ModelType.KNN:\n",
    "\n",
    "            return KNeighborsClassifier(**arguments)\n",
    "\n",
    "        case ModelType.SVC:\n",
    "\n",
    "            return SVC(**arguments)\n",
    "\n",
    "        case ModelType.GradientBoosting:\n",
    "\n",
    "            return GradientBoostingClassifier(**arguments)\n",
    "\n",
    "        case ModelType.HistGradientBoosting:\n",
    "\n",
    "            return HistGradientBoostingClassifier(**arguments)\n",
    "        \n",
    "        case ModelType.MLPClassifier:\n",
    "                \n",
    "            return MLPClassifier(**arguments)"
   ]
  },
  {
   "cell_type": "code",
   "execution_count": 49,
   "metadata": {},
   "outputs": [],
   "source": [
    "class FeatureSelectorType(Enum):\n",
    "    \"\"\"Available Feature Selectors that can fit_transform() a dataset\"\"\"\n",
    "\n",
    "    NoFeatureSelection = 0\n",
    "\n",
    "    KBest = 1\n",
    "\n",
    "    RFE = 2\n",
    "\n",
    "    RFECV = 3\n",
    "\n",
    "    FPR = 4\n",
    "\n",
    "    FDR = 5\n",
    "\n",
    "    FWE = 6\n",
    "\n",
    "    FPCA = 7"
   ]
  },
  {
   "cell_type": "code",
   "execution_count": 50,
   "metadata": {},
   "outputs": [],
   "source": [
    "class NoFeatureSelection:\n",
    "    \"\"\"Wrapper class for no feature selection, exposes\n",
    "    fit_transform method that returns unchanged X\n",
    "    \"\"\"\n",
    "\n",
    "    def fit_transform(self, X, y):\n",
    "\n",
    "        return X"
   ]
  },
  {
   "cell_type": "code",
   "execution_count": 51,
   "metadata": {},
   "outputs": [],
   "source": [
    "from sklearn.decomposition import PCA\n",
    "\n",
    "\n",
    "def getFeatureSelector(selectorType, arguments):\n",
    "    \"\"\"Returns a feature selector that can fit_transform()\"\"\"\n",
    "\n",
    "    match selectorType:\n",
    "\n",
    "        case FeatureSelectorType.NoFeatureSelection:\n",
    "\n",
    "            return NoFeatureSelection()\n",
    "\n",
    "        case FeatureSelectorType.KBest:\n",
    "\n",
    "            return SelectKBest(**arguments)\n",
    "        "
   ]
  },
  {
   "cell_type": "code",
   "execution_count": 52,
   "metadata": {},
   "outputs": [],
   "source": [
    "def getTotalNoOfExperiments(models, featureSelectors):\n",
    "    modelCount = 0\n",
    "    selectorCount = 0\n",
    "    for model in models:\n",
    "        modelCount += len(model[\"parameters\"])\n",
    "    for featureSelector in featureSelectors:\n",
    "        selectorCount += len(featureSelector[\"parameters\"])\n",
    "    return modelCount * selectorCount"
   ]
  },
  {
   "cell_type": "code",
   "execution_count": 53,
   "metadata": {},
   "outputs": [],
   "source": [
    "def getScore(y_true, y_pred, featuresUsed):\n",
    "    \"\"\"Get score based on y_true, y_pred and number of feature used\n",
    "\n",
    "    Scoring function, based on which, the best model is selected.\n",
    "    Score is calculated according to task description: +10 points for each\n",
    "    correctly classified positive class, -200 points for each feature used\n",
    "    \"\"\"\n",
    "\n",
    "    score = 0\n",
    "\n",
    "    correct = 0\n",
    "\n",
    "    for i, y in enumerate(y_true):\n",
    "        if y == 1 and y == y_pred[i]:\n",
    "            correct += 1\n",
    "\n",
    "    score = 10 * correct - 200 * featuresUsed\n",
    "    return correct, score"
   ]
  },
  {
   "cell_type": "code",
   "execution_count": 54,
   "metadata": {},
   "outputs": [],
   "source": [
    "def performExperiment(X_train, y_train, X_test, y_test, model):\n",
    "    \"\"\"Returns a score for given model and provided data\"\"\"\n",
    "\n",
    "    model.fit(X_train, y_train)\n",
    "\n",
    "    y_pred = model.predict(X_test)\n",
    "\n",
    "    numberOfFeatures = len(X_train[0])\n",
    "\n",
    "    accuracy = accuracy_score(y_test, y_pred)\n",
    "\n",
    "    correct, score = getScore(y_test, y_pred, numberOfFeatures)\n",
    "    # finalResult = getScore(y_test, y_pred, model[\"classification\"].n_features_in_)\n",
    "\n",
    "    #\n",
    "\n",
    "    # Take only 1000 of the highest class 1 probabilities\n",
    "\n",
    "    # TODO: Turn it into a dataframe and keep track of the indexes\n",
    "\n",
    "    # finalResult = np.sort(result[:, 1])[::-1][:1000]\n",
    "\n",
    "    return correct, score, accuracy, numberOfFeatures, precision_score(y_test, y_pred)"
   ]
  },
  {
   "cell_type": "code",
   "execution_count": 55,
   "metadata": {},
   "outputs": [],
   "source": [
    "def conductExperiments(models, featureSelectors, X_orig, y_orig):\n",
    "    \"\"\"Collects score results for all provided models and feature selectors on given dataset\n",
    "\n",
    "    Parameters:\n",
    "\n",
    "    models: array in a format: [{\"model\":\"model name\",\"parameters\":[{paramters object}]}]\n",
    "\n",
    "    featureSelectors: array in a format: [{\"model\":\"model name\",\"parameters\":[{paramters object}]}]\n",
    "\n",
    "\n",
    "    \"\"\"\n",
    "    results = []\n",
    "    totalNumberOfExperiments = getTotalNoOfExperiments(models, featureSelectors)\n",
    "    experimentCount = 0\n",
    "\n",
    "    # scaler = StandardScaler()\n",
    "    # X_scaled = scaler.fit_transform(X_orig, y_orig)\n",
    "    for featureSelector in featureSelectors:\n",
    "        for featureSelectorParameters in featureSelector[\"parameters\"]:\n",
    "            try:\n",
    "                startFeatureSelector = time.time()\n",
    "                selector = getFeatureSelector(\n",
    "                    featureSelector[\"model\"], featureSelectorParameters\n",
    "                )\n",
    "\n",
    "                X_new = selector.fit_transform(X_orig, y_orig)\n",
    "\n",
    "                endFeatureSelector = time.time()\n",
    "\n",
    "                if len(X_new[0]) > 1:\n",
    "                    X_split_train, X_split_test, y_split_train, y_split_test = (\n",
    "                        train_test_split(X_new, y_orig, test_size=0.33, random_state=42)\n",
    "                    )\n",
    "                    # print(len(y_split_test[y_split_test==1]))\n",
    "                    for model in models:\n",
    "                        for modelParameters in model[\"parameters\"]:\n",
    "\n",
    "                            # clf = Pipeline(\n",
    "                            #     [\n",
    "                            #         (\"scaling\", StandardScaler()),\n",
    "                            #         (\n",
    "                            #             \"feature_selection\",\n",
    "                            #             getFeatureSelector(\n",
    "                            #                 featureSelector[\"model\"], featureSelectorParameters\n",
    "                            #             ),\n",
    "                            #         ),\n",
    "                            #         (\n",
    "                            #             \"classification\",\n",
    "                            #             getModel(model[\"model\"], modelParameters),\n",
    "                            #         ),\n",
    "                            #     ]\n",
    "                            # )\n",
    "                            try:\n",
    "                                # X_new = selector.fit_transform(X_orig, y_orig)\n",
    "                                startModel = time.time()\n",
    "                                (\n",
    "                                    correct,\n",
    "                                    score,\n",
    "                                    accuracy,\n",
    "                                    numberOfFeatures,\n",
    "                                    precision,\n",
    "                                ) = performExperiment(\n",
    "                                    X_train=X_split_train,\n",
    "                                    y_train=y_split_train,\n",
    "                                    X_test=X_split_test,\n",
    "                                    y_test=y_split_test,\n",
    "                                    model=getModel(model[\"model\"], modelParameters),\n",
    "                                )\n",
    "\n",
    "                                results.append(\n",
    "                                    [\n",
    "                                        score,\n",
    "                                        correct,\n",
    "                                        accuracy,\n",
    "                                        precision,\n",
    "                                        numberOfFeatures,\n",
    "                                        model[\"model\"].name,\n",
    "                                        modelParameters,\n",
    "                                        featureSelector[\"model\"].name,\n",
    "                                        featureSelectorParameters,\n",
    "                                    ]\n",
    "                                )\n",
    "                                endModel = time.time()\n",
    "                                experimentCount += 1\n",
    "                                print(\n",
    "                                    \"Performed Experiment\",\n",
    "                                    str(experimentCount)\n",
    "                                    + \"/\"\n",
    "                                    + str(totalNumberOfExperiments)\n",
    "                                    + \"(approx)\",\n",
    "                                    \"took (s):\",\n",
    "                                    \"model:\",\n",
    "                                    str(round(endModel - startModel, 2)),\n",
    "                                    \"selector\",\n",
    "                                    str(\n",
    "                                        round(\n",
    "                                            endFeatureSelector - startFeatureSelector, 2\n",
    "                                        )\n",
    "                                    ),\n",
    "                                    \"with:\",\n",
    "                                    featureSelector[\"model\"],\n",
    "                                    featureSelectorParameters,\n",
    "                                    model[\"model\"],\n",
    "                                    modelParameters,\n",
    "                                )\n",
    "                            except Exception as e:\n",
    "                                print(\n",
    "                                    \"!!!Experiment failed for:\",\n",
    "                                    featureSelector[\"model\"],\n",
    "                                    featureSelectorParameters,\n",
    "                                    model[\"model\"],\n",
    "                                    modelParameters,\n",
    "                                    str(e),\n",
    "                                )\n",
    "\n",
    "                else:\n",
    "                    print(\n",
    "                        \"!!!\",\n",
    "                        featureSelector[\"model\"],\n",
    "                        \"produced 1 or fewer features with parameters:\",\n",
    "                        featureSelectorParameters,\n",
    "                    )\n",
    "            except Exception as e:\n",
    "                print(\n",
    "                    \"!!!Experiment failed for:\",\n",
    "                    featureSelector[\"model\"],\n",
    "                    featureSelectorParameters,\n",
    "                    model[\"model\"],\n",
    "                    modelParameters,\n",
    "                    str(e),\n",
    "                )\n",
    "    return results"
   ]
  },
  {
   "cell_type": "code",
   "execution_count": 56,
   "metadata": {},
   "outputs": [],
   "source": [
    "with open(\"./Dataset/x_test.txt\") as file:\n",
    "    X_test = [[float(digit) for digit in line.split()] for line in file]\n",
    "\n",
    "\n",
    "with open(\"./Dataset/x_train.txt\") as file:\n",
    "    X_train = [[float(digit) for digit in line.split()] for line in file]\n",
    "\n",
    "\n",
    "with open(\"./Dataset/y_train.txt\") as file:\n",
    "    y_train = [[float(digit) for digit in line.split()] for line in file]"
   ]
  },
  {
   "cell_type": "code",
   "execution_count": 57,
   "metadata": {},
   "outputs": [
    {
     "name": "stdout",
     "output_type": "stream",
     "text": [
      "X_test datapoints: 5000  features: 500\n",
      "X_train datapoints: 5000  features: 500\n",
      "y_train datapoints: 5000\n"
     ]
    }
   ],
   "source": [
    "print(\"X_test datapoints:\", len(X_test), \" features:\", len(X_test[0]))\n",
    "print(\"X_train datapoints:\", len(X_train), \" features:\", len(X_train[0]))\n",
    "print(\"y_train datapoints:\", len(y_train))"
   ]
  },
  {
   "cell_type": "code",
   "execution_count": 93,
   "metadata": {},
   "outputs": [],
   "source": [
    "RESULTS_FILENAME = \"./Results/results-salveen\""
   ]
  },
  {
   "cell_type": "code",
   "execution_count": 94,
   "metadata": {},
   "outputs": [],
   "source": [
    "\n",
    "# MLPClassifier\n",
    "solver = [\"adam\", \"sgd\"]\n",
    "activation = [\"relu\", \"logistic\", \"tanh\"]\n",
    "hidden_layer_sizes = [(100,), (200,), (300,)]\n",
    "mlpParameters = generateParameters([solver, activation, hidden_layer_sizes], globals())\n",
    "\n",
    "models = [\n",
    "    {\"model\": ModelType.MLPClassifier, \"parameters\": mlpParameters},\n",
    "]"
   ]
  },
  {
   "cell_type": "code",
   "execution_count": 95,
   "metadata": {},
   "outputs": [],
   "source": [
    "\n",
    "k = [2, 5, 10, 20, 40, 80]\n",
    "score_func = [f_classif, mutual_info_classif]\n",
    "kBestParameters = generateParameters([score_func, k], globals())\n",
    "\n",
    "pcaParameters = generateParameters([k], globals())\n",
    "\n",
    "featureSelectors = [\n",
    "    {\"model\": FeatureSelectorType.NoFeatureSelection, \"parameters\": [{}]},\n",
    "    {\"model\": FeatureSelectorType.KBest, \"parameters\": kBestParameters},\n",
    "]"
   ]
  },
  {
   "cell_type": "markdown",
   "metadata": {},
   "source": [
    "# Experiment"
   ]
  },
  {
   "cell_type": "code",
   "execution_count": 96,
   "metadata": {},
   "outputs": [],
   "source": [
    "y_train_ravel = np.ravel(y_train, order=\"C\")\n",
    "y_train_ravel = y_train_ravel.astype(int)"
   ]
  },
  {
   "cell_type": "code",
   "execution_count": 97,
   "metadata": {},
   "outputs": [
    {
     "name": "stdout",
     "output_type": "stream",
     "text": [
      "Performed Experiment 1/234(approx) took (s): model: 5.74 selector 0.0 with: FeatureSelectorType.NoFeatureSelection {} ModelType.MLPClassifier {'solver': 'adam', 'activation': 'relu', 'hidden_layer_sizes': (100,)}\n",
      "Performed Experiment 2/234(approx) took (s): model: 5.58 selector 0.0 with: FeatureSelectorType.NoFeatureSelection {} ModelType.MLPClassifier {'solver': 'adam', 'activation': 'relu', 'hidden_layer_sizes': (200,)}\n",
      "Performed Experiment 3/234(approx) took (s): model: 6.79 selector 0.0 with: FeatureSelectorType.NoFeatureSelection {} ModelType.MLPClassifier {'solver': 'adam', 'activation': 'relu', 'hidden_layer_sizes': (300,)}\n"
     ]
    },
    {
     "name": "stderr",
     "output_type": "stream",
     "text": [
      "/opt/anaconda3/lib/python3.11/site-packages/sklearn/neural_network/_multilayer_perceptron.py:686: ConvergenceWarning: Stochastic Optimizer: Maximum iterations (200) reached and the optimization hasn't converged yet.\n",
      "  warnings.warn(\n"
     ]
    },
    {
     "name": "stdout",
     "output_type": "stream",
     "text": [
      "Performed Experiment 4/234(approx) took (s): model: 6.67 selector 0.0 with: FeatureSelectorType.NoFeatureSelection {} ModelType.MLPClassifier {'solver': 'adam', 'activation': 'logistic', 'hidden_layer_sizes': (100,)}\n",
      "Performed Experiment 5/234(approx) took (s): model: 9.02 selector 0.0 with: FeatureSelectorType.NoFeatureSelection {} ModelType.MLPClassifier {'solver': 'adam', 'activation': 'logistic', 'hidden_layer_sizes': (200,)}\n",
      "Performed Experiment 6/234(approx) took (s): model: 9.32 selector 0.0 with: FeatureSelectorType.NoFeatureSelection {} ModelType.MLPClassifier {'solver': 'adam', 'activation': 'logistic', 'hidden_layer_sizes': (300,)}\n",
      "Performed Experiment 7/234(approx) took (s): model: 5.59 selector 0.0 with: FeatureSelectorType.NoFeatureSelection {} ModelType.MLPClassifier {'solver': 'adam', 'activation': 'tanh', 'hidden_layer_sizes': (100,)}\n",
      "Performed Experiment 8/234(approx) took (s): model: 5.92 selector 0.0 with: FeatureSelectorType.NoFeatureSelection {} ModelType.MLPClassifier {'solver': 'adam', 'activation': 'tanh', 'hidden_layer_sizes': (200,)}\n",
      "Performed Experiment 9/234(approx) took (s): model: 7.38 selector 0.0 with: FeatureSelectorType.NoFeatureSelection {} ModelType.MLPClassifier {'solver': 'adam', 'activation': 'tanh', 'hidden_layer_sizes': (300,)}\n"
     ]
    },
    {
     "name": "stderr",
     "output_type": "stream",
     "text": [
      "/opt/anaconda3/lib/python3.11/site-packages/sklearn/neural_network/_multilayer_perceptron.py:686: ConvergenceWarning: Stochastic Optimizer: Maximum iterations (200) reached and the optimization hasn't converged yet.\n",
      "  warnings.warn(\n"
     ]
    },
    {
     "name": "stdout",
     "output_type": "stream",
     "text": [
      "Performed Experiment 10/234(approx) took (s): model: 5.68 selector 0.0 with: FeatureSelectorType.NoFeatureSelection {} ModelType.MLPClassifier {'solver': 'sgd', 'activation': 'relu', 'hidden_layer_sizes': (100,)}\n"
     ]
    },
    {
     "name": "stderr",
     "output_type": "stream",
     "text": [
      "/opt/anaconda3/lib/python3.11/site-packages/sklearn/neural_network/_multilayer_perceptron.py:686: ConvergenceWarning: Stochastic Optimizer: Maximum iterations (200) reached and the optimization hasn't converged yet.\n",
      "  warnings.warn(\n"
     ]
    },
    {
     "name": "stdout",
     "output_type": "stream",
     "text": [
      "Performed Experiment 11/234(approx) took (s): model: 7.58 selector 0.0 with: FeatureSelectorType.NoFeatureSelection {} ModelType.MLPClassifier {'solver': 'sgd', 'activation': 'relu', 'hidden_layer_sizes': (200,)}\n"
     ]
    },
    {
     "name": "stderr",
     "output_type": "stream",
     "text": [
      "/opt/anaconda3/lib/python3.11/site-packages/sklearn/neural_network/_multilayer_perceptron.py:686: ConvergenceWarning: Stochastic Optimizer: Maximum iterations (200) reached and the optimization hasn't converged yet.\n",
      "  warnings.warn(\n"
     ]
    },
    {
     "name": "stdout",
     "output_type": "stream",
     "text": [
      "Performed Experiment 12/234(approx) took (s): model: 11.06 selector 0.0 with: FeatureSelectorType.NoFeatureSelection {} ModelType.MLPClassifier {'solver': 'sgd', 'activation': 'relu', 'hidden_layer_sizes': (300,)}\n"
     ]
    },
    {
     "name": "stderr",
     "output_type": "stream",
     "text": [
      "/opt/anaconda3/lib/python3.11/site-packages/sklearn/neural_network/_multilayer_perceptron.py:686: ConvergenceWarning: Stochastic Optimizer: Maximum iterations (200) reached and the optimization hasn't converged yet.\n",
      "  warnings.warn(\n"
     ]
    },
    {
     "name": "stdout",
     "output_type": "stream",
     "text": [
      "Performed Experiment 13/234(approx) took (s): model: 4.69 selector 0.0 with: FeatureSelectorType.NoFeatureSelection {} ModelType.MLPClassifier {'solver': 'sgd', 'activation': 'logistic', 'hidden_layer_sizes': (100,)}\n"
     ]
    },
    {
     "name": "stderr",
     "output_type": "stream",
     "text": [
      "/opt/anaconda3/lib/python3.11/site-packages/sklearn/neural_network/_multilayer_perceptron.py:686: ConvergenceWarning: Stochastic Optimizer: Maximum iterations (200) reached and the optimization hasn't converged yet.\n",
      "  warnings.warn(\n"
     ]
    },
    {
     "name": "stdout",
     "output_type": "stream",
     "text": [
      "Performed Experiment 14/234(approx) took (s): model: 7.5 selector 0.0 with: FeatureSelectorType.NoFeatureSelection {} ModelType.MLPClassifier {'solver': 'sgd', 'activation': 'logistic', 'hidden_layer_sizes': (200,)}\n"
     ]
    },
    {
     "name": "stderr",
     "output_type": "stream",
     "text": [
      "/opt/anaconda3/lib/python3.11/site-packages/sklearn/neural_network/_multilayer_perceptron.py:686: ConvergenceWarning: Stochastic Optimizer: Maximum iterations (200) reached and the optimization hasn't converged yet.\n",
      "  warnings.warn(\n"
     ]
    },
    {
     "name": "stdout",
     "output_type": "stream",
     "text": [
      "Performed Experiment 15/234(approx) took (s): model: 10.96 selector 0.0 with: FeatureSelectorType.NoFeatureSelection {} ModelType.MLPClassifier {'solver': 'sgd', 'activation': 'logistic', 'hidden_layer_sizes': (300,)}\n"
     ]
    },
    {
     "name": "stderr",
     "output_type": "stream",
     "text": [
      "/opt/anaconda3/lib/python3.11/site-packages/sklearn/neural_network/_multilayer_perceptron.py:686: ConvergenceWarning: Stochastic Optimizer: Maximum iterations (200) reached and the optimization hasn't converged yet.\n",
      "  warnings.warn(\n"
     ]
    },
    {
     "name": "stdout",
     "output_type": "stream",
     "text": [
      "Performed Experiment 16/234(approx) took (s): model: 4.5 selector 0.0 with: FeatureSelectorType.NoFeatureSelection {} ModelType.MLPClassifier {'solver': 'sgd', 'activation': 'tanh', 'hidden_layer_sizes': (100,)}\n"
     ]
    },
    {
     "name": "stderr",
     "output_type": "stream",
     "text": [
      "/opt/anaconda3/lib/python3.11/site-packages/sklearn/neural_network/_multilayer_perceptron.py:686: ConvergenceWarning: Stochastic Optimizer: Maximum iterations (200) reached and the optimization hasn't converged yet.\n",
      "  warnings.warn(\n"
     ]
    },
    {
     "name": "stdout",
     "output_type": "stream",
     "text": [
      "Performed Experiment 17/234(approx) took (s): model: 8.16 selector 0.0 with: FeatureSelectorType.NoFeatureSelection {} ModelType.MLPClassifier {'solver': 'sgd', 'activation': 'tanh', 'hidden_layer_sizes': (200,)}\n"
     ]
    },
    {
     "name": "stderr",
     "output_type": "stream",
     "text": [
      "/opt/anaconda3/lib/python3.11/site-packages/sklearn/neural_network/_multilayer_perceptron.py:686: ConvergenceWarning: Stochastic Optimizer: Maximum iterations (200) reached and the optimization hasn't converged yet.\n",
      "  warnings.warn(\n"
     ]
    },
    {
     "name": "stdout",
     "output_type": "stream",
     "text": [
      "Performed Experiment 18/234(approx) took (s): model: 11.95 selector 0.0 with: FeatureSelectorType.NoFeatureSelection {} ModelType.MLPClassifier {'solver': 'sgd', 'activation': 'tanh', 'hidden_layer_sizes': (300,)}\n",
      "Performed Experiment 19/234(approx) took (s): model: 0.13 selector 0.16 with: FeatureSelectorType.KBest {'score_func': <function f_classif at 0x17591bba0>, 'k': 2} ModelType.MLPClassifier {'solver': 'adam', 'activation': 'relu', 'hidden_layer_sizes': (100,)}\n",
      "Performed Experiment 20/234(approx) took (s): model: 0.18 selector 0.16 with: FeatureSelectorType.KBest {'score_func': <function f_classif at 0x17591bba0>, 'k': 2} ModelType.MLPClassifier {'solver': 'adam', 'activation': 'relu', 'hidden_layer_sizes': (200,)}\n",
      "Performed Experiment 21/234(approx) took (s): model: 0.21 selector 0.16 with: FeatureSelectorType.KBest {'score_func': <function f_classif at 0x17591bba0>, 'k': 2} ModelType.MLPClassifier {'solver': 'adam', 'activation': 'relu', 'hidden_layer_sizes': (300,)}\n",
      "Performed Experiment 22/234(approx) took (s): model: 0.14 selector 0.16 with: FeatureSelectorType.KBest {'score_func': <function f_classif at 0x17591bba0>, 'k': 2} ModelType.MLPClassifier {'solver': 'adam', 'activation': 'logistic', 'hidden_layer_sizes': (100,)}\n",
      "Performed Experiment 23/234(approx) took (s): model: 0.21 selector 0.16 with: FeatureSelectorType.KBest {'score_func': <function f_classif at 0x17591bba0>, 'k': 2} ModelType.MLPClassifier {'solver': 'adam', 'activation': 'logistic', 'hidden_layer_sizes': (200,)}\n",
      "Performed Experiment 24/234(approx) took (s): model: 0.26 selector 0.16 with: FeatureSelectorType.KBest {'score_func': <function f_classif at 0x17591bba0>, 'k': 2} ModelType.MLPClassifier {'solver': 'adam', 'activation': 'logistic', 'hidden_layer_sizes': (300,)}\n",
      "Performed Experiment 25/234(approx) took (s): model: 0.11 selector 0.16 with: FeatureSelectorType.KBest {'score_func': <function f_classif at 0x17591bba0>, 'k': 2} ModelType.MLPClassifier {'solver': 'adam', 'activation': 'tanh', 'hidden_layer_sizes': (100,)}\n",
      "Performed Experiment 26/234(approx) took (s): model: 0.26 selector 0.16 with: FeatureSelectorType.KBest {'score_func': <function f_classif at 0x17591bba0>, 'k': 2} ModelType.MLPClassifier {'solver': 'adam', 'activation': 'tanh', 'hidden_layer_sizes': (200,)}\n",
      "Performed Experiment 27/234(approx) took (s): model: 0.21 selector 0.16 with: FeatureSelectorType.KBest {'score_func': <function f_classif at 0x17591bba0>, 'k': 2} ModelType.MLPClassifier {'solver': 'adam', 'activation': 'tanh', 'hidden_layer_sizes': (300,)}\n",
      "Performed Experiment 28/234(approx) took (s): model: 0.12 selector 0.16 with: FeatureSelectorType.KBest {'score_func': <function f_classif at 0x17591bba0>, 'k': 2} ModelType.MLPClassifier {'solver': 'sgd', 'activation': 'relu', 'hidden_layer_sizes': (100,)}\n",
      "Performed Experiment 29/234(approx) took (s): model: 0.16 selector 0.16 with: FeatureSelectorType.KBest {'score_func': <function f_classif at 0x17591bba0>, 'k': 2} ModelType.MLPClassifier {'solver': 'sgd', 'activation': 'relu', 'hidden_layer_sizes': (200,)}\n",
      "Performed Experiment 30/234(approx) took (s): model: 0.36 selector 0.16 with: FeatureSelectorType.KBest {'score_func': <function f_classif at 0x17591bba0>, 'k': 2} ModelType.MLPClassifier {'solver': 'sgd', 'activation': 'relu', 'hidden_layer_sizes': (300,)}\n",
      "Performed Experiment 31/234(approx) took (s): model: 0.09 selector 0.16 with: FeatureSelectorType.KBest {'score_func': <function f_classif at 0x17591bba0>, 'k': 2} ModelType.MLPClassifier {'solver': 'sgd', 'activation': 'logistic', 'hidden_layer_sizes': (100,)}\n",
      "Performed Experiment 32/234(approx) took (s): model: 0.29 selector 0.16 with: FeatureSelectorType.KBest {'score_func': <function f_classif at 0x17591bba0>, 'k': 2} ModelType.MLPClassifier {'solver': 'sgd', 'activation': 'logistic', 'hidden_layer_sizes': (200,)}\n",
      "Performed Experiment 33/234(approx) took (s): model: 0.47 selector 0.16 with: FeatureSelectorType.KBest {'score_func': <function f_classif at 0x17591bba0>, 'k': 2} ModelType.MLPClassifier {'solver': 'sgd', 'activation': 'logistic', 'hidden_layer_sizes': (300,)}\n",
      "Performed Experiment 34/234(approx) took (s): model: 0.19 selector 0.16 with: FeatureSelectorType.KBest {'score_func': <function f_classif at 0x17591bba0>, 'k': 2} ModelType.MLPClassifier {'solver': 'sgd', 'activation': 'tanh', 'hidden_layer_sizes': (100,)}\n",
      "Performed Experiment 35/234(approx) took (s): model: 0.21 selector 0.16 with: FeatureSelectorType.KBest {'score_func': <function f_classif at 0x17591bba0>, 'k': 2} ModelType.MLPClassifier {'solver': 'sgd', 'activation': 'tanh', 'hidden_layer_sizes': (200,)}\n",
      "Performed Experiment 36/234(approx) took (s): model: 0.26 selector 0.16 with: FeatureSelectorType.KBest {'score_func': <function f_classif at 0x17591bba0>, 'k': 2} ModelType.MLPClassifier {'solver': 'sgd', 'activation': 'tanh', 'hidden_layer_sizes': (300,)}\n",
      "Performed Experiment 37/234(approx) took (s): model: 0.21 selector 0.15 with: FeatureSelectorType.KBest {'score_func': <function f_classif at 0x17591bba0>, 'k': 5} ModelType.MLPClassifier {'solver': 'adam', 'activation': 'relu', 'hidden_layer_sizes': (100,)}\n",
      "Performed Experiment 38/234(approx) took (s): model: 0.4 selector 0.15 with: FeatureSelectorType.KBest {'score_func': <function f_classif at 0x17591bba0>, 'k': 5} ModelType.MLPClassifier {'solver': 'adam', 'activation': 'relu', 'hidden_layer_sizes': (200,)}\n",
      "Performed Experiment 39/234(approx) took (s): model: 0.29 selector 0.15 with: FeatureSelectorType.KBest {'score_func': <function f_classif at 0x17591bba0>, 'k': 5} ModelType.MLPClassifier {'solver': 'adam', 'activation': 'relu', 'hidden_layer_sizes': (300,)}\n",
      "Performed Experiment 40/234(approx) took (s): model: 0.34 selector 0.15 with: FeatureSelectorType.KBest {'score_func': <function f_classif at 0x17591bba0>, 'k': 5} ModelType.MLPClassifier {'solver': 'adam', 'activation': 'logistic', 'hidden_layer_sizes': (100,)}\n",
      "Performed Experiment 41/234(approx) took (s): model: 0.29 selector 0.15 with: FeatureSelectorType.KBest {'score_func': <function f_classif at 0x17591bba0>, 'k': 5} ModelType.MLPClassifier {'solver': 'adam', 'activation': 'logistic', 'hidden_layer_sizes': (200,)}\n",
      "Performed Experiment 42/234(approx) took (s): model: 0.71 selector 0.15 with: FeatureSelectorType.KBest {'score_func': <function f_classif at 0x17591bba0>, 'k': 5} ModelType.MLPClassifier {'solver': 'adam', 'activation': 'logistic', 'hidden_layer_sizes': (300,)}\n",
      "Performed Experiment 43/234(approx) took (s): model: 0.29 selector 0.15 with: FeatureSelectorType.KBest {'score_func': <function f_classif at 0x17591bba0>, 'k': 5} ModelType.MLPClassifier {'solver': 'adam', 'activation': 'tanh', 'hidden_layer_sizes': (100,)}\n",
      "Performed Experiment 44/234(approx) took (s): model: 0.73 selector 0.15 with: FeatureSelectorType.KBest {'score_func': <function f_classif at 0x17591bba0>, 'k': 5} ModelType.MLPClassifier {'solver': 'adam', 'activation': 'tanh', 'hidden_layer_sizes': (200,)}\n",
      "Performed Experiment 45/234(approx) took (s): model: 0.71 selector 0.15 with: FeatureSelectorType.KBest {'score_func': <function f_classif at 0x17591bba0>, 'k': 5} ModelType.MLPClassifier {'solver': 'adam', 'activation': 'tanh', 'hidden_layer_sizes': (300,)}\n",
      "Performed Experiment 46/234(approx) took (s): model: 0.3 selector 0.15 with: FeatureSelectorType.KBest {'score_func': <function f_classif at 0x17591bba0>, 'k': 5} ModelType.MLPClassifier {'solver': 'sgd', 'activation': 'relu', 'hidden_layer_sizes': (100,)}\n",
      "Performed Experiment 47/234(approx) took (s): model: 0.15 selector 0.15 with: FeatureSelectorType.KBest {'score_func': <function f_classif at 0x17591bba0>, 'k': 5} ModelType.MLPClassifier {'solver': 'sgd', 'activation': 'relu', 'hidden_layer_sizes': (200,)}\n",
      "Performed Experiment 48/234(approx) took (s): model: 0.86 selector 0.15 with: FeatureSelectorType.KBest {'score_func': <function f_classif at 0x17591bba0>, 'k': 5} ModelType.MLPClassifier {'solver': 'sgd', 'activation': 'relu', 'hidden_layer_sizes': (300,)}\n",
      "Performed Experiment 49/234(approx) took (s): model: 0.17 selector 0.15 with: FeatureSelectorType.KBest {'score_func': <function f_classif at 0x17591bba0>, 'k': 5} ModelType.MLPClassifier {'solver': 'sgd', 'activation': 'logistic', 'hidden_layer_sizes': (100,)}\n",
      "Performed Experiment 50/234(approx) took (s): model: 0.29 selector 0.15 with: FeatureSelectorType.KBest {'score_func': <function f_classif at 0x17591bba0>, 'k': 5} ModelType.MLPClassifier {'solver': 'sgd', 'activation': 'logistic', 'hidden_layer_sizes': (200,)}\n",
      "Performed Experiment 51/234(approx) took (s): model: 0.86 selector 0.15 with: FeatureSelectorType.KBest {'score_func': <function f_classif at 0x17591bba0>, 'k': 5} ModelType.MLPClassifier {'solver': 'sgd', 'activation': 'logistic', 'hidden_layer_sizes': (300,)}\n",
      "Performed Experiment 52/234(approx) took (s): model: 0.47 selector 0.15 with: FeatureSelectorType.KBest {'score_func': <function f_classif at 0x17591bba0>, 'k': 5} ModelType.MLPClassifier {'solver': 'sgd', 'activation': 'tanh', 'hidden_layer_sizes': (100,)}\n",
      "Performed Experiment 53/234(approx) took (s): model: 0.43 selector 0.15 with: FeatureSelectorType.KBest {'score_func': <function f_classif at 0x17591bba0>, 'k': 5} ModelType.MLPClassifier {'solver': 'sgd', 'activation': 'tanh', 'hidden_layer_sizes': (200,)}\n",
      "Performed Experiment 54/234(approx) took (s): model: 0.54 selector 0.15 with: FeatureSelectorType.KBest {'score_func': <function f_classif at 0x17591bba0>, 'k': 5} ModelType.MLPClassifier {'solver': 'sgd', 'activation': 'tanh', 'hidden_layer_sizes': (300,)}\n",
      "Performed Experiment 55/234(approx) took (s): model: 1.56 selector 0.16 with: FeatureSelectorType.KBest {'score_func': <function f_classif at 0x17591bba0>, 'k': 10} ModelType.MLPClassifier {'solver': 'adam', 'activation': 'relu', 'hidden_layer_sizes': (100,)}\n"
     ]
    },
    {
     "name": "stderr",
     "output_type": "stream",
     "text": [
      "/opt/anaconda3/lib/python3.11/site-packages/sklearn/neural_network/_multilayer_perceptron.py:686: ConvergenceWarning: Stochastic Optimizer: Maximum iterations (200) reached and the optimization hasn't converged yet.\n",
      "  warnings.warn(\n"
     ]
    },
    {
     "name": "stdout",
     "output_type": "stream",
     "text": [
      "Performed Experiment 56/234(approx) took (s): model: 3.51 selector 0.16 with: FeatureSelectorType.KBest {'score_func': <function f_classif at 0x17591bba0>, 'k': 10} ModelType.MLPClassifier {'solver': 'adam', 'activation': 'relu', 'hidden_layer_sizes': (200,)}\n"
     ]
    },
    {
     "name": "stderr",
     "output_type": "stream",
     "text": [
      "/opt/anaconda3/lib/python3.11/site-packages/sklearn/neural_network/_multilayer_perceptron.py:686: ConvergenceWarning: Stochastic Optimizer: Maximum iterations (200) reached and the optimization hasn't converged yet.\n",
      "  warnings.warn(\n"
     ]
    },
    {
     "name": "stdout",
     "output_type": "stream",
     "text": [
      "Performed Experiment 57/234(approx) took (s): model: 5.41 selector 0.16 with: FeatureSelectorType.KBest {'score_func': <function f_classif at 0x17591bba0>, 'k': 10} ModelType.MLPClassifier {'solver': 'adam', 'activation': 'relu', 'hidden_layer_sizes': (300,)}\n",
      "Performed Experiment 58/234(approx) took (s): model: 0.53 selector 0.16 with: FeatureSelectorType.KBest {'score_func': <function f_classif at 0x17591bba0>, 'k': 10} ModelType.MLPClassifier {'solver': 'adam', 'activation': 'logistic', 'hidden_layer_sizes': (100,)}\n",
      "Performed Experiment 59/234(approx) took (s): model: 2.25 selector 0.16 with: FeatureSelectorType.KBest {'score_func': <function f_classif at 0x17591bba0>, 'k': 10} ModelType.MLPClassifier {'solver': 'adam', 'activation': 'logistic', 'hidden_layer_sizes': (200,)}\n",
      "Performed Experiment 60/234(approx) took (s): model: 1.29 selector 0.16 with: FeatureSelectorType.KBest {'score_func': <function f_classif at 0x17591bba0>, 'k': 10} ModelType.MLPClassifier {'solver': 'adam', 'activation': 'logistic', 'hidden_layer_sizes': (300,)}\n",
      "Performed Experiment 61/234(approx) took (s): model: 1.13 selector 0.16 with: FeatureSelectorType.KBest {'score_func': <function f_classif at 0x17591bba0>, 'k': 10} ModelType.MLPClassifier {'solver': 'adam', 'activation': 'tanh', 'hidden_layer_sizes': (100,)}\n",
      "Performed Experiment 62/234(approx) took (s): model: 1.46 selector 0.16 with: FeatureSelectorType.KBest {'score_func': <function f_classif at 0x17591bba0>, 'k': 10} ModelType.MLPClassifier {'solver': 'adam', 'activation': 'tanh', 'hidden_layer_sizes': (200,)}\n",
      "Performed Experiment 63/234(approx) took (s): model: 0.57 selector 0.16 with: FeatureSelectorType.KBest {'score_func': <function f_classif at 0x17591bba0>, 'k': 10} ModelType.MLPClassifier {'solver': 'adam', 'activation': 'tanh', 'hidden_layer_sizes': (300,)}\n",
      "Performed Experiment 64/234(approx) took (s): model: 0.4 selector 0.16 with: FeatureSelectorType.KBest {'score_func': <function f_classif at 0x17591bba0>, 'k': 10} ModelType.MLPClassifier {'solver': 'sgd', 'activation': 'relu', 'hidden_layer_sizes': (100,)}\n",
      "Performed Experiment 65/234(approx) took (s): model: 0.42 selector 0.16 with: FeatureSelectorType.KBest {'score_func': <function f_classif at 0x17591bba0>, 'k': 10} ModelType.MLPClassifier {'solver': 'sgd', 'activation': 'relu', 'hidden_layer_sizes': (200,)}\n",
      "Performed Experiment 66/234(approx) took (s): model: 1.02 selector 0.16 with: FeatureSelectorType.KBest {'score_func': <function f_classif at 0x17591bba0>, 'k': 10} ModelType.MLPClassifier {'solver': 'sgd', 'activation': 'relu', 'hidden_layer_sizes': (300,)}\n",
      "Performed Experiment 67/234(approx) took (s): model: 0.11 selector 0.16 with: FeatureSelectorType.KBest {'score_func': <function f_classif at 0x17591bba0>, 'k': 10} ModelType.MLPClassifier {'solver': 'sgd', 'activation': 'logistic', 'hidden_layer_sizes': (100,)}\n",
      "Performed Experiment 68/234(approx) took (s): model: 0.49 selector 0.16 with: FeatureSelectorType.KBest {'score_func': <function f_classif at 0x17591bba0>, 'k': 10} ModelType.MLPClassifier {'solver': 'sgd', 'activation': 'logistic', 'hidden_layer_sizes': (200,)}\n",
      "Performed Experiment 69/234(approx) took (s): model: 1.21 selector 0.16 with: FeatureSelectorType.KBest {'score_func': <function f_classif at 0x17591bba0>, 'k': 10} ModelType.MLPClassifier {'solver': 'sgd', 'activation': 'logistic', 'hidden_layer_sizes': (300,)}\n",
      "Performed Experiment 70/234(approx) took (s): model: 0.7 selector 0.16 with: FeatureSelectorType.KBest {'score_func': <function f_classif at 0x17591bba0>, 'k': 10} ModelType.MLPClassifier {'solver': 'sgd', 'activation': 'tanh', 'hidden_layer_sizes': (100,)}\n",
      "Performed Experiment 71/234(approx) took (s): model: 0.91 selector 0.16 with: FeatureSelectorType.KBest {'score_func': <function f_classif at 0x17591bba0>, 'k': 10} ModelType.MLPClassifier {'solver': 'sgd', 'activation': 'tanh', 'hidden_layer_sizes': (200,)}\n",
      "Performed Experiment 72/234(approx) took (s): model: 2.05 selector 0.16 with: FeatureSelectorType.KBest {'score_func': <function f_classif at 0x17591bba0>, 'k': 10} ModelType.MLPClassifier {'solver': 'sgd', 'activation': 'tanh', 'hidden_layer_sizes': (300,)}\n"
     ]
    },
    {
     "name": "stderr",
     "output_type": "stream",
     "text": [
      "/opt/anaconda3/lib/python3.11/site-packages/sklearn/neural_network/_multilayer_perceptron.py:686: ConvergenceWarning: Stochastic Optimizer: Maximum iterations (200) reached and the optimization hasn't converged yet.\n",
      "  warnings.warn(\n"
     ]
    },
    {
     "name": "stdout",
     "output_type": "stream",
     "text": [
      "Performed Experiment 73/234(approx) took (s): model: 1.69 selector 0.17 with: FeatureSelectorType.KBest {'score_func': <function f_classif at 0x17591bba0>, 'k': 20} ModelType.MLPClassifier {'solver': 'adam', 'activation': 'relu', 'hidden_layer_sizes': (100,)}\n"
     ]
    },
    {
     "name": "stderr",
     "output_type": "stream",
     "text": [
      "/opt/anaconda3/lib/python3.11/site-packages/sklearn/neural_network/_multilayer_perceptron.py:686: ConvergenceWarning: Stochastic Optimizer: Maximum iterations (200) reached and the optimization hasn't converged yet.\n",
      "  warnings.warn(\n"
     ]
    },
    {
     "name": "stdout",
     "output_type": "stream",
     "text": [
      "Performed Experiment 74/234(approx) took (s): model: 2.25 selector 0.17 with: FeatureSelectorType.KBest {'score_func': <function f_classif at 0x17591bba0>, 'k': 20} ModelType.MLPClassifier {'solver': 'adam', 'activation': 'relu', 'hidden_layer_sizes': (200,)}\n"
     ]
    },
    {
     "name": "stderr",
     "output_type": "stream",
     "text": [
      "/opt/anaconda3/lib/python3.11/site-packages/sklearn/neural_network/_multilayer_perceptron.py:686: ConvergenceWarning: Stochastic Optimizer: Maximum iterations (200) reached and the optimization hasn't converged yet.\n",
      "  warnings.warn(\n"
     ]
    },
    {
     "name": "stdout",
     "output_type": "stream",
     "text": [
      "Performed Experiment 75/234(approx) took (s): model: 3.02 selector 0.17 with: FeatureSelectorType.KBest {'score_func': <function f_classif at 0x17591bba0>, 'k': 20} ModelType.MLPClassifier {'solver': 'adam', 'activation': 'relu', 'hidden_layer_sizes': (300,)}\n"
     ]
    },
    {
     "name": "stderr",
     "output_type": "stream",
     "text": [
      "/opt/anaconda3/lib/python3.11/site-packages/sklearn/neural_network/_multilayer_perceptron.py:686: ConvergenceWarning: Stochastic Optimizer: Maximum iterations (200) reached and the optimization hasn't converged yet.\n",
      "  warnings.warn(\n"
     ]
    },
    {
     "name": "stdout",
     "output_type": "stream",
     "text": [
      "Performed Experiment 76/234(approx) took (s): model: 2.26 selector 0.17 with: FeatureSelectorType.KBest {'score_func': <function f_classif at 0x17591bba0>, 'k': 20} ModelType.MLPClassifier {'solver': 'adam', 'activation': 'logistic', 'hidden_layer_sizes': (100,)}\n"
     ]
    },
    {
     "name": "stderr",
     "output_type": "stream",
     "text": [
      "/opt/anaconda3/lib/python3.11/site-packages/sklearn/neural_network/_multilayer_perceptron.py:686: ConvergenceWarning: Stochastic Optimizer: Maximum iterations (200) reached and the optimization hasn't converged yet.\n",
      "  warnings.warn(\n"
     ]
    },
    {
     "name": "stdout",
     "output_type": "stream",
     "text": [
      "Performed Experiment 77/234(approx) took (s): model: 3.46 selector 0.17 with: FeatureSelectorType.KBest {'score_func': <function f_classif at 0x17591bba0>, 'k': 20} ModelType.MLPClassifier {'solver': 'adam', 'activation': 'logistic', 'hidden_layer_sizes': (200,)}\n"
     ]
    },
    {
     "name": "stderr",
     "output_type": "stream",
     "text": [
      "/opt/anaconda3/lib/python3.11/site-packages/sklearn/neural_network/_multilayer_perceptron.py:686: ConvergenceWarning: Stochastic Optimizer: Maximum iterations (200) reached and the optimization hasn't converged yet.\n",
      "  warnings.warn(\n"
     ]
    },
    {
     "name": "stdout",
     "output_type": "stream",
     "text": [
      "Performed Experiment 78/234(approx) took (s): model: 4.41 selector 0.17 with: FeatureSelectorType.KBest {'score_func': <function f_classif at 0x17591bba0>, 'k': 20} ModelType.MLPClassifier {'solver': 'adam', 'activation': 'logistic', 'hidden_layer_sizes': (300,)}\n"
     ]
    },
    {
     "name": "stderr",
     "output_type": "stream",
     "text": [
      "/opt/anaconda3/lib/python3.11/site-packages/sklearn/neural_network/_multilayer_perceptron.py:686: ConvergenceWarning: Stochastic Optimizer: Maximum iterations (200) reached and the optimization hasn't converged yet.\n",
      "  warnings.warn(\n"
     ]
    },
    {
     "name": "stdout",
     "output_type": "stream",
     "text": [
      "Performed Experiment 79/234(approx) took (s): model: 1.98 selector 0.17 with: FeatureSelectorType.KBest {'score_func': <function f_classif at 0x17591bba0>, 'k': 20} ModelType.MLPClassifier {'solver': 'adam', 'activation': 'tanh', 'hidden_layer_sizes': (100,)}\n"
     ]
    },
    {
     "name": "stderr",
     "output_type": "stream",
     "text": [
      "/opt/anaconda3/lib/python3.11/site-packages/sklearn/neural_network/_multilayer_perceptron.py:686: ConvergenceWarning: Stochastic Optimizer: Maximum iterations (200) reached and the optimization hasn't converged yet.\n",
      "  warnings.warn(\n"
     ]
    },
    {
     "name": "stdout",
     "output_type": "stream",
     "text": [
      "Performed Experiment 80/234(approx) took (s): model: 3.06 selector 0.17 with: FeatureSelectorType.KBest {'score_func': <function f_classif at 0x17591bba0>, 'k': 20} ModelType.MLPClassifier {'solver': 'adam', 'activation': 'tanh', 'hidden_layer_sizes': (200,)}\n"
     ]
    },
    {
     "name": "stderr",
     "output_type": "stream",
     "text": [
      "/opt/anaconda3/lib/python3.11/site-packages/sklearn/neural_network/_multilayer_perceptron.py:686: ConvergenceWarning: Stochastic Optimizer: Maximum iterations (200) reached and the optimization hasn't converged yet.\n",
      "  warnings.warn(\n"
     ]
    },
    {
     "name": "stdout",
     "output_type": "stream",
     "text": [
      "Performed Experiment 81/234(approx) took (s): model: 4.27 selector 0.17 with: FeatureSelectorType.KBest {'score_func': <function f_classif at 0x17591bba0>, 'k': 20} ModelType.MLPClassifier {'solver': 'adam', 'activation': 'tanh', 'hidden_layer_sizes': (300,)}\n",
      "Performed Experiment 82/234(approx) took (s): model: 1.0 selector 0.17 with: FeatureSelectorType.KBest {'score_func': <function f_classif at 0x17591bba0>, 'k': 20} ModelType.MLPClassifier {'solver': 'sgd', 'activation': 'relu', 'hidden_layer_sizes': (100,)}\n",
      "Performed Experiment 83/234(approx) took (s): model: 0.64 selector 0.17 with: FeatureSelectorType.KBest {'score_func': <function f_classif at 0x17591bba0>, 'k': 20} ModelType.MLPClassifier {'solver': 'sgd', 'activation': 'relu', 'hidden_layer_sizes': (200,)}\n",
      "Performed Experiment 84/234(approx) took (s): model: 2.05 selector 0.17 with: FeatureSelectorType.KBest {'score_func': <function f_classif at 0x17591bba0>, 'k': 20} ModelType.MLPClassifier {'solver': 'sgd', 'activation': 'relu', 'hidden_layer_sizes': (300,)}\n",
      "Performed Experiment 85/234(approx) took (s): model: 0.55 selector 0.17 with: FeatureSelectorType.KBest {'score_func': <function f_classif at 0x17591bba0>, 'k': 20} ModelType.MLPClassifier {'solver': 'sgd', 'activation': 'logistic', 'hidden_layer_sizes': (100,)}\n",
      "Performed Experiment 86/234(approx) took (s): model: 0.94 selector 0.17 with: FeatureSelectorType.KBest {'score_func': <function f_classif at 0x17591bba0>, 'k': 20} ModelType.MLPClassifier {'solver': 'sgd', 'activation': 'logistic', 'hidden_layer_sizes': (200,)}\n",
      "Performed Experiment 87/234(approx) took (s): model: 1.39 selector 0.17 with: FeatureSelectorType.KBest {'score_func': <function f_classif at 0x17591bba0>, 'k': 20} ModelType.MLPClassifier {'solver': 'sgd', 'activation': 'logistic', 'hidden_layer_sizes': (300,)}\n"
     ]
    },
    {
     "name": "stderr",
     "output_type": "stream",
     "text": [
      "/opt/anaconda3/lib/python3.11/site-packages/sklearn/neural_network/_multilayer_perceptron.py:686: ConvergenceWarning: Stochastic Optimizer: Maximum iterations (200) reached and the optimization hasn't converged yet.\n",
      "  warnings.warn(\n"
     ]
    },
    {
     "name": "stdout",
     "output_type": "stream",
     "text": [
      "Performed Experiment 88/234(approx) took (s): model: 1.83 selector 0.17 with: FeatureSelectorType.KBest {'score_func': <function f_classif at 0x17591bba0>, 'k': 20} ModelType.MLPClassifier {'solver': 'sgd', 'activation': 'tanh', 'hidden_layer_sizes': (100,)}\n"
     ]
    },
    {
     "name": "stderr",
     "output_type": "stream",
     "text": [
      "/opt/anaconda3/lib/python3.11/site-packages/sklearn/neural_network/_multilayer_perceptron.py:686: ConvergenceWarning: Stochastic Optimizer: Maximum iterations (200) reached and the optimization hasn't converged yet.\n",
      "  warnings.warn(\n"
     ]
    },
    {
     "name": "stdout",
     "output_type": "stream",
     "text": [
      "Performed Experiment 89/234(approx) took (s): model: 3.08 selector 0.17 with: FeatureSelectorType.KBest {'score_func': <function f_classif at 0x17591bba0>, 'k': 20} ModelType.MLPClassifier {'solver': 'sgd', 'activation': 'tanh', 'hidden_layer_sizes': (200,)}\n"
     ]
    },
    {
     "name": "stderr",
     "output_type": "stream",
     "text": [
      "/opt/anaconda3/lib/python3.11/site-packages/sklearn/neural_network/_multilayer_perceptron.py:686: ConvergenceWarning: Stochastic Optimizer: Maximum iterations (200) reached and the optimization hasn't converged yet.\n",
      "  warnings.warn(\n"
     ]
    },
    {
     "name": "stdout",
     "output_type": "stream",
     "text": [
      "Performed Experiment 90/234(approx) took (s): model: 3.75 selector 0.17 with: FeatureSelectorType.KBest {'score_func': <function f_classif at 0x17591bba0>, 'k': 20} ModelType.MLPClassifier {'solver': 'sgd', 'activation': 'tanh', 'hidden_layer_sizes': (300,)}\n"
     ]
    },
    {
     "name": "stderr",
     "output_type": "stream",
     "text": [
      "/opt/anaconda3/lib/python3.11/site-packages/sklearn/neural_network/_multilayer_perceptron.py:686: ConvergenceWarning: Stochastic Optimizer: Maximum iterations (200) reached and the optimization hasn't converged yet.\n",
      "  warnings.warn(\n"
     ]
    },
    {
     "name": "stdout",
     "output_type": "stream",
     "text": [
      "Performed Experiment 91/234(approx) took (s): model: 1.77 selector 0.15 with: FeatureSelectorType.KBest {'score_func': <function f_classif at 0x17591bba0>, 'k': 40} ModelType.MLPClassifier {'solver': 'adam', 'activation': 'relu', 'hidden_layer_sizes': (100,)}\n"
     ]
    },
    {
     "name": "stderr",
     "output_type": "stream",
     "text": [
      "/opt/anaconda3/lib/python3.11/site-packages/sklearn/neural_network/_multilayer_perceptron.py:686: ConvergenceWarning: Stochastic Optimizer: Maximum iterations (200) reached and the optimization hasn't converged yet.\n",
      "  warnings.warn(\n"
     ]
    },
    {
     "name": "stdout",
     "output_type": "stream",
     "text": [
      "Performed Experiment 92/234(approx) took (s): model: 2.33 selector 0.15 with: FeatureSelectorType.KBest {'score_func': <function f_classif at 0x17591bba0>, 'k': 40} ModelType.MLPClassifier {'solver': 'adam', 'activation': 'relu', 'hidden_layer_sizes': (200,)}\n"
     ]
    },
    {
     "name": "stderr",
     "output_type": "stream",
     "text": [
      "/opt/anaconda3/lib/python3.11/site-packages/sklearn/neural_network/_multilayer_perceptron.py:686: ConvergenceWarning: Stochastic Optimizer: Maximum iterations (200) reached and the optimization hasn't converged yet.\n",
      "  warnings.warn(\n"
     ]
    },
    {
     "name": "stdout",
     "output_type": "stream",
     "text": [
      "Performed Experiment 93/234(approx) took (s): model: 3.1 selector 0.15 with: FeatureSelectorType.KBest {'score_func': <function f_classif at 0x17591bba0>, 'k': 40} ModelType.MLPClassifier {'solver': 'adam', 'activation': 'relu', 'hidden_layer_sizes': (300,)}\n"
     ]
    },
    {
     "name": "stderr",
     "output_type": "stream",
     "text": [
      "/opt/anaconda3/lib/python3.11/site-packages/sklearn/neural_network/_multilayer_perceptron.py:686: ConvergenceWarning: Stochastic Optimizer: Maximum iterations (200) reached and the optimization hasn't converged yet.\n",
      "  warnings.warn(\n"
     ]
    },
    {
     "name": "stdout",
     "output_type": "stream",
     "text": [
      "Performed Experiment 94/234(approx) took (s): model: 2.05 selector 0.15 with: FeatureSelectorType.KBest {'score_func': <function f_classif at 0x17591bba0>, 'k': 40} ModelType.MLPClassifier {'solver': 'adam', 'activation': 'logistic', 'hidden_layer_sizes': (100,)}\n"
     ]
    },
    {
     "name": "stderr",
     "output_type": "stream",
     "text": [
      "/opt/anaconda3/lib/python3.11/site-packages/sklearn/neural_network/_multilayer_perceptron.py:686: ConvergenceWarning: Stochastic Optimizer: Maximum iterations (200) reached and the optimization hasn't converged yet.\n",
      "  warnings.warn(\n"
     ]
    },
    {
     "name": "stdout",
     "output_type": "stream",
     "text": [
      "Performed Experiment 95/234(approx) took (s): model: 3.81 selector 0.15 with: FeatureSelectorType.KBest {'score_func': <function f_classif at 0x17591bba0>, 'k': 40} ModelType.MLPClassifier {'solver': 'adam', 'activation': 'logistic', 'hidden_layer_sizes': (200,)}\n"
     ]
    },
    {
     "name": "stderr",
     "output_type": "stream",
     "text": [
      "/opt/anaconda3/lib/python3.11/site-packages/sklearn/neural_network/_multilayer_perceptron.py:686: ConvergenceWarning: Stochastic Optimizer: Maximum iterations (200) reached and the optimization hasn't converged yet.\n",
      "  warnings.warn(\n"
     ]
    },
    {
     "name": "stdout",
     "output_type": "stream",
     "text": [
      "Performed Experiment 96/234(approx) took (s): model: 4.53 selector 0.15 with: FeatureSelectorType.KBest {'score_func': <function f_classif at 0x17591bba0>, 'k': 40} ModelType.MLPClassifier {'solver': 'adam', 'activation': 'logistic', 'hidden_layer_sizes': (300,)}\n"
     ]
    },
    {
     "name": "stderr",
     "output_type": "stream",
     "text": [
      "/opt/anaconda3/lib/python3.11/site-packages/sklearn/neural_network/_multilayer_perceptron.py:686: ConvergenceWarning: Stochastic Optimizer: Maximum iterations (200) reached and the optimization hasn't converged yet.\n",
      "  warnings.warn(\n"
     ]
    },
    {
     "name": "stdout",
     "output_type": "stream",
     "text": [
      "Performed Experiment 97/234(approx) took (s): model: 1.95 selector 0.15 with: FeatureSelectorType.KBest {'score_func': <function f_classif at 0x17591bba0>, 'k': 40} ModelType.MLPClassifier {'solver': 'adam', 'activation': 'tanh', 'hidden_layer_sizes': (100,)}\n"
     ]
    },
    {
     "name": "stderr",
     "output_type": "stream",
     "text": [
      "/opt/anaconda3/lib/python3.11/site-packages/sklearn/neural_network/_multilayer_perceptron.py:686: ConvergenceWarning: Stochastic Optimizer: Maximum iterations (200) reached and the optimization hasn't converged yet.\n",
      "  warnings.warn(\n"
     ]
    },
    {
     "name": "stdout",
     "output_type": "stream",
     "text": [
      "Performed Experiment 98/234(approx) took (s): model: 3.17 selector 0.15 with: FeatureSelectorType.KBest {'score_func': <function f_classif at 0x17591bba0>, 'k': 40} ModelType.MLPClassifier {'solver': 'adam', 'activation': 'tanh', 'hidden_layer_sizes': (200,)}\n"
     ]
    },
    {
     "name": "stderr",
     "output_type": "stream",
     "text": [
      "/opt/anaconda3/lib/python3.11/site-packages/sklearn/neural_network/_multilayer_perceptron.py:686: ConvergenceWarning: Stochastic Optimizer: Maximum iterations (200) reached and the optimization hasn't converged yet.\n",
      "  warnings.warn(\n"
     ]
    },
    {
     "name": "stdout",
     "output_type": "stream",
     "text": [
      "Performed Experiment 99/234(approx) took (s): model: 3.72 selector 0.15 with: FeatureSelectorType.KBest {'score_func': <function f_classif at 0x17591bba0>, 'k': 40} ModelType.MLPClassifier {'solver': 'adam', 'activation': 'tanh', 'hidden_layer_sizes': (300,)}\n"
     ]
    },
    {
     "name": "stderr",
     "output_type": "stream",
     "text": [
      "/opt/anaconda3/lib/python3.11/site-packages/sklearn/neural_network/_multilayer_perceptron.py:686: ConvergenceWarning: Stochastic Optimizer: Maximum iterations (200) reached and the optimization hasn't converged yet.\n",
      "  warnings.warn(\n"
     ]
    },
    {
     "name": "stdout",
     "output_type": "stream",
     "text": [
      "Performed Experiment 100/234(approx) took (s): model: 1.59 selector 0.15 with: FeatureSelectorType.KBest {'score_func': <function f_classif at 0x17591bba0>, 'k': 40} ModelType.MLPClassifier {'solver': 'sgd', 'activation': 'relu', 'hidden_layer_sizes': (100,)}\n",
      "Performed Experiment 101/234(approx) took (s): model: 2.1 selector 0.15 with: FeatureSelectorType.KBest {'score_func': <function f_classif at 0x17591bba0>, 'k': 40} ModelType.MLPClassifier {'solver': 'sgd', 'activation': 'relu', 'hidden_layer_sizes': (200,)}\n"
     ]
    },
    {
     "name": "stderr",
     "output_type": "stream",
     "text": [
      "/opt/anaconda3/lib/python3.11/site-packages/sklearn/neural_network/_multilayer_perceptron.py:686: ConvergenceWarning: Stochastic Optimizer: Maximum iterations (200) reached and the optimization hasn't converged yet.\n",
      "  warnings.warn(\n"
     ]
    },
    {
     "name": "stdout",
     "output_type": "stream",
     "text": [
      "Performed Experiment 102/234(approx) took (s): model: 2.87 selector 0.15 with: FeatureSelectorType.KBest {'score_func': <function f_classif at 0x17591bba0>, 'k': 40} ModelType.MLPClassifier {'solver': 'sgd', 'activation': 'relu', 'hidden_layer_sizes': (300,)}\n",
      "Performed Experiment 103/234(approx) took (s): model: 1.07 selector 0.15 with: FeatureSelectorType.KBest {'score_func': <function f_classif at 0x17591bba0>, 'k': 40} ModelType.MLPClassifier {'solver': 'sgd', 'activation': 'logistic', 'hidden_layer_sizes': (100,)}\n",
      "Performed Experiment 104/234(approx) took (s): model: 1.31 selector 0.15 with: FeatureSelectorType.KBest {'score_func': <function f_classif at 0x17591bba0>, 'k': 40} ModelType.MLPClassifier {'solver': 'sgd', 'activation': 'logistic', 'hidden_layer_sizes': (200,)}\n",
      "Performed Experiment 105/234(approx) took (s): model: 2.13 selector 0.15 with: FeatureSelectorType.KBest {'score_func': <function f_classif at 0x17591bba0>, 'k': 40} ModelType.MLPClassifier {'solver': 'sgd', 'activation': 'logistic', 'hidden_layer_sizes': (300,)}\n"
     ]
    },
    {
     "name": "stderr",
     "output_type": "stream",
     "text": [
      "/opt/anaconda3/lib/python3.11/site-packages/sklearn/neural_network/_multilayer_perceptron.py:686: ConvergenceWarning: Stochastic Optimizer: Maximum iterations (200) reached and the optimization hasn't converged yet.\n",
      "  warnings.warn(\n"
     ]
    },
    {
     "name": "stdout",
     "output_type": "stream",
     "text": [
      "Performed Experiment 106/234(approx) took (s): model: 1.67 selector 0.15 with: FeatureSelectorType.KBest {'score_func': <function f_classif at 0x17591bba0>, 'k': 40} ModelType.MLPClassifier {'solver': 'sgd', 'activation': 'tanh', 'hidden_layer_sizes': (100,)}\n"
     ]
    },
    {
     "name": "stderr",
     "output_type": "stream",
     "text": [
      "/opt/anaconda3/lib/python3.11/site-packages/sklearn/neural_network/_multilayer_perceptron.py:686: ConvergenceWarning: Stochastic Optimizer: Maximum iterations (200) reached and the optimization hasn't converged yet.\n",
      "  warnings.warn(\n"
     ]
    },
    {
     "name": "stdout",
     "output_type": "stream",
     "text": [
      "Performed Experiment 107/234(approx) took (s): model: 2.73 selector 0.15 with: FeatureSelectorType.KBest {'score_func': <function f_classif at 0x17591bba0>, 'k': 40} ModelType.MLPClassifier {'solver': 'sgd', 'activation': 'tanh', 'hidden_layer_sizes': (200,)}\n"
     ]
    },
    {
     "name": "stderr",
     "output_type": "stream",
     "text": [
      "/opt/anaconda3/lib/python3.11/site-packages/sklearn/neural_network/_multilayer_perceptron.py:686: ConvergenceWarning: Stochastic Optimizer: Maximum iterations (200) reached and the optimization hasn't converged yet.\n",
      "  warnings.warn(\n"
     ]
    },
    {
     "name": "stdout",
     "output_type": "stream",
     "text": [
      "Performed Experiment 108/234(approx) took (s): model: 3.91 selector 0.15 with: FeatureSelectorType.KBest {'score_func': <function f_classif at 0x17591bba0>, 'k': 40} ModelType.MLPClassifier {'solver': 'sgd', 'activation': 'tanh', 'hidden_layer_sizes': (300,)}\n"
     ]
    },
    {
     "name": "stderr",
     "output_type": "stream",
     "text": [
      "/opt/anaconda3/lib/python3.11/site-packages/sklearn/neural_network/_multilayer_perceptron.py:686: ConvergenceWarning: Stochastic Optimizer: Maximum iterations (200) reached and the optimization hasn't converged yet.\n",
      "  warnings.warn(\n"
     ]
    },
    {
     "name": "stdout",
     "output_type": "stream",
     "text": [
      "Performed Experiment 109/234(approx) took (s): model: 1.99 selector 0.16 with: FeatureSelectorType.KBest {'score_func': <function f_classif at 0x17591bba0>, 'k': 80} ModelType.MLPClassifier {'solver': 'adam', 'activation': 'relu', 'hidden_layer_sizes': (100,)}\n"
     ]
    },
    {
     "name": "stderr",
     "output_type": "stream",
     "text": [
      "/opt/anaconda3/lib/python3.11/site-packages/sklearn/neural_network/_multilayer_perceptron.py:686: ConvergenceWarning: Stochastic Optimizer: Maximum iterations (200) reached and the optimization hasn't converged yet.\n",
      "  warnings.warn(\n"
     ]
    },
    {
     "name": "stdout",
     "output_type": "stream",
     "text": [
      "Performed Experiment 110/234(approx) took (s): model: 2.71 selector 0.16 with: FeatureSelectorType.KBest {'score_func': <function f_classif at 0x17591bba0>, 'k': 80} ModelType.MLPClassifier {'solver': 'adam', 'activation': 'relu', 'hidden_layer_sizes': (200,)}\n"
     ]
    },
    {
     "name": "stderr",
     "output_type": "stream",
     "text": [
      "/opt/anaconda3/lib/python3.11/site-packages/sklearn/neural_network/_multilayer_perceptron.py:686: ConvergenceWarning: Stochastic Optimizer: Maximum iterations (200) reached and the optimization hasn't converged yet.\n",
      "  warnings.warn(\n"
     ]
    },
    {
     "name": "stdout",
     "output_type": "stream",
     "text": [
      "Performed Experiment 111/234(approx) took (s): model: 3.86 selector 0.16 with: FeatureSelectorType.KBest {'score_func': <function f_classif at 0x17591bba0>, 'k': 80} ModelType.MLPClassifier {'solver': 'adam', 'activation': 'relu', 'hidden_layer_sizes': (300,)}\n"
     ]
    },
    {
     "name": "stderr",
     "output_type": "stream",
     "text": [
      "/opt/anaconda3/lib/python3.11/site-packages/sklearn/neural_network/_multilayer_perceptron.py:686: ConvergenceWarning: Stochastic Optimizer: Maximum iterations (200) reached and the optimization hasn't converged yet.\n",
      "  warnings.warn(\n"
     ]
    },
    {
     "name": "stdout",
     "output_type": "stream",
     "text": [
      "Performed Experiment 112/234(approx) took (s): model: 2.39 selector 0.16 with: FeatureSelectorType.KBest {'score_func': <function f_classif at 0x17591bba0>, 'k': 80} ModelType.MLPClassifier {'solver': 'adam', 'activation': 'logistic', 'hidden_layer_sizes': (100,)}\n"
     ]
    },
    {
     "name": "stderr",
     "output_type": "stream",
     "text": [
      "/opt/anaconda3/lib/python3.11/site-packages/sklearn/neural_network/_multilayer_perceptron.py:686: ConvergenceWarning: Stochastic Optimizer: Maximum iterations (200) reached and the optimization hasn't converged yet.\n",
      "  warnings.warn(\n"
     ]
    },
    {
     "name": "stdout",
     "output_type": "stream",
     "text": [
      "Performed Experiment 113/234(approx) took (s): model: 3.47 selector 0.16 with: FeatureSelectorType.KBest {'score_func': <function f_classif at 0x17591bba0>, 'k': 80} ModelType.MLPClassifier {'solver': 'adam', 'activation': 'logistic', 'hidden_layer_sizes': (200,)}\n"
     ]
    },
    {
     "name": "stderr",
     "output_type": "stream",
     "text": [
      "/opt/anaconda3/lib/python3.11/site-packages/sklearn/neural_network/_multilayer_perceptron.py:686: ConvergenceWarning: Stochastic Optimizer: Maximum iterations (200) reached and the optimization hasn't converged yet.\n",
      "  warnings.warn(\n"
     ]
    },
    {
     "name": "stdout",
     "output_type": "stream",
     "text": [
      "Performed Experiment 114/234(approx) took (s): model: 4.6 selector 0.16 with: FeatureSelectorType.KBest {'score_func': <function f_classif at 0x17591bba0>, 'k': 80} ModelType.MLPClassifier {'solver': 'adam', 'activation': 'logistic', 'hidden_layer_sizes': (300,)}\n"
     ]
    },
    {
     "name": "stderr",
     "output_type": "stream",
     "text": [
      "/opt/anaconda3/lib/python3.11/site-packages/sklearn/neural_network/_multilayer_perceptron.py:686: ConvergenceWarning: Stochastic Optimizer: Maximum iterations (200) reached and the optimization hasn't converged yet.\n",
      "  warnings.warn(\n"
     ]
    },
    {
     "name": "stdout",
     "output_type": "stream",
     "text": [
      "Performed Experiment 115/234(approx) took (s): model: 2.13 selector 0.16 with: FeatureSelectorType.KBest {'score_func': <function f_classif at 0x17591bba0>, 'k': 80} ModelType.MLPClassifier {'solver': 'adam', 'activation': 'tanh', 'hidden_layer_sizes': (100,)}\n"
     ]
    },
    {
     "name": "stderr",
     "output_type": "stream",
     "text": [
      "/opt/anaconda3/lib/python3.11/site-packages/sklearn/neural_network/_multilayer_perceptron.py:686: ConvergenceWarning: Stochastic Optimizer: Maximum iterations (200) reached and the optimization hasn't converged yet.\n",
      "  warnings.warn(\n"
     ]
    },
    {
     "name": "stdout",
     "output_type": "stream",
     "text": [
      "Performed Experiment 116/234(approx) took (s): model: 2.96 selector 0.16 with: FeatureSelectorType.KBest {'score_func': <function f_classif at 0x17591bba0>, 'k': 80} ModelType.MLPClassifier {'solver': 'adam', 'activation': 'tanh', 'hidden_layer_sizes': (200,)}\n"
     ]
    },
    {
     "name": "stderr",
     "output_type": "stream",
     "text": [
      "/opt/anaconda3/lib/python3.11/site-packages/sklearn/neural_network/_multilayer_perceptron.py:686: ConvergenceWarning: Stochastic Optimizer: Maximum iterations (200) reached and the optimization hasn't converged yet.\n",
      "  warnings.warn(\n"
     ]
    },
    {
     "name": "stdout",
     "output_type": "stream",
     "text": [
      "Performed Experiment 117/234(approx) took (s): model: 4.18 selector 0.16 with: FeatureSelectorType.KBest {'score_func': <function f_classif at 0x17591bba0>, 'k': 80} ModelType.MLPClassifier {'solver': 'adam', 'activation': 'tanh', 'hidden_layer_sizes': (300,)}\n"
     ]
    },
    {
     "name": "stderr",
     "output_type": "stream",
     "text": [
      "/opt/anaconda3/lib/python3.11/site-packages/sklearn/neural_network/_multilayer_perceptron.py:686: ConvergenceWarning: Stochastic Optimizer: Maximum iterations (200) reached and the optimization hasn't converged yet.\n",
      "  warnings.warn(\n"
     ]
    },
    {
     "name": "stdout",
     "output_type": "stream",
     "text": [
      "Performed Experiment 118/234(approx) took (s): model: 1.82 selector 0.16 with: FeatureSelectorType.KBest {'score_func': <function f_classif at 0x17591bba0>, 'k': 80} ModelType.MLPClassifier {'solver': 'sgd', 'activation': 'relu', 'hidden_layer_sizes': (100,)}\n"
     ]
    },
    {
     "name": "stderr",
     "output_type": "stream",
     "text": [
      "/opt/anaconda3/lib/python3.11/site-packages/sklearn/neural_network/_multilayer_perceptron.py:686: ConvergenceWarning: Stochastic Optimizer: Maximum iterations (200) reached and the optimization hasn't converged yet.\n",
      "  warnings.warn(\n"
     ]
    },
    {
     "name": "stdout",
     "output_type": "stream",
     "text": [
      "Performed Experiment 119/234(approx) took (s): model: 2.47 selector 0.16 with: FeatureSelectorType.KBest {'score_func': <function f_classif at 0x17591bba0>, 'k': 80} ModelType.MLPClassifier {'solver': 'sgd', 'activation': 'relu', 'hidden_layer_sizes': (200,)}\n"
     ]
    },
    {
     "name": "stderr",
     "output_type": "stream",
     "text": [
      "/opt/anaconda3/lib/python3.11/site-packages/sklearn/neural_network/_multilayer_perceptron.py:686: ConvergenceWarning: Stochastic Optimizer: Maximum iterations (200) reached and the optimization hasn't converged yet.\n",
      "  warnings.warn(\n"
     ]
    },
    {
     "name": "stdout",
     "output_type": "stream",
     "text": [
      "Performed Experiment 120/234(approx) took (s): model: 3.68 selector 0.16 with: FeatureSelectorType.KBest {'score_func': <function f_classif at 0x17591bba0>, 'k': 80} ModelType.MLPClassifier {'solver': 'sgd', 'activation': 'relu', 'hidden_layer_sizes': (300,)}\n"
     ]
    },
    {
     "name": "stderr",
     "output_type": "stream",
     "text": [
      "/opt/anaconda3/lib/python3.11/site-packages/sklearn/neural_network/_multilayer_perceptron.py:686: ConvergenceWarning: Stochastic Optimizer: Maximum iterations (200) reached and the optimization hasn't converged yet.\n",
      "  warnings.warn(\n"
     ]
    },
    {
     "name": "stdout",
     "output_type": "stream",
     "text": [
      "Performed Experiment 121/234(approx) took (s): model: 2.33 selector 0.16 with: FeatureSelectorType.KBest {'score_func': <function f_classif at 0x17591bba0>, 'k': 80} ModelType.MLPClassifier {'solver': 'sgd', 'activation': 'logistic', 'hidden_layer_sizes': (100,)}\n"
     ]
    },
    {
     "name": "stderr",
     "output_type": "stream",
     "text": [
      "/opt/anaconda3/lib/python3.11/site-packages/sklearn/neural_network/_multilayer_perceptron.py:686: ConvergenceWarning: Stochastic Optimizer: Maximum iterations (200) reached and the optimization hasn't converged yet.\n",
      "  warnings.warn(\n"
     ]
    },
    {
     "name": "stdout",
     "output_type": "stream",
     "text": [
      "Performed Experiment 122/234(approx) took (s): model: 3.19 selector 0.16 with: FeatureSelectorType.KBest {'score_func': <function f_classif at 0x17591bba0>, 'k': 80} ModelType.MLPClassifier {'solver': 'sgd', 'activation': 'logistic', 'hidden_layer_sizes': (200,)}\n"
     ]
    },
    {
     "name": "stderr",
     "output_type": "stream",
     "text": [
      "/opt/anaconda3/lib/python3.11/site-packages/sklearn/neural_network/_multilayer_perceptron.py:686: ConvergenceWarning: Stochastic Optimizer: Maximum iterations (200) reached and the optimization hasn't converged yet.\n",
      "  warnings.warn(\n"
     ]
    },
    {
     "name": "stdout",
     "output_type": "stream",
     "text": [
      "Performed Experiment 123/234(approx) took (s): model: 4.28 selector 0.16 with: FeatureSelectorType.KBest {'score_func': <function f_classif at 0x17591bba0>, 'k': 80} ModelType.MLPClassifier {'solver': 'sgd', 'activation': 'logistic', 'hidden_layer_sizes': (300,)}\n"
     ]
    },
    {
     "name": "stderr",
     "output_type": "stream",
     "text": [
      "/opt/anaconda3/lib/python3.11/site-packages/sklearn/neural_network/_multilayer_perceptron.py:686: ConvergenceWarning: Stochastic Optimizer: Maximum iterations (200) reached and the optimization hasn't converged yet.\n",
      "  warnings.warn(\n"
     ]
    },
    {
     "name": "stdout",
     "output_type": "stream",
     "text": [
      "Performed Experiment 124/234(approx) took (s): model: 1.88 selector 0.16 with: FeatureSelectorType.KBest {'score_func': <function f_classif at 0x17591bba0>, 'k': 80} ModelType.MLPClassifier {'solver': 'sgd', 'activation': 'tanh', 'hidden_layer_sizes': (100,)}\n"
     ]
    },
    {
     "name": "stderr",
     "output_type": "stream",
     "text": [
      "/opt/anaconda3/lib/python3.11/site-packages/sklearn/neural_network/_multilayer_perceptron.py:686: ConvergenceWarning: Stochastic Optimizer: Maximum iterations (200) reached and the optimization hasn't converged yet.\n",
      "  warnings.warn(\n"
     ]
    },
    {
     "name": "stdout",
     "output_type": "stream",
     "text": [
      "Performed Experiment 125/234(approx) took (s): model: 3.05 selector 0.16 with: FeatureSelectorType.KBest {'score_func': <function f_classif at 0x17591bba0>, 'k': 80} ModelType.MLPClassifier {'solver': 'sgd', 'activation': 'tanh', 'hidden_layer_sizes': (200,)}\n"
     ]
    },
    {
     "name": "stderr",
     "output_type": "stream",
     "text": [
      "/opt/anaconda3/lib/python3.11/site-packages/sklearn/neural_network/_multilayer_perceptron.py:686: ConvergenceWarning: Stochastic Optimizer: Maximum iterations (200) reached and the optimization hasn't converged yet.\n",
      "  warnings.warn(\n"
     ]
    },
    {
     "name": "stdout",
     "output_type": "stream",
     "text": [
      "Performed Experiment 126/234(approx) took (s): model: 4.53 selector 0.16 with: FeatureSelectorType.KBest {'score_func': <function f_classif at 0x17591bba0>, 'k': 80} ModelType.MLPClassifier {'solver': 'sgd', 'activation': 'tanh', 'hidden_layer_sizes': (300,)}\n",
      "Performed Experiment 127/234(approx) took (s): model: 0.63 selector 3.39 with: FeatureSelectorType.KBest {'score_func': <function mutual_info_classif at 0x17593f100>, 'k': 2} ModelType.MLPClassifier {'solver': 'adam', 'activation': 'relu', 'hidden_layer_sizes': (100,)}\n",
      "Performed Experiment 128/234(approx) took (s): model: 0.86 selector 3.39 with: FeatureSelectorType.KBest {'score_func': <function mutual_info_classif at 0x17593f100>, 'k': 2} ModelType.MLPClassifier {'solver': 'adam', 'activation': 'relu', 'hidden_layer_sizes': (200,)}\n",
      "Performed Experiment 129/234(approx) took (s): model: 0.98 selector 3.39 with: FeatureSelectorType.KBest {'score_func': <function mutual_info_classif at 0x17593f100>, 'k': 2} ModelType.MLPClassifier {'solver': 'adam', 'activation': 'relu', 'hidden_layer_sizes': (300,)}\n",
      "Performed Experiment 130/234(approx) took (s): model: 0.21 selector 3.39 with: FeatureSelectorType.KBest {'score_func': <function mutual_info_classif at 0x17593f100>, 'k': 2} ModelType.MLPClassifier {'solver': 'adam', 'activation': 'logistic', 'hidden_layer_sizes': (100,)}\n"
     ]
    },
    {
     "name": "stderr",
     "output_type": "stream",
     "text": [
      "/opt/anaconda3/lib/python3.11/site-packages/sklearn/metrics/_classification.py:1344: UndefinedMetricWarning: Precision is ill-defined and being set to 0.0 due to no predicted samples. Use `zero_division` parameter to control this behavior.\n",
      "  _warn_prf(average, modifier, msg_start, len(result))\n"
     ]
    },
    {
     "name": "stdout",
     "output_type": "stream",
     "text": [
      "Performed Experiment 131/234(approx) took (s): model: 0.9 selector 3.39 with: FeatureSelectorType.KBest {'score_func': <function mutual_info_classif at 0x17593f100>, 'k': 2} ModelType.MLPClassifier {'solver': 'adam', 'activation': 'logistic', 'hidden_layer_sizes': (200,)}\n",
      "Performed Experiment 132/234(approx) took (s): model: 0.29 selector 3.39 with: FeatureSelectorType.KBest {'score_func': <function mutual_info_classif at 0x17593f100>, 'k': 2} ModelType.MLPClassifier {'solver': 'adam', 'activation': 'logistic', 'hidden_layer_sizes': (300,)}\n",
      "Performed Experiment 133/234(approx) took (s): model: 0.78 selector 3.39 with: FeatureSelectorType.KBest {'score_func': <function mutual_info_classif at 0x17593f100>, 'k': 2} ModelType.MLPClassifier {'solver': 'adam', 'activation': 'tanh', 'hidden_layer_sizes': (100,)}\n",
      "Performed Experiment 134/234(approx) took (s): model: 1.46 selector 3.39 with: FeatureSelectorType.KBest {'score_func': <function mutual_info_classif at 0x17593f100>, 'k': 2} ModelType.MLPClassifier {'solver': 'adam', 'activation': 'tanh', 'hidden_layer_sizes': (200,)}\n",
      "Performed Experiment 135/234(approx) took (s): model: 2.49 selector 3.39 with: FeatureSelectorType.KBest {'score_func': <function mutual_info_classif at 0x17593f100>, 'k': 2} ModelType.MLPClassifier {'solver': 'adam', 'activation': 'tanh', 'hidden_layer_sizes': (300,)}\n",
      "Performed Experiment 136/234(approx) took (s): model: 0.52 selector 3.39 with: FeatureSelectorType.KBest {'score_func': <function mutual_info_classif at 0x17593f100>, 'k': 2} ModelType.MLPClassifier {'solver': 'sgd', 'activation': 'relu', 'hidden_layer_sizes': (100,)}\n",
      "Performed Experiment 137/234(approx) took (s): model: 0.74 selector 3.39 with: FeatureSelectorType.KBest {'score_func': <function mutual_info_classif at 0x17593f100>, 'k': 2} ModelType.MLPClassifier {'solver': 'sgd', 'activation': 'relu', 'hidden_layer_sizes': (200,)}\n",
      "Performed Experiment 138/234(approx) took (s): model: 0.78 selector 3.39 with: FeatureSelectorType.KBest {'score_func': <function mutual_info_classif at 0x17593f100>, 'k': 2} ModelType.MLPClassifier {'solver': 'sgd', 'activation': 'relu', 'hidden_layer_sizes': (300,)}\n",
      "Performed Experiment 139/234(approx) took (s): model: 0.12 selector 3.39 with: FeatureSelectorType.KBest {'score_func': <function mutual_info_classif at 0x17593f100>, 'k': 2} ModelType.MLPClassifier {'solver': 'sgd', 'activation': 'logistic', 'hidden_layer_sizes': (100,)}\n",
      "Performed Experiment 140/234(approx) took (s): model: 0.21 selector 3.39 with: FeatureSelectorType.KBest {'score_func': <function mutual_info_classif at 0x17593f100>, 'k': 2} ModelType.MLPClassifier {'solver': 'sgd', 'activation': 'logistic', 'hidden_layer_sizes': (200,)}\n",
      "Performed Experiment 141/234(approx) took (s): model: 0.38 selector 3.39 with: FeatureSelectorType.KBest {'score_func': <function mutual_info_classif at 0x17593f100>, 'k': 2} ModelType.MLPClassifier {'solver': 'sgd', 'activation': 'logistic', 'hidden_layer_sizes': (300,)}\n",
      "Performed Experiment 142/234(approx) took (s): model: 0.19 selector 3.39 with: FeatureSelectorType.KBest {'score_func': <function mutual_info_classif at 0x17593f100>, 'k': 2} ModelType.MLPClassifier {'solver': 'sgd', 'activation': 'tanh', 'hidden_layer_sizes': (100,)}\n",
      "Performed Experiment 143/234(approx) took (s): model: 0.29 selector 3.39 with: FeatureSelectorType.KBest {'score_func': <function mutual_info_classif at 0x17593f100>, 'k': 2} ModelType.MLPClassifier {'solver': 'sgd', 'activation': 'tanh', 'hidden_layer_sizes': (200,)}\n",
      "Performed Experiment 144/234(approx) took (s): model: 0.27 selector 3.39 with: FeatureSelectorType.KBest {'score_func': <function mutual_info_classif at 0x17593f100>, 'k': 2} ModelType.MLPClassifier {'solver': 'sgd', 'activation': 'tanh', 'hidden_layer_sizes': (300,)}\n"
     ]
    },
    {
     "name": "stderr",
     "output_type": "stream",
     "text": [
      "/opt/anaconda3/lib/python3.11/site-packages/sklearn/neural_network/_multilayer_perceptron.py:686: ConvergenceWarning: Stochastic Optimizer: Maximum iterations (200) reached and the optimization hasn't converged yet.\n",
      "  warnings.warn(\n"
     ]
    },
    {
     "name": "stdout",
     "output_type": "stream",
     "text": [
      "Performed Experiment 145/234(approx) took (s): model: 1.07 selector 3.47 with: FeatureSelectorType.KBest {'score_func': <function mutual_info_classif at 0x17593f100>, 'k': 5} ModelType.MLPClassifier {'solver': 'adam', 'activation': 'relu', 'hidden_layer_sizes': (100,)}\n"
     ]
    },
    {
     "name": "stderr",
     "output_type": "stream",
     "text": [
      "/opt/anaconda3/lib/python3.11/site-packages/sklearn/neural_network/_multilayer_perceptron.py:686: ConvergenceWarning: Stochastic Optimizer: Maximum iterations (200) reached and the optimization hasn't converged yet.\n",
      "  warnings.warn(\n"
     ]
    },
    {
     "name": "stdout",
     "output_type": "stream",
     "text": [
      "Performed Experiment 146/234(approx) took (s): model: 2.12 selector 3.47 with: FeatureSelectorType.KBest {'score_func': <function mutual_info_classif at 0x17593f100>, 'k': 5} ModelType.MLPClassifier {'solver': 'adam', 'activation': 'relu', 'hidden_layer_sizes': (200,)}\n",
      "Performed Experiment 147/234(approx) took (s): model: 2.69 selector 3.47 with: FeatureSelectorType.KBest {'score_func': <function mutual_info_classif at 0x17593f100>, 'k': 5} ModelType.MLPClassifier {'solver': 'adam', 'activation': 'relu', 'hidden_layer_sizes': (300,)}\n",
      "Performed Experiment 148/234(approx) took (s): model: 0.12 selector 3.47 with: FeatureSelectorType.KBest {'score_func': <function mutual_info_classif at 0x17593f100>, 'k': 5} ModelType.MLPClassifier {'solver': 'adam', 'activation': 'logistic', 'hidden_layer_sizes': (100,)}\n",
      "Performed Experiment 149/234(approx) took (s): model: 0.47 selector 3.47 with: FeatureSelectorType.KBest {'score_func': <function mutual_info_classif at 0x17593f100>, 'k': 5} ModelType.MLPClassifier {'solver': 'adam', 'activation': 'logistic', 'hidden_layer_sizes': (200,)}\n",
      "Performed Experiment 150/234(approx) took (s): model: 0.35 selector 3.47 with: FeatureSelectorType.KBest {'score_func': <function mutual_info_classif at 0x17593f100>, 'k': 5} ModelType.MLPClassifier {'solver': 'adam', 'activation': 'logistic', 'hidden_layer_sizes': (300,)}\n",
      "Performed Experiment 151/234(approx) took (s): model: 0.92 selector 3.47 with: FeatureSelectorType.KBest {'score_func': <function mutual_info_classif at 0x17593f100>, 'k': 5} ModelType.MLPClassifier {'solver': 'adam', 'activation': 'tanh', 'hidden_layer_sizes': (100,)}\n",
      "Performed Experiment 152/234(approx) took (s): model: 1.23 selector 3.47 with: FeatureSelectorType.KBest {'score_func': <function mutual_info_classif at 0x17593f100>, 'k': 5} ModelType.MLPClassifier {'solver': 'adam', 'activation': 'tanh', 'hidden_layer_sizes': (200,)}\n",
      "Performed Experiment 153/234(approx) took (s): model: 0.37 selector 3.47 with: FeatureSelectorType.KBest {'score_func': <function mutual_info_classif at 0x17593f100>, 'k': 5} ModelType.MLPClassifier {'solver': 'adam', 'activation': 'tanh', 'hidden_layer_sizes': (300,)}\n",
      "Performed Experiment 154/234(approx) took (s): model: 0.38 selector 3.47 with: FeatureSelectorType.KBest {'score_func': <function mutual_info_classif at 0x17593f100>, 'k': 5} ModelType.MLPClassifier {'solver': 'sgd', 'activation': 'relu', 'hidden_layer_sizes': (100,)}\n",
      "Performed Experiment 155/234(approx) took (s): model: 0.78 selector 3.47 with: FeatureSelectorType.KBest {'score_func': <function mutual_info_classif at 0x17593f100>, 'k': 5} ModelType.MLPClassifier {'solver': 'sgd', 'activation': 'relu', 'hidden_layer_sizes': (200,)}\n",
      "Performed Experiment 156/234(approx) took (s): model: 1.14 selector 3.47 with: FeatureSelectorType.KBest {'score_func': <function mutual_info_classif at 0x17593f100>, 'k': 5} ModelType.MLPClassifier {'solver': 'sgd', 'activation': 'relu', 'hidden_layer_sizes': (300,)}\n",
      "Performed Experiment 157/234(approx) took (s): model: 0.09 selector 3.47 with: FeatureSelectorType.KBest {'score_func': <function mutual_info_classif at 0x17593f100>, 'k': 5} ModelType.MLPClassifier {'solver': 'sgd', 'activation': 'logistic', 'hidden_layer_sizes': (100,)}\n",
      "Performed Experiment 158/234(approx) took (s): model: 0.17 selector 3.47 with: FeatureSelectorType.KBest {'score_func': <function mutual_info_classif at 0x17593f100>, 'k': 5} ModelType.MLPClassifier {'solver': 'sgd', 'activation': 'logistic', 'hidden_layer_sizes': (200,)}\n",
      "Performed Experiment 159/234(approx) took (s): model: 0.27 selector 3.47 with: FeatureSelectorType.KBest {'score_func': <function mutual_info_classif at 0x17593f100>, 'k': 5} ModelType.MLPClassifier {'solver': 'sgd', 'activation': 'logistic', 'hidden_layer_sizes': (300,)}\n",
      "Performed Experiment 160/234(approx) took (s): model: 0.26 selector 3.47 with: FeatureSelectorType.KBest {'score_func': <function mutual_info_classif at 0x17593f100>, 'k': 5} ModelType.MLPClassifier {'solver': 'sgd', 'activation': 'tanh', 'hidden_layer_sizes': (100,)}\n",
      "Performed Experiment 161/234(approx) took (s): model: 0.26 selector 3.47 with: FeatureSelectorType.KBest {'score_func': <function mutual_info_classif at 0x17593f100>, 'k': 5} ModelType.MLPClassifier {'solver': 'sgd', 'activation': 'tanh', 'hidden_layer_sizes': (200,)}\n",
      "Performed Experiment 162/234(approx) took (s): model: 0.27 selector 3.47 with: FeatureSelectorType.KBest {'score_func': <function mutual_info_classif at 0x17593f100>, 'k': 5} ModelType.MLPClassifier {'solver': 'sgd', 'activation': 'tanh', 'hidden_layer_sizes': (300,)}\n"
     ]
    },
    {
     "name": "stderr",
     "output_type": "stream",
     "text": [
      "/opt/anaconda3/lib/python3.11/site-packages/sklearn/neural_network/_multilayer_perceptron.py:686: ConvergenceWarning: Stochastic Optimizer: Maximum iterations (200) reached and the optimization hasn't converged yet.\n",
      "  warnings.warn(\n"
     ]
    },
    {
     "name": "stdout",
     "output_type": "stream",
     "text": [
      "Performed Experiment 163/234(approx) took (s): model: 1.05 selector 3.35 with: FeatureSelectorType.KBest {'score_func': <function mutual_info_classif at 0x17593f100>, 'k': 10} ModelType.MLPClassifier {'solver': 'adam', 'activation': 'relu', 'hidden_layer_sizes': (100,)}\n"
     ]
    },
    {
     "name": "stderr",
     "output_type": "stream",
     "text": [
      "/opt/anaconda3/lib/python3.11/site-packages/sklearn/neural_network/_multilayer_perceptron.py:686: ConvergenceWarning: Stochastic Optimizer: Maximum iterations (200) reached and the optimization hasn't converged yet.\n",
      "  warnings.warn(\n"
     ]
    },
    {
     "name": "stdout",
     "output_type": "stream",
     "text": [
      "Performed Experiment 164/234(approx) took (s): model: 1.88 selector 3.35 with: FeatureSelectorType.KBest {'score_func': <function mutual_info_classif at 0x17593f100>, 'k': 10} ModelType.MLPClassifier {'solver': 'adam', 'activation': 'relu', 'hidden_layer_sizes': (200,)}\n"
     ]
    },
    {
     "name": "stderr",
     "output_type": "stream",
     "text": [
      "/opt/anaconda3/lib/python3.11/site-packages/sklearn/neural_network/_multilayer_perceptron.py:686: ConvergenceWarning: Stochastic Optimizer: Maximum iterations (200) reached and the optimization hasn't converged yet.\n",
      "  warnings.warn(\n"
     ]
    },
    {
     "name": "stdout",
     "output_type": "stream",
     "text": [
      "Performed Experiment 165/234(approx) took (s): model: 3.41 selector 3.35 with: FeatureSelectorType.KBest {'score_func': <function mutual_info_classif at 0x17593f100>, 'k': 10} ModelType.MLPClassifier {'solver': 'adam', 'activation': 'relu', 'hidden_layer_sizes': (300,)}\n"
     ]
    },
    {
     "name": "stderr",
     "output_type": "stream",
     "text": [
      "/opt/anaconda3/lib/python3.11/site-packages/sklearn/neural_network/_multilayer_perceptron.py:686: ConvergenceWarning: Stochastic Optimizer: Maximum iterations (200) reached and the optimization hasn't converged yet.\n",
      "  warnings.warn(\n"
     ]
    },
    {
     "name": "stdout",
     "output_type": "stream",
     "text": [
      "Performed Experiment 166/234(approx) took (s): model: 1.66 selector 3.35 with: FeatureSelectorType.KBest {'score_func': <function mutual_info_classif at 0x17593f100>, 'k': 10} ModelType.MLPClassifier {'solver': 'adam', 'activation': 'logistic', 'hidden_layer_sizes': (100,)}\n",
      "Performed Experiment 167/234(approx) took (s): model: 0.54 selector 3.35 with: FeatureSelectorType.KBest {'score_func': <function mutual_info_classif at 0x17593f100>, 'k': 10} ModelType.MLPClassifier {'solver': 'adam', 'activation': 'logistic', 'hidden_layer_sizes': (200,)}\n",
      "Performed Experiment 168/234(approx) took (s): model: 0.46 selector 3.35 with: FeatureSelectorType.KBest {'score_func': <function mutual_info_classif at 0x17593f100>, 'k': 10} ModelType.MLPClassifier {'solver': 'adam', 'activation': 'logistic', 'hidden_layer_sizes': (300,)}\n"
     ]
    },
    {
     "name": "stderr",
     "output_type": "stream",
     "text": [
      "/opt/anaconda3/lib/python3.11/site-packages/sklearn/neural_network/_multilayer_perceptron.py:686: ConvergenceWarning: Stochastic Optimizer: Maximum iterations (200) reached and the optimization hasn't converged yet.\n",
      "  warnings.warn(\n"
     ]
    },
    {
     "name": "stdout",
     "output_type": "stream",
     "text": [
      "Performed Experiment 169/234(approx) took (s): model: 1.25 selector 3.35 with: FeatureSelectorType.KBest {'score_func': <function mutual_info_classif at 0x17593f100>, 'k': 10} ModelType.MLPClassifier {'solver': 'adam', 'activation': 'tanh', 'hidden_layer_sizes': (100,)}\n"
     ]
    },
    {
     "name": "stderr",
     "output_type": "stream",
     "text": [
      "/opt/anaconda3/lib/python3.11/site-packages/sklearn/neural_network/_multilayer_perceptron.py:686: ConvergenceWarning: Stochastic Optimizer: Maximum iterations (200) reached and the optimization hasn't converged yet.\n",
      "  warnings.warn(\n"
     ]
    },
    {
     "name": "stdout",
     "output_type": "stream",
     "text": [
      "Performed Experiment 170/234(approx) took (s): model: 2.52 selector 3.35 with: FeatureSelectorType.KBest {'score_func': <function mutual_info_classif at 0x17593f100>, 'k': 10} ModelType.MLPClassifier {'solver': 'adam', 'activation': 'tanh', 'hidden_layer_sizes': (200,)}\n",
      "Performed Experiment 171/234(approx) took (s): model: 1.63 selector 3.35 with: FeatureSelectorType.KBest {'score_func': <function mutual_info_classif at 0x17593f100>, 'k': 10} ModelType.MLPClassifier {'solver': 'adam', 'activation': 'tanh', 'hidden_layer_sizes': (300,)}\n"
     ]
    },
    {
     "name": "stderr",
     "output_type": "stream",
     "text": [
      "/opt/anaconda3/lib/python3.11/site-packages/sklearn/neural_network/_multilayer_perceptron.py:686: ConvergenceWarning: Stochastic Optimizer: Maximum iterations (200) reached and the optimization hasn't converged yet.\n",
      "  warnings.warn(\n"
     ]
    },
    {
     "name": "stdout",
     "output_type": "stream",
     "text": [
      "Performed Experiment 172/234(approx) took (s): model: 0.95 selector 3.35 with: FeatureSelectorType.KBest {'score_func': <function mutual_info_classif at 0x17593f100>, 'k': 10} ModelType.MLPClassifier {'solver': 'sgd', 'activation': 'relu', 'hidden_layer_sizes': (100,)}\n"
     ]
    },
    {
     "name": "stderr",
     "output_type": "stream",
     "text": [
      "/opt/anaconda3/lib/python3.11/site-packages/sklearn/neural_network/_multilayer_perceptron.py:686: ConvergenceWarning: Stochastic Optimizer: Maximum iterations (200) reached and the optimization hasn't converged yet.\n",
      "  warnings.warn(\n"
     ]
    },
    {
     "name": "stdout",
     "output_type": "stream",
     "text": [
      "Performed Experiment 173/234(approx) took (s): model: 1.76 selector 3.35 with: FeatureSelectorType.KBest {'score_func': <function mutual_info_classif at 0x17593f100>, 'k': 10} ModelType.MLPClassifier {'solver': 'sgd', 'activation': 'relu', 'hidden_layer_sizes': (200,)}\n"
     ]
    },
    {
     "name": "stderr",
     "output_type": "stream",
     "text": [
      "/opt/anaconda3/lib/python3.11/site-packages/sklearn/neural_network/_multilayer_perceptron.py:686: ConvergenceWarning: Stochastic Optimizer: Maximum iterations (200) reached and the optimization hasn't converged yet.\n",
      "  warnings.warn(\n"
     ]
    },
    {
     "name": "stdout",
     "output_type": "stream",
     "text": [
      "Performed Experiment 174/234(approx) took (s): model: 2.39 selector 3.35 with: FeatureSelectorType.KBest {'score_func': <function mutual_info_classif at 0x17593f100>, 'k': 10} ModelType.MLPClassifier {'solver': 'sgd', 'activation': 'relu', 'hidden_layer_sizes': (300,)}\n",
      "Performed Experiment 175/234(approx) took (s): model: 0.15 selector 3.35 with: FeatureSelectorType.KBest {'score_func': <function mutual_info_classif at 0x17593f100>, 'k': 10} ModelType.MLPClassifier {'solver': 'sgd', 'activation': 'logistic', 'hidden_layer_sizes': (100,)}\n",
      "Performed Experiment 176/234(approx) took (s): model: 0.2 selector 3.35 with: FeatureSelectorType.KBest {'score_func': <function mutual_info_classif at 0x17593f100>, 'k': 10} ModelType.MLPClassifier {'solver': 'sgd', 'activation': 'logistic', 'hidden_layer_sizes': (200,)}\n",
      "Performed Experiment 177/234(approx) took (s): model: 0.32 selector 3.35 with: FeatureSelectorType.KBest {'score_func': <function mutual_info_classif at 0x17593f100>, 'k': 10} ModelType.MLPClassifier {'solver': 'sgd', 'activation': 'logistic', 'hidden_layer_sizes': (300,)}\n"
     ]
    },
    {
     "name": "stderr",
     "output_type": "stream",
     "text": [
      "/opt/anaconda3/lib/python3.11/site-packages/sklearn/neural_network/_multilayer_perceptron.py:686: ConvergenceWarning: Stochastic Optimizer: Maximum iterations (200) reached and the optimization hasn't converged yet.\n",
      "  warnings.warn(\n"
     ]
    },
    {
     "name": "stdout",
     "output_type": "stream",
     "text": [
      "Performed Experiment 178/234(approx) took (s): model: 1.13 selector 3.35 with: FeatureSelectorType.KBest {'score_func': <function mutual_info_classif at 0x17593f100>, 'k': 10} ModelType.MLPClassifier {'solver': 'sgd', 'activation': 'tanh', 'hidden_layer_sizes': (100,)}\n"
     ]
    },
    {
     "name": "stderr",
     "output_type": "stream",
     "text": [
      "/opt/anaconda3/lib/python3.11/site-packages/sklearn/neural_network/_multilayer_perceptron.py:686: ConvergenceWarning: Stochastic Optimizer: Maximum iterations (200) reached and the optimization hasn't converged yet.\n",
      "  warnings.warn(\n"
     ]
    },
    {
     "name": "stdout",
     "output_type": "stream",
     "text": [
      "Performed Experiment 179/234(approx) took (s): model: 2.21 selector 3.35 with: FeatureSelectorType.KBest {'score_func': <function mutual_info_classif at 0x17593f100>, 'k': 10} ModelType.MLPClassifier {'solver': 'sgd', 'activation': 'tanh', 'hidden_layer_sizes': (200,)}\n"
     ]
    },
    {
     "name": "stderr",
     "output_type": "stream",
     "text": [
      "/opt/anaconda3/lib/python3.11/site-packages/sklearn/neural_network/_multilayer_perceptron.py:686: ConvergenceWarning: Stochastic Optimizer: Maximum iterations (200) reached and the optimization hasn't converged yet.\n",
      "  warnings.warn(\n"
     ]
    },
    {
     "name": "stdout",
     "output_type": "stream",
     "text": [
      "Performed Experiment 180/234(approx) took (s): model: 2.89 selector 3.35 with: FeatureSelectorType.KBest {'score_func': <function mutual_info_classif at 0x17593f100>, 'k': 10} ModelType.MLPClassifier {'solver': 'sgd', 'activation': 'tanh', 'hidden_layer_sizes': (300,)}\n"
     ]
    },
    {
     "name": "stderr",
     "output_type": "stream",
     "text": [
      "/opt/anaconda3/lib/python3.11/site-packages/sklearn/neural_network/_multilayer_perceptron.py:686: ConvergenceWarning: Stochastic Optimizer: Maximum iterations (200) reached and the optimization hasn't converged yet.\n",
      "  warnings.warn(\n"
     ]
    },
    {
     "name": "stdout",
     "output_type": "stream",
     "text": [
      "Performed Experiment 181/234(approx) took (s): model: 1.41 selector 3.34 with: FeatureSelectorType.KBest {'score_func': <function mutual_info_classif at 0x17593f100>, 'k': 20} ModelType.MLPClassifier {'solver': 'adam', 'activation': 'relu', 'hidden_layer_sizes': (100,)}\n"
     ]
    },
    {
     "name": "stderr",
     "output_type": "stream",
     "text": [
      "/opt/anaconda3/lib/python3.11/site-packages/sklearn/neural_network/_multilayer_perceptron.py:686: ConvergenceWarning: Stochastic Optimizer: Maximum iterations (200) reached and the optimization hasn't converged yet.\n",
      "  warnings.warn(\n"
     ]
    },
    {
     "name": "stdout",
     "output_type": "stream",
     "text": [
      "Performed Experiment 182/234(approx) took (s): model: 2.15 selector 3.34 with: FeatureSelectorType.KBest {'score_func': <function mutual_info_classif at 0x17593f100>, 'k': 20} ModelType.MLPClassifier {'solver': 'adam', 'activation': 'relu', 'hidden_layer_sizes': (200,)}\n"
     ]
    },
    {
     "name": "stderr",
     "output_type": "stream",
     "text": [
      "/opt/anaconda3/lib/python3.11/site-packages/sklearn/neural_network/_multilayer_perceptron.py:686: ConvergenceWarning: Stochastic Optimizer: Maximum iterations (200) reached and the optimization hasn't converged yet.\n",
      "  warnings.warn(\n"
     ]
    },
    {
     "name": "stdout",
     "output_type": "stream",
     "text": [
      "Performed Experiment 183/234(approx) took (s): model: 2.72 selector 3.34 with: FeatureSelectorType.KBest {'score_func': <function mutual_info_classif at 0x17593f100>, 'k': 20} ModelType.MLPClassifier {'solver': 'adam', 'activation': 'relu', 'hidden_layer_sizes': (300,)}\n"
     ]
    },
    {
     "name": "stderr",
     "output_type": "stream",
     "text": [
      "/opt/anaconda3/lib/python3.11/site-packages/sklearn/neural_network/_multilayer_perceptron.py:686: ConvergenceWarning: Stochastic Optimizer: Maximum iterations (200) reached and the optimization hasn't converged yet.\n",
      "  warnings.warn(\n"
     ]
    },
    {
     "name": "stdout",
     "output_type": "stream",
     "text": [
      "Performed Experiment 184/234(approx) took (s): model: 1.75 selector 3.34 with: FeatureSelectorType.KBest {'score_func': <function mutual_info_classif at 0x17593f100>, 'k': 20} ModelType.MLPClassifier {'solver': 'adam', 'activation': 'logistic', 'hidden_layer_sizes': (100,)}\n"
     ]
    },
    {
     "name": "stderr",
     "output_type": "stream",
     "text": [
      "/opt/anaconda3/lib/python3.11/site-packages/sklearn/neural_network/_multilayer_perceptron.py:686: ConvergenceWarning: Stochastic Optimizer: Maximum iterations (200) reached and the optimization hasn't converged yet.\n",
      "  warnings.warn(\n"
     ]
    },
    {
     "name": "stdout",
     "output_type": "stream",
     "text": [
      "Performed Experiment 185/234(approx) took (s): model: 2.59 selector 3.34 with: FeatureSelectorType.KBest {'score_func': <function mutual_info_classif at 0x17593f100>, 'k': 20} ModelType.MLPClassifier {'solver': 'adam', 'activation': 'logistic', 'hidden_layer_sizes': (200,)}\n"
     ]
    },
    {
     "name": "stderr",
     "output_type": "stream",
     "text": [
      "/opt/anaconda3/lib/python3.11/site-packages/sklearn/neural_network/_multilayer_perceptron.py:686: ConvergenceWarning: Stochastic Optimizer: Maximum iterations (200) reached and the optimization hasn't converged yet.\n",
      "  warnings.warn(\n"
     ]
    },
    {
     "name": "stdout",
     "output_type": "stream",
     "text": [
      "Performed Experiment 186/234(approx) took (s): model: 3.55 selector 3.34 with: FeatureSelectorType.KBest {'score_func': <function mutual_info_classif at 0x17593f100>, 'k': 20} ModelType.MLPClassifier {'solver': 'adam', 'activation': 'logistic', 'hidden_layer_sizes': (300,)}\n"
     ]
    },
    {
     "name": "stderr",
     "output_type": "stream",
     "text": [
      "/opt/anaconda3/lib/python3.11/site-packages/sklearn/neural_network/_multilayer_perceptron.py:686: ConvergenceWarning: Stochastic Optimizer: Maximum iterations (200) reached and the optimization hasn't converged yet.\n",
      "  warnings.warn(\n"
     ]
    },
    {
     "name": "stdout",
     "output_type": "stream",
     "text": [
      "Performed Experiment 187/234(approx) took (s): model: 1.79 selector 3.34 with: FeatureSelectorType.KBest {'score_func': <function mutual_info_classif at 0x17593f100>, 'k': 20} ModelType.MLPClassifier {'solver': 'adam', 'activation': 'tanh', 'hidden_layer_sizes': (100,)}\n"
     ]
    },
    {
     "name": "stderr",
     "output_type": "stream",
     "text": [
      "/opt/anaconda3/lib/python3.11/site-packages/sklearn/neural_network/_multilayer_perceptron.py:686: ConvergenceWarning: Stochastic Optimizer: Maximum iterations (200) reached and the optimization hasn't converged yet.\n",
      "  warnings.warn(\n"
     ]
    },
    {
     "name": "stdout",
     "output_type": "stream",
     "text": [
      "Performed Experiment 188/234(approx) took (s): model: 4.29 selector 3.34 with: FeatureSelectorType.KBest {'score_func': <function mutual_info_classif at 0x17593f100>, 'k': 20} ModelType.MLPClassifier {'solver': 'adam', 'activation': 'tanh', 'hidden_layer_sizes': (200,)}\n"
     ]
    },
    {
     "name": "stderr",
     "output_type": "stream",
     "text": [
      "/opt/anaconda3/lib/python3.11/site-packages/sklearn/neural_network/_multilayer_perceptron.py:686: ConvergenceWarning: Stochastic Optimizer: Maximum iterations (200) reached and the optimization hasn't converged yet.\n",
      "  warnings.warn(\n"
     ]
    },
    {
     "name": "stdout",
     "output_type": "stream",
     "text": [
      "Performed Experiment 189/234(approx) took (s): model: 4.82 selector 3.34 with: FeatureSelectorType.KBest {'score_func': <function mutual_info_classif at 0x17593f100>, 'k': 20} ModelType.MLPClassifier {'solver': 'adam', 'activation': 'tanh', 'hidden_layer_sizes': (300,)}\n",
      "Performed Experiment 190/234(approx) took (s): model: 0.77 selector 3.34 with: FeatureSelectorType.KBest {'score_func': <function mutual_info_classif at 0x17593f100>, 'k': 20} ModelType.MLPClassifier {'solver': 'sgd', 'activation': 'relu', 'hidden_layer_sizes': (100,)}\n"
     ]
    },
    {
     "name": "stderr",
     "output_type": "stream",
     "text": [
      "/opt/anaconda3/lib/python3.11/site-packages/sklearn/neural_network/_multilayer_perceptron.py:686: ConvergenceWarning: Stochastic Optimizer: Maximum iterations (200) reached and the optimization hasn't converged yet.\n",
      "  warnings.warn(\n"
     ]
    },
    {
     "name": "stdout",
     "output_type": "stream",
     "text": [
      "Performed Experiment 191/234(approx) took (s): model: 2.39 selector 3.34 with: FeatureSelectorType.KBest {'score_func': <function mutual_info_classif at 0x17593f100>, 'k': 20} ModelType.MLPClassifier {'solver': 'sgd', 'activation': 'relu', 'hidden_layer_sizes': (200,)}\n"
     ]
    },
    {
     "name": "stderr",
     "output_type": "stream",
     "text": [
      "/opt/anaconda3/lib/python3.11/site-packages/sklearn/neural_network/_multilayer_perceptron.py:686: ConvergenceWarning: Stochastic Optimizer: Maximum iterations (200) reached and the optimization hasn't converged yet.\n",
      "  warnings.warn(\n"
     ]
    },
    {
     "name": "stdout",
     "output_type": "stream",
     "text": [
      "Performed Experiment 192/234(approx) took (s): model: 3.07 selector 3.34 with: FeatureSelectorType.KBest {'score_func': <function mutual_info_classif at 0x17593f100>, 'k': 20} ModelType.MLPClassifier {'solver': 'sgd', 'activation': 'relu', 'hidden_layer_sizes': (300,)}\n",
      "Performed Experiment 193/234(approx) took (s): model: 0.35 selector 3.34 with: FeatureSelectorType.KBest {'score_func': <function mutual_info_classif at 0x17593f100>, 'k': 20} ModelType.MLPClassifier {'solver': 'sgd', 'activation': 'logistic', 'hidden_layer_sizes': (100,)}\n",
      "Performed Experiment 194/234(approx) took (s): model: 0.98 selector 3.34 with: FeatureSelectorType.KBest {'score_func': <function mutual_info_classif at 0x17593f100>, 'k': 20} ModelType.MLPClassifier {'solver': 'sgd', 'activation': 'logistic', 'hidden_layer_sizes': (200,)}\n",
      "Performed Experiment 195/234(approx) took (s): model: 0.86 selector 3.34 with: FeatureSelectorType.KBest {'score_func': <function mutual_info_classif at 0x17593f100>, 'k': 20} ModelType.MLPClassifier {'solver': 'sgd', 'activation': 'logistic', 'hidden_layer_sizes': (300,)}\n"
     ]
    },
    {
     "name": "stderr",
     "output_type": "stream",
     "text": [
      "/opt/anaconda3/lib/python3.11/site-packages/sklearn/neural_network/_multilayer_perceptron.py:686: ConvergenceWarning: Stochastic Optimizer: Maximum iterations (200) reached and the optimization hasn't converged yet.\n",
      "  warnings.warn(\n"
     ]
    },
    {
     "name": "stdout",
     "output_type": "stream",
     "text": [
      "Performed Experiment 196/234(approx) took (s): model: 2.25 selector 3.34 with: FeatureSelectorType.KBest {'score_func': <function mutual_info_classif at 0x17593f100>, 'k': 20} ModelType.MLPClassifier {'solver': 'sgd', 'activation': 'tanh', 'hidden_layer_sizes': (100,)}\n"
     ]
    },
    {
     "name": "stderr",
     "output_type": "stream",
     "text": [
      "/opt/anaconda3/lib/python3.11/site-packages/sklearn/neural_network/_multilayer_perceptron.py:686: ConvergenceWarning: Stochastic Optimizer: Maximum iterations (200) reached and the optimization hasn't converged yet.\n",
      "  warnings.warn(\n"
     ]
    },
    {
     "name": "stdout",
     "output_type": "stream",
     "text": [
      "Performed Experiment 197/234(approx) took (s): model: 2.75 selector 3.34 with: FeatureSelectorType.KBest {'score_func': <function mutual_info_classif at 0x17593f100>, 'k': 20} ModelType.MLPClassifier {'solver': 'sgd', 'activation': 'tanh', 'hidden_layer_sizes': (200,)}\n",
      "Performed Experiment 198/234(approx) took (s): model: 2.59 selector 3.34 with: FeatureSelectorType.KBest {'score_func': <function mutual_info_classif at 0x17593f100>, 'k': 20} ModelType.MLPClassifier {'solver': 'sgd', 'activation': 'tanh', 'hidden_layer_sizes': (300,)}\n"
     ]
    },
    {
     "name": "stderr",
     "output_type": "stream",
     "text": [
      "/opt/anaconda3/lib/python3.11/site-packages/sklearn/neural_network/_multilayer_perceptron.py:686: ConvergenceWarning: Stochastic Optimizer: Maximum iterations (200) reached and the optimization hasn't converged yet.\n",
      "  warnings.warn(\n"
     ]
    },
    {
     "name": "stdout",
     "output_type": "stream",
     "text": [
      "Performed Experiment 199/234(approx) took (s): model: 1.54 selector 3.33 with: FeatureSelectorType.KBest {'score_func': <function mutual_info_classif at 0x17593f100>, 'k': 40} ModelType.MLPClassifier {'solver': 'adam', 'activation': 'relu', 'hidden_layer_sizes': (100,)}\n"
     ]
    },
    {
     "name": "stderr",
     "output_type": "stream",
     "text": [
      "/opt/anaconda3/lib/python3.11/site-packages/sklearn/neural_network/_multilayer_perceptron.py:686: ConvergenceWarning: Stochastic Optimizer: Maximum iterations (200) reached and the optimization hasn't converged yet.\n",
      "  warnings.warn(\n"
     ]
    },
    {
     "name": "stdout",
     "output_type": "stream",
     "text": [
      "Performed Experiment 200/234(approx) took (s): model: 2.31 selector 3.33 with: FeatureSelectorType.KBest {'score_func': <function mutual_info_classif at 0x17593f100>, 'k': 40} ModelType.MLPClassifier {'solver': 'adam', 'activation': 'relu', 'hidden_layer_sizes': (200,)}\n"
     ]
    },
    {
     "name": "stderr",
     "output_type": "stream",
     "text": [
      "/opt/anaconda3/lib/python3.11/site-packages/sklearn/neural_network/_multilayer_perceptron.py:686: ConvergenceWarning: Stochastic Optimizer: Maximum iterations (200) reached and the optimization hasn't converged yet.\n",
      "  warnings.warn(\n"
     ]
    },
    {
     "name": "stdout",
     "output_type": "stream",
     "text": [
      "Performed Experiment 201/234(approx) took (s): model: 2.94 selector 3.33 with: FeatureSelectorType.KBest {'score_func': <function mutual_info_classif at 0x17593f100>, 'k': 40} ModelType.MLPClassifier {'solver': 'adam', 'activation': 'relu', 'hidden_layer_sizes': (300,)}\n"
     ]
    },
    {
     "name": "stderr",
     "output_type": "stream",
     "text": [
      "/opt/anaconda3/lib/python3.11/site-packages/sklearn/neural_network/_multilayer_perceptron.py:686: ConvergenceWarning: Stochastic Optimizer: Maximum iterations (200) reached and the optimization hasn't converged yet.\n",
      "  warnings.warn(\n"
     ]
    },
    {
     "name": "stdout",
     "output_type": "stream",
     "text": [
      "Performed Experiment 202/234(approx) took (s): model: 1.85 selector 3.33 with: FeatureSelectorType.KBest {'score_func': <function mutual_info_classif at 0x17593f100>, 'k': 40} ModelType.MLPClassifier {'solver': 'adam', 'activation': 'logistic', 'hidden_layer_sizes': (100,)}\n"
     ]
    },
    {
     "name": "stderr",
     "output_type": "stream",
     "text": [
      "/opt/anaconda3/lib/python3.11/site-packages/sklearn/neural_network/_multilayer_perceptron.py:686: ConvergenceWarning: Stochastic Optimizer: Maximum iterations (200) reached and the optimization hasn't converged yet.\n",
      "  warnings.warn(\n"
     ]
    },
    {
     "name": "stdout",
     "output_type": "stream",
     "text": [
      "Performed Experiment 203/234(approx) took (s): model: 3.2 selector 3.33 with: FeatureSelectorType.KBest {'score_func': <function mutual_info_classif at 0x17593f100>, 'k': 40} ModelType.MLPClassifier {'solver': 'adam', 'activation': 'logistic', 'hidden_layer_sizes': (200,)}\n"
     ]
    },
    {
     "name": "stderr",
     "output_type": "stream",
     "text": [
      "/opt/anaconda3/lib/python3.11/site-packages/sklearn/neural_network/_multilayer_perceptron.py:686: ConvergenceWarning: Stochastic Optimizer: Maximum iterations (200) reached and the optimization hasn't converged yet.\n",
      "  warnings.warn(\n"
     ]
    },
    {
     "name": "stdout",
     "output_type": "stream",
     "text": [
      "Performed Experiment 204/234(approx) took (s): model: 4.5 selector 3.33 with: FeatureSelectorType.KBest {'score_func': <function mutual_info_classif at 0x17593f100>, 'k': 40} ModelType.MLPClassifier {'solver': 'adam', 'activation': 'logistic', 'hidden_layer_sizes': (300,)}\n"
     ]
    },
    {
     "name": "stderr",
     "output_type": "stream",
     "text": [
      "/opt/anaconda3/lib/python3.11/site-packages/sklearn/neural_network/_multilayer_perceptron.py:686: ConvergenceWarning: Stochastic Optimizer: Maximum iterations (200) reached and the optimization hasn't converged yet.\n",
      "  warnings.warn(\n"
     ]
    },
    {
     "name": "stdout",
     "output_type": "stream",
     "text": [
      "Performed Experiment 205/234(approx) took (s): model: 1.68 selector 3.33 with: FeatureSelectorType.KBest {'score_func': <function mutual_info_classif at 0x17593f100>, 'k': 40} ModelType.MLPClassifier {'solver': 'adam', 'activation': 'tanh', 'hidden_layer_sizes': (100,)}\n"
     ]
    },
    {
     "name": "stderr",
     "output_type": "stream",
     "text": [
      "/opt/anaconda3/lib/python3.11/site-packages/sklearn/neural_network/_multilayer_perceptron.py:686: ConvergenceWarning: Stochastic Optimizer: Maximum iterations (200) reached and the optimization hasn't converged yet.\n",
      "  warnings.warn(\n"
     ]
    },
    {
     "name": "stdout",
     "output_type": "stream",
     "text": [
      "Performed Experiment 206/234(approx) took (s): model: 2.69 selector 3.33 with: FeatureSelectorType.KBest {'score_func': <function mutual_info_classif at 0x17593f100>, 'k': 40} ModelType.MLPClassifier {'solver': 'adam', 'activation': 'tanh', 'hidden_layer_sizes': (200,)}\n"
     ]
    },
    {
     "name": "stderr",
     "output_type": "stream",
     "text": [
      "/opt/anaconda3/lib/python3.11/site-packages/sklearn/neural_network/_multilayer_perceptron.py:686: ConvergenceWarning: Stochastic Optimizer: Maximum iterations (200) reached and the optimization hasn't converged yet.\n",
      "  warnings.warn(\n"
     ]
    },
    {
     "name": "stdout",
     "output_type": "stream",
     "text": [
      "Performed Experiment 207/234(approx) took (s): model: 5.24 selector 3.33 with: FeatureSelectorType.KBest {'score_func': <function mutual_info_classif at 0x17593f100>, 'k': 40} ModelType.MLPClassifier {'solver': 'adam', 'activation': 'tanh', 'hidden_layer_sizes': (300,)}\n"
     ]
    },
    {
     "name": "stderr",
     "output_type": "stream",
     "text": [
      "/opt/anaconda3/lib/python3.11/site-packages/sklearn/neural_network/_multilayer_perceptron.py:686: ConvergenceWarning: Stochastic Optimizer: Maximum iterations (200) reached and the optimization hasn't converged yet.\n",
      "  warnings.warn(\n"
     ]
    },
    {
     "name": "stdout",
     "output_type": "stream",
     "text": [
      "Performed Experiment 208/234(approx) took (s): model: 1.55 selector 3.33 with: FeatureSelectorType.KBest {'score_func': <function mutual_info_classif at 0x17593f100>, 'k': 40} ModelType.MLPClassifier {'solver': 'sgd', 'activation': 'relu', 'hidden_layer_sizes': (100,)}\n"
     ]
    },
    {
     "name": "stderr",
     "output_type": "stream",
     "text": [
      "/opt/anaconda3/lib/python3.11/site-packages/sklearn/neural_network/_multilayer_perceptron.py:686: ConvergenceWarning: Stochastic Optimizer: Maximum iterations (200) reached and the optimization hasn't converged yet.\n",
      "  warnings.warn(\n"
     ]
    },
    {
     "name": "stdout",
     "output_type": "stream",
     "text": [
      "Performed Experiment 209/234(approx) took (s): model: 2.18 selector 3.33 with: FeatureSelectorType.KBest {'score_func': <function mutual_info_classif at 0x17593f100>, 'k': 40} ModelType.MLPClassifier {'solver': 'sgd', 'activation': 'relu', 'hidden_layer_sizes': (200,)}\n"
     ]
    },
    {
     "name": "stderr",
     "output_type": "stream",
     "text": [
      "/opt/anaconda3/lib/python3.11/site-packages/sklearn/neural_network/_multilayer_perceptron.py:686: ConvergenceWarning: Stochastic Optimizer: Maximum iterations (200) reached and the optimization hasn't converged yet.\n",
      "  warnings.warn(\n"
     ]
    },
    {
     "name": "stdout",
     "output_type": "stream",
     "text": [
      "Performed Experiment 210/234(approx) took (s): model: 3.33 selector 3.33 with: FeatureSelectorType.KBest {'score_func': <function mutual_info_classif at 0x17593f100>, 'k': 40} ModelType.MLPClassifier {'solver': 'sgd', 'activation': 'relu', 'hidden_layer_sizes': (300,)}\n",
      "Performed Experiment 211/234(approx) took (s): model: 1.48 selector 3.33 with: FeatureSelectorType.KBest {'score_func': <function mutual_info_classif at 0x17593f100>, 'k': 40} ModelType.MLPClassifier {'solver': 'sgd', 'activation': 'logistic', 'hidden_layer_sizes': (100,)}\n",
      "Performed Experiment 212/234(approx) took (s): model: 0.58 selector 3.33 with: FeatureSelectorType.KBest {'score_func': <function mutual_info_classif at 0x17593f100>, 'k': 40} ModelType.MLPClassifier {'solver': 'sgd', 'activation': 'logistic', 'hidden_layer_sizes': (200,)}\n",
      "Performed Experiment 213/234(approx) took (s): model: 0.8 selector 3.33 with: FeatureSelectorType.KBest {'score_func': <function mutual_info_classif at 0x17593f100>, 'k': 40} ModelType.MLPClassifier {'solver': 'sgd', 'activation': 'logistic', 'hidden_layer_sizes': (300,)}\n"
     ]
    },
    {
     "name": "stderr",
     "output_type": "stream",
     "text": [
      "/opt/anaconda3/lib/python3.11/site-packages/sklearn/neural_network/_multilayer_perceptron.py:686: ConvergenceWarning: Stochastic Optimizer: Maximum iterations (200) reached and the optimization hasn't converged yet.\n",
      "  warnings.warn(\n"
     ]
    },
    {
     "name": "stdout",
     "output_type": "stream",
     "text": [
      "Performed Experiment 214/234(approx) took (s): model: 1.6 selector 3.33 with: FeatureSelectorType.KBest {'score_func': <function mutual_info_classif at 0x17593f100>, 'k': 40} ModelType.MLPClassifier {'solver': 'sgd', 'activation': 'tanh', 'hidden_layer_sizes': (100,)}\n"
     ]
    },
    {
     "name": "stderr",
     "output_type": "stream",
     "text": [
      "/opt/anaconda3/lib/python3.11/site-packages/sklearn/neural_network/_multilayer_perceptron.py:686: ConvergenceWarning: Stochastic Optimizer: Maximum iterations (200) reached and the optimization hasn't converged yet.\n",
      "  warnings.warn(\n"
     ]
    },
    {
     "name": "stdout",
     "output_type": "stream",
     "text": [
      "Performed Experiment 215/234(approx) took (s): model: 2.41 selector 3.33 with: FeatureSelectorType.KBest {'score_func': <function mutual_info_classif at 0x17593f100>, 'k': 40} ModelType.MLPClassifier {'solver': 'sgd', 'activation': 'tanh', 'hidden_layer_sizes': (200,)}\n"
     ]
    },
    {
     "name": "stderr",
     "output_type": "stream",
     "text": [
      "/opt/anaconda3/lib/python3.11/site-packages/sklearn/neural_network/_multilayer_perceptron.py:686: ConvergenceWarning: Stochastic Optimizer: Maximum iterations (200) reached and the optimization hasn't converged yet.\n",
      "  warnings.warn(\n"
     ]
    },
    {
     "name": "stdout",
     "output_type": "stream",
     "text": [
      "Performed Experiment 216/234(approx) took (s): model: 3.27 selector 3.33 with: FeatureSelectorType.KBest {'score_func': <function mutual_info_classif at 0x17593f100>, 'k': 40} ModelType.MLPClassifier {'solver': 'sgd', 'activation': 'tanh', 'hidden_layer_sizes': (300,)}\n"
     ]
    },
    {
     "name": "stderr",
     "output_type": "stream",
     "text": [
      "/opt/anaconda3/lib/python3.11/site-packages/sklearn/neural_network/_multilayer_perceptron.py:686: ConvergenceWarning: Stochastic Optimizer: Maximum iterations (200) reached and the optimization hasn't converged yet.\n",
      "  warnings.warn(\n"
     ]
    },
    {
     "name": "stdout",
     "output_type": "stream",
     "text": [
      "Performed Experiment 217/234(approx) took (s): model: 1.86 selector 3.36 with: FeatureSelectorType.KBest {'score_func': <function mutual_info_classif at 0x17593f100>, 'k': 80} ModelType.MLPClassifier {'solver': 'adam', 'activation': 'relu', 'hidden_layer_sizes': (100,)}\n"
     ]
    },
    {
     "name": "stderr",
     "output_type": "stream",
     "text": [
      "/opt/anaconda3/lib/python3.11/site-packages/sklearn/neural_network/_multilayer_perceptron.py:686: ConvergenceWarning: Stochastic Optimizer: Maximum iterations (200) reached and the optimization hasn't converged yet.\n",
      "  warnings.warn(\n"
     ]
    },
    {
     "name": "stdout",
     "output_type": "stream",
     "text": [
      "Performed Experiment 218/234(approx) took (s): model: 2.79 selector 3.36 with: FeatureSelectorType.KBest {'score_func': <function mutual_info_classif at 0x17593f100>, 'k': 80} ModelType.MLPClassifier {'solver': 'adam', 'activation': 'relu', 'hidden_layer_sizes': (200,)}\n"
     ]
    },
    {
     "name": "stderr",
     "output_type": "stream",
     "text": [
      "/opt/anaconda3/lib/python3.11/site-packages/sklearn/neural_network/_multilayer_perceptron.py:686: ConvergenceWarning: Stochastic Optimizer: Maximum iterations (200) reached and the optimization hasn't converged yet.\n",
      "  warnings.warn(\n"
     ]
    },
    {
     "name": "stdout",
     "output_type": "stream",
     "text": [
      "Performed Experiment 219/234(approx) took (s): model: 4.06 selector 3.36 with: FeatureSelectorType.KBest {'score_func': <function mutual_info_classif at 0x17593f100>, 'k': 80} ModelType.MLPClassifier {'solver': 'adam', 'activation': 'relu', 'hidden_layer_sizes': (300,)}\n"
     ]
    },
    {
     "name": "stderr",
     "output_type": "stream",
     "text": [
      "/opt/anaconda3/lib/python3.11/site-packages/sklearn/neural_network/_multilayer_perceptron.py:686: ConvergenceWarning: Stochastic Optimizer: Maximum iterations (200) reached and the optimization hasn't converged yet.\n",
      "  warnings.warn(\n"
     ]
    },
    {
     "name": "stdout",
     "output_type": "stream",
     "text": [
      "Performed Experiment 220/234(approx) took (s): model: 2.14 selector 3.36 with: FeatureSelectorType.KBest {'score_func': <function mutual_info_classif at 0x17593f100>, 'k': 80} ModelType.MLPClassifier {'solver': 'adam', 'activation': 'logistic', 'hidden_layer_sizes': (100,)}\n"
     ]
    },
    {
     "name": "stderr",
     "output_type": "stream",
     "text": [
      "/opt/anaconda3/lib/python3.11/site-packages/sklearn/neural_network/_multilayer_perceptron.py:686: ConvergenceWarning: Stochastic Optimizer: Maximum iterations (200) reached and the optimization hasn't converged yet.\n",
      "  warnings.warn(\n"
     ]
    },
    {
     "name": "stdout",
     "output_type": "stream",
     "text": [
      "Performed Experiment 221/234(approx) took (s): model: 3.28 selector 3.36 with: FeatureSelectorType.KBest {'score_func': <function mutual_info_classif at 0x17593f100>, 'k': 80} ModelType.MLPClassifier {'solver': 'adam', 'activation': 'logistic', 'hidden_layer_sizes': (200,)}\n"
     ]
    },
    {
     "name": "stderr",
     "output_type": "stream",
     "text": [
      "/opt/anaconda3/lib/python3.11/site-packages/sklearn/neural_network/_multilayer_perceptron.py:686: ConvergenceWarning: Stochastic Optimizer: Maximum iterations (200) reached and the optimization hasn't converged yet.\n",
      "  warnings.warn(\n"
     ]
    },
    {
     "name": "stdout",
     "output_type": "stream",
     "text": [
      "Performed Experiment 222/234(approx) took (s): model: 4.68 selector 3.36 with: FeatureSelectorType.KBest {'score_func': <function mutual_info_classif at 0x17593f100>, 'k': 80} ModelType.MLPClassifier {'solver': 'adam', 'activation': 'logistic', 'hidden_layer_sizes': (300,)}\n"
     ]
    },
    {
     "name": "stderr",
     "output_type": "stream",
     "text": [
      "/opt/anaconda3/lib/python3.11/site-packages/sklearn/neural_network/_multilayer_perceptron.py:686: ConvergenceWarning: Stochastic Optimizer: Maximum iterations (200) reached and the optimization hasn't converged yet.\n",
      "  warnings.warn(\n"
     ]
    },
    {
     "name": "stdout",
     "output_type": "stream",
     "text": [
      "Performed Experiment 223/234(approx) took (s): model: 1.84 selector 3.36 with: FeatureSelectorType.KBest {'score_func': <function mutual_info_classif at 0x17593f100>, 'k': 80} ModelType.MLPClassifier {'solver': 'adam', 'activation': 'tanh', 'hidden_layer_sizes': (100,)}\n"
     ]
    },
    {
     "name": "stderr",
     "output_type": "stream",
     "text": [
      "/opt/anaconda3/lib/python3.11/site-packages/sklearn/neural_network/_multilayer_perceptron.py:686: ConvergenceWarning: Stochastic Optimizer: Maximum iterations (200) reached and the optimization hasn't converged yet.\n",
      "  warnings.warn(\n"
     ]
    },
    {
     "name": "stdout",
     "output_type": "stream",
     "text": [
      "Performed Experiment 224/234(approx) took (s): model: 3.02 selector 3.36 with: FeatureSelectorType.KBest {'score_func': <function mutual_info_classif at 0x17593f100>, 'k': 80} ModelType.MLPClassifier {'solver': 'adam', 'activation': 'tanh', 'hidden_layer_sizes': (200,)}\n"
     ]
    },
    {
     "name": "stderr",
     "output_type": "stream",
     "text": [
      "/opt/anaconda3/lib/python3.11/site-packages/sklearn/neural_network/_multilayer_perceptron.py:686: ConvergenceWarning: Stochastic Optimizer: Maximum iterations (200) reached and the optimization hasn't converged yet.\n",
      "  warnings.warn(\n"
     ]
    },
    {
     "name": "stdout",
     "output_type": "stream",
     "text": [
      "Performed Experiment 225/234(approx) took (s): model: 4.19 selector 3.36 with: FeatureSelectorType.KBest {'score_func': <function mutual_info_classif at 0x17593f100>, 'k': 80} ModelType.MLPClassifier {'solver': 'adam', 'activation': 'tanh', 'hidden_layer_sizes': (300,)}\n"
     ]
    },
    {
     "name": "stderr",
     "output_type": "stream",
     "text": [
      "/opt/anaconda3/lib/python3.11/site-packages/sklearn/neural_network/_multilayer_perceptron.py:686: ConvergenceWarning: Stochastic Optimizer: Maximum iterations (200) reached and the optimization hasn't converged yet.\n",
      "  warnings.warn(\n"
     ]
    },
    {
     "name": "stdout",
     "output_type": "stream",
     "text": [
      "Performed Experiment 226/234(approx) took (s): model: 1.99 selector 3.36 with: FeatureSelectorType.KBest {'score_func': <function mutual_info_classif at 0x17593f100>, 'k': 80} ModelType.MLPClassifier {'solver': 'sgd', 'activation': 'relu', 'hidden_layer_sizes': (100,)}\n"
     ]
    },
    {
     "name": "stderr",
     "output_type": "stream",
     "text": [
      "/opt/anaconda3/lib/python3.11/site-packages/sklearn/neural_network/_multilayer_perceptron.py:686: ConvergenceWarning: Stochastic Optimizer: Maximum iterations (200) reached and the optimization hasn't converged yet.\n",
      "  warnings.warn(\n"
     ]
    },
    {
     "name": "stdout",
     "output_type": "stream",
     "text": [
      "Performed Experiment 227/234(approx) took (s): model: 5.61 selector 3.36 with: FeatureSelectorType.KBest {'score_func': <function mutual_info_classif at 0x17593f100>, 'k': 80} ModelType.MLPClassifier {'solver': 'sgd', 'activation': 'relu', 'hidden_layer_sizes': (200,)}\n"
     ]
    },
    {
     "name": "stderr",
     "output_type": "stream",
     "text": [
      "/opt/anaconda3/lib/python3.11/site-packages/sklearn/neural_network/_multilayer_perceptron.py:686: ConvergenceWarning: Stochastic Optimizer: Maximum iterations (200) reached and the optimization hasn't converged yet.\n",
      "  warnings.warn(\n"
     ]
    },
    {
     "name": "stdout",
     "output_type": "stream",
     "text": [
      "Performed Experiment 228/234(approx) took (s): model: 4.26 selector 3.36 with: FeatureSelectorType.KBest {'score_func': <function mutual_info_classif at 0x17593f100>, 'k': 80} ModelType.MLPClassifier {'solver': 'sgd', 'activation': 'relu', 'hidden_layer_sizes': (300,)}\n",
      "Performed Experiment 229/234(approx) took (s): model: 1.28 selector 3.36 with: FeatureSelectorType.KBest {'score_func': <function mutual_info_classif at 0x17593f100>, 'k': 80} ModelType.MLPClassifier {'solver': 'sgd', 'activation': 'logistic', 'hidden_layer_sizes': (100,)}\n",
      "Performed Experiment 230/234(approx) took (s): model: 2.12 selector 3.36 with: FeatureSelectorType.KBest {'score_func': <function mutual_info_classif at 0x17593f100>, 'k': 80} ModelType.MLPClassifier {'solver': 'sgd', 'activation': 'logistic', 'hidden_layer_sizes': (200,)}\n",
      "Performed Experiment 231/234(approx) took (s): model: 3.19 selector 3.36 with: FeatureSelectorType.KBest {'score_func': <function mutual_info_classif at 0x17593f100>, 'k': 80} ModelType.MLPClassifier {'solver': 'sgd', 'activation': 'logistic', 'hidden_layer_sizes': (300,)}\n"
     ]
    },
    {
     "name": "stderr",
     "output_type": "stream",
     "text": [
      "/opt/anaconda3/lib/python3.11/site-packages/sklearn/neural_network/_multilayer_perceptron.py:686: ConvergenceWarning: Stochastic Optimizer: Maximum iterations (200) reached and the optimization hasn't converged yet.\n",
      "  warnings.warn(\n"
     ]
    },
    {
     "name": "stdout",
     "output_type": "stream",
     "text": [
      "Performed Experiment 232/234(approx) took (s): model: 3.33 selector 3.36 with: FeatureSelectorType.KBest {'score_func': <function mutual_info_classif at 0x17593f100>, 'k': 80} ModelType.MLPClassifier {'solver': 'sgd', 'activation': 'tanh', 'hidden_layer_sizes': (100,)}\n"
     ]
    },
    {
     "name": "stderr",
     "output_type": "stream",
     "text": [
      "/opt/anaconda3/lib/python3.11/site-packages/sklearn/neural_network/_multilayer_perceptron.py:686: ConvergenceWarning: Stochastic Optimizer: Maximum iterations (200) reached and the optimization hasn't converged yet.\n",
      "  warnings.warn(\n"
     ]
    },
    {
     "name": "stdout",
     "output_type": "stream",
     "text": [
      "Performed Experiment 233/234(approx) took (s): model: 3.36 selector 3.36 with: FeatureSelectorType.KBest {'score_func': <function mutual_info_classif at 0x17593f100>, 'k': 80} ModelType.MLPClassifier {'solver': 'sgd', 'activation': 'tanh', 'hidden_layer_sizes': (200,)}\n",
      "Performed Experiment 234/234(approx) took (s): model: 4.99 selector 3.36 with: FeatureSelectorType.KBest {'score_func': <function mutual_info_classif at 0x17593f100>, 'k': 80} ModelType.MLPClassifier {'solver': 'sgd', 'activation': 'tanh', 'hidden_layer_sizes': (300,)}\n",
      "CPU times: user 1h 25min 1s, sys: 4min 6s, total: 1h 29min 8s\n",
      "Wall time: 8min 48s\n"
     ]
    },
    {
     "name": "stderr",
     "output_type": "stream",
     "text": [
      "/opt/anaconda3/lib/python3.11/site-packages/sklearn/neural_network/_multilayer_perceptron.py:686: ConvergenceWarning: Stochastic Optimizer: Maximum iterations (200) reached and the optimization hasn't converged yet.\n",
      "  warnings.warn(\n"
     ]
    }
   ],
   "source": [
    "%%time\n",
    "results = conductExperiments(\n",
    "    models=models,\n",
    "    featureSelectors=featureSelectors,\n",
    "    X_orig=X_train,\n",
    "    y_orig=y_train_ravel,\n",
    ")\n",
    "with open(RESULTS_FILENAME, \"wb\") as f:\n",
    "    pickle.dump(results, f)"
   ]
  },
  {
   "cell_type": "code",
   "execution_count": 98,
   "metadata": {},
   "outputs": [],
   "source": [
    "with open(RESULTS_FILENAME, \"rb\") as input_file:\n",
    "    results = pickle.load(input_file)"
   ]
  },
  {
   "cell_type": "code",
   "execution_count": 99,
   "metadata": {},
   "outputs": [],
   "source": [
    "resultsDf = pd.DataFrame(\n",
    "    results,\n",
    "    columns=RESULTS_COLUMNS,\n",
    ")"
   ]
  },
  {
   "cell_type": "code",
   "execution_count": 100,
   "metadata": {},
   "outputs": [
    {
     "data": {
      "text/html": [
       "<div>\n",
       "<style scoped>\n",
       "    .dataframe tbody tr th:only-of-type {\n",
       "        vertical-align: middle;\n",
       "    }\n",
       "\n",
       "    .dataframe tbody tr th {\n",
       "        vertical-align: top;\n",
       "    }\n",
       "\n",
       "    .dataframe thead th {\n",
       "        text-align: right;\n",
       "    }\n",
       "</style>\n",
       "<table border=\"1\" class=\"dataframe\">\n",
       "  <thead>\n",
       "    <tr style=\"text-align: right;\">\n",
       "      <th></th>\n",
       "      <th>score</th>\n",
       "      <th>numberOfTruePositives</th>\n",
       "      <th>accuracy</th>\n",
       "      <th>precision</th>\n",
       "      <th>numberOfFeatures</th>\n",
       "      <th>model</th>\n",
       "      <th>model_parameters</th>\n",
       "      <th>feature_selector</th>\n",
       "      <th>selector_parameters</th>\n",
       "    </tr>\n",
       "  </thead>\n",
       "  <tbody>\n",
       "    <tr>\n",
       "      <th>139</th>\n",
       "      <td>7500</td>\n",
       "      <td>790</td>\n",
       "      <td>0.490909</td>\n",
       "      <td>0.492519</td>\n",
       "      <td>2</td>\n",
       "      <td>MLPClassifier</td>\n",
       "      <td>{'solver': 'sgd', 'activation': 'logistic', 'h...</td>\n",
       "      <td>KBest</td>\n",
       "      <td>{'score_func': &lt;function mutual_info_classif a...</td>\n",
       "    </tr>\n",
       "    <tr>\n",
       "      <th>140</th>\n",
       "      <td>7460</td>\n",
       "      <td>786</td>\n",
       "      <td>0.493939</td>\n",
       "      <td>0.494029</td>\n",
       "      <td>2</td>\n",
       "      <td>MLPClassifier</td>\n",
       "      <td>{'solver': 'sgd', 'activation': 'logistic', 'h...</td>\n",
       "      <td>KBest</td>\n",
       "      <td>{'score_func': &lt;function mutual_info_classif a...</td>\n",
       "    </tr>\n",
       "    <tr>\n",
       "      <th>26</th>\n",
       "      <td>7360</td>\n",
       "      <td>776</td>\n",
       "      <td>0.498182</td>\n",
       "      <td>0.496164</td>\n",
       "      <td>2</td>\n",
       "      <td>MLPClassifier</td>\n",
       "      <td>{'solver': 'adam', 'activation': 'tanh', 'hidd...</td>\n",
       "      <td>KBest</td>\n",
       "      <td>{'score_func': &lt;function f_classif at 0x17591b...</td>\n",
       "    </tr>\n",
       "    <tr>\n",
       "      <th>129</th>\n",
       "      <td>7130</td>\n",
       "      <td>753</td>\n",
       "      <td>0.491515</td>\n",
       "      <td>0.492479</td>\n",
       "      <td>2</td>\n",
       "      <td>MLPClassifier</td>\n",
       "      <td>{'solver': 'adam', 'activation': 'logistic', '...</td>\n",
       "      <td>KBest</td>\n",
       "      <td>{'score_func': &lt;function mutual_info_classif a...</td>\n",
       "    </tr>\n",
       "    <tr>\n",
       "      <th>27</th>\n",
       "      <td>6100</td>\n",
       "      <td>650</td>\n",
       "      <td>0.519394</td>\n",
       "      <td>0.509005</td>\n",
       "      <td>2</td>\n",
       "      <td>MLPClassifier</td>\n",
       "      <td>{'solver': 'sgd', 'activation': 'relu', 'hidde...</td>\n",
       "      <td>KBest</td>\n",
       "      <td>{'score_func': &lt;function f_classif at 0x17591b...</td>\n",
       "    </tr>\n",
       "    <tr>\n",
       "      <th>...</th>\n",
       "      <td>...</td>\n",
       "      <td>...</td>\n",
       "      <td>...</td>\n",
       "      <td>...</td>\n",
       "      <td>...</td>\n",
       "      <td>...</td>\n",
       "      <td>...</td>\n",
       "      <td>...</td>\n",
       "      <td>...</td>\n",
       "    </tr>\n",
       "    <tr>\n",
       "      <th>16</th>\n",
       "      <td>-96070</td>\n",
       "      <td>393</td>\n",
       "      <td>0.503636</td>\n",
       "      <td>0.498099</td>\n",
       "      <td>500</td>\n",
       "      <td>MLPClassifier</td>\n",
       "      <td>{'solver': 'sgd', 'activation': 'tanh', 'hidde...</td>\n",
       "      <td>NoFeatureSelection</td>\n",
       "      <td>{}</td>\n",
       "    </tr>\n",
       "    <tr>\n",
       "      <th>8</th>\n",
       "      <td>-96150</td>\n",
       "      <td>385</td>\n",
       "      <td>0.488485</td>\n",
       "      <td>0.482456</td>\n",
       "      <td>500</td>\n",
       "      <td>MLPClassifier</td>\n",
       "      <td>{'solver': 'adam', 'activation': 'tanh', 'hidd...</td>\n",
       "      <td>NoFeatureSelection</td>\n",
       "      <td>{}</td>\n",
       "    </tr>\n",
       "    <tr>\n",
       "      <th>17</th>\n",
       "      <td>-96250</td>\n",
       "      <td>375</td>\n",
       "      <td>0.489091</td>\n",
       "      <td>0.482625</td>\n",
       "      <td>500</td>\n",
       "      <td>MLPClassifier</td>\n",
       "      <td>{'solver': 'sgd', 'activation': 'tanh', 'hidde...</td>\n",
       "      <td>NoFeatureSelection</td>\n",
       "      <td>{}</td>\n",
       "    </tr>\n",
       "    <tr>\n",
       "      <th>10</th>\n",
       "      <td>-96260</td>\n",
       "      <td>374</td>\n",
       "      <td>0.493939</td>\n",
       "      <td>0.487614</td>\n",
       "      <td>500</td>\n",
       "      <td>MLPClassifier</td>\n",
       "      <td>{'solver': 'sgd', 'activation': 'relu', 'hidde...</td>\n",
       "      <td>NoFeatureSelection</td>\n",
       "      <td>{}</td>\n",
       "    </tr>\n",
       "    <tr>\n",
       "      <th>11</th>\n",
       "      <td>-96350</td>\n",
       "      <td>365</td>\n",
       "      <td>0.497576</td>\n",
       "      <td>0.491252</td>\n",
       "      <td>500</td>\n",
       "      <td>MLPClassifier</td>\n",
       "      <td>{'solver': 'sgd', 'activation': 'relu', 'hidde...</td>\n",
       "      <td>NoFeatureSelection</td>\n",
       "      <td>{}</td>\n",
       "    </tr>\n",
       "  </tbody>\n",
       "</table>\n",
       "<p>234 rows × 9 columns</p>\n",
       "</div>"
      ],
      "text/plain": [
       "     score  numberOfTruePositives  accuracy  precision  numberOfFeatures  \\\n",
       "139   7500                    790  0.490909   0.492519                 2   \n",
       "140   7460                    786  0.493939   0.494029                 2   \n",
       "26    7360                    776  0.498182   0.496164                 2   \n",
       "129   7130                    753  0.491515   0.492479                 2   \n",
       "27    6100                    650  0.519394   0.509005                 2   \n",
       "..     ...                    ...       ...        ...               ...   \n",
       "16  -96070                    393  0.503636   0.498099               500   \n",
       "8   -96150                    385  0.488485   0.482456               500   \n",
       "17  -96250                    375  0.489091   0.482625               500   \n",
       "10  -96260                    374  0.493939   0.487614               500   \n",
       "11  -96350                    365  0.497576   0.491252               500   \n",
       "\n",
       "             model                                   model_parameters  \\\n",
       "139  MLPClassifier  {'solver': 'sgd', 'activation': 'logistic', 'h...   \n",
       "140  MLPClassifier  {'solver': 'sgd', 'activation': 'logistic', 'h...   \n",
       "26   MLPClassifier  {'solver': 'adam', 'activation': 'tanh', 'hidd...   \n",
       "129  MLPClassifier  {'solver': 'adam', 'activation': 'logistic', '...   \n",
       "27   MLPClassifier  {'solver': 'sgd', 'activation': 'relu', 'hidde...   \n",
       "..             ...                                                ...   \n",
       "16   MLPClassifier  {'solver': 'sgd', 'activation': 'tanh', 'hidde...   \n",
       "8    MLPClassifier  {'solver': 'adam', 'activation': 'tanh', 'hidd...   \n",
       "17   MLPClassifier  {'solver': 'sgd', 'activation': 'tanh', 'hidde...   \n",
       "10   MLPClassifier  {'solver': 'sgd', 'activation': 'relu', 'hidde...   \n",
       "11   MLPClassifier  {'solver': 'sgd', 'activation': 'relu', 'hidde...   \n",
       "\n",
       "       feature_selector                                selector_parameters  \n",
       "139               KBest  {'score_func': <function mutual_info_classif a...  \n",
       "140               KBest  {'score_func': <function mutual_info_classif a...  \n",
       "26                KBest  {'score_func': <function f_classif at 0x17591b...  \n",
       "129               KBest  {'score_func': <function mutual_info_classif a...  \n",
       "27                KBest  {'score_func': <function f_classif at 0x17591b...  \n",
       "..                  ...                                                ...  \n",
       "16   NoFeatureSelection                                                 {}  \n",
       "8    NoFeatureSelection                                                 {}  \n",
       "17   NoFeatureSelection                                                 {}  \n",
       "10   NoFeatureSelection                                                 {}  \n",
       "11   NoFeatureSelection                                                 {}  \n",
       "\n",
       "[234 rows x 9 columns]"
      ]
     },
     "execution_count": 100,
     "metadata": {},
     "output_type": "execute_result"
    }
   ],
   "source": [
    "RESULTS_FILENAME = \"./Results/results-salveen\"\n",
    "with open(RESULTS_FILENAME, \"rb\") as input_file:\n",
    "    results = pickle.load(input_file)\n",
    "resultsDf = pd.DataFrame(\n",
    "    results,\n",
    "    columns=RESULTS_COLUMNS,\n",
    ")\n",
    "resultsDf = resultsDf.sort_values(by=[\"score\"], ascending=False)\n",
    "resultsDf"
   ]
  },
  {
   "cell_type": "code",
   "execution_count": 106,
   "metadata": {},
   "outputs": [
    {
     "data": {
      "text/plain": [
       "139    {'solver': 'sgd', 'activation': 'logistic', 'h...\n",
       "Name: model_parameters, dtype: object"
      ]
     },
     "execution_count": 106,
     "metadata": {},
     "output_type": "execute_result"
    }
   ],
   "source": []
  },
  {
   "cell_type": "code",
   "execution_count": null,
   "metadata": {},
   "outputs": [],
   "source": []
  }
 ],
 "metadata": {
  "kernelspec": {
   "display_name": "base",
   "language": "python",
   "name": "python3"
  },
  "language_info": {
   "codemirror_mode": {
    "name": "ipython",
    "version": 3
   },
   "file_extension": ".py",
   "mimetype": "text/x-python",
   "name": "python",
   "nbconvert_exporter": "python",
   "pygments_lexer": "ipython3",
   "version": "3.11.7"
  }
 },
 "nbformat": 4,
 "nbformat_minor": 2
}
