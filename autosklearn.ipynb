{
 "cells": [
  {
   "cell_type": "code",
   "execution_count": 2,
   "metadata": {},
   "outputs": [],
   "source": [
    "from pprint import pprint\n",
    "# import matplotlib.pyplot as plt\n",
    "import numpy as np\n",
    "import pandas as pd\n",
    "import sklearn.datasets\n",
    "import sklearn.metrics\n",
    "# import functions\n",
    "import autosklearn.classification\n",
    "import autosklearn.metrics\n",
    "from autosklearn.experimental.askl2 import AutoSklearn2Classifier"
   ]
  },
  {
   "cell_type": "markdown",
   "metadata": {},
   "source": [
    "# Load Data"
   ]
  },
  {
   "cell_type": "markdown",
   "metadata": {},
   "source": [
    "load the training and test data in a format specified by task description"
   ]
  },
  {
   "cell_type": "code",
   "execution_count": 3,
   "metadata": {},
   "outputs": [],
   "source": [
    "with open(\"./Dataset/x_test.txt\") as file:\n",
    "    X_test = [[float(digit) for digit in line.split()] for line in file]\n",
    "\n",
    "\n",
    "with open(\"./Dataset/x_train.txt\") as file:\n",
    "    X_train = [[float(digit) for digit in line.split()] for line in file]\n",
    "\n",
    "\n",
    "with open(\"./Dataset/y_train.txt\") as file:\n",
    "    y_train = [[float(digit) for digit in line.split()] for line in file]"
   ]
  },
  {
   "cell_type": "markdown",
   "metadata": {},
   "source": [
    "In the X_test there are 500 features and 5000 observations, y_train contains 5000 values, X_train contains 500 features and 5000 observations"
   ]
  },
  {
   "cell_type": "code",
   "execution_count": 4,
   "metadata": {},
   "outputs": [
    {
     "name": "stdout",
     "output_type": "stream",
     "text": [
      "X_test datapoints: 5000  features: 500\n",
      "X_train datapoints: 5000  features: 500\n",
      "y_train datapoints: 5000\n"
     ]
    }
   ],
   "source": [
    "print(\"X_test datapoints:\", len(X_test), \" features:\", len(X_test[0]))\n",
    "print(\"X_train datapoints:\", len(X_train), \" features:\", len(X_train[0]))\n",
    "print(\"y_train datapoints:\", len(y_train))"
   ]
  },
  {
   "cell_type": "code",
   "execution_count": null,
   "metadata": {},
   "outputs": [],
   "source": []
  },
  {
   "cell_type": "code",
   "execution_count": 11,
   "metadata": {},
   "outputs": [],
   "source": [
    "\n",
    "def getScoreLimited(y_true, y_pred):\n",
    "    \"\"\"Get score based on y_true, y_pred and number of feature used\n",
    "\n",
    "    Scoring function, based on which, the best model is selected.\n",
    "    Score is calculated according to task description: +10 points for each\n",
    "    correctly classified positive class, -200 points for each feature used\n",
    "    \"\"\"\n",
    "\n",
    "    amounToTake = int(0.45 * len(y_true[y_true == 1]))\n",
    "\n",
    "    df = pd.DataFrame(y_pred[:, 1], columns=[\"result\"])\n",
    "    sortedDf = df.sort_values(by=\"result\", ascending=False).head(amounToTake)\n",
    "\n",
    "    y_predicted = np.zeros_like(y_true)\n",
    "\n",
    "    y_predicted[sortedDf.index] = 1\n",
    "\n",
    "    score = 0\n",
    "\n",
    "    correct = 0\n",
    "\n",
    "    for i, y in enumerate(y_true):\n",
    "        if y == 1 and y == y_predicted[i]:\n",
    "            correct += 1\n",
    "\n",
    "    score = 10 * correct - 200 * 2\n",
    "    return score / (amounToTake * 10 - 400)\n",
    "\n"
   ]
  },
  {
   "cell_type": "markdown",
   "metadata": {},
   "source": [
    "# Auto"
   ]
  },
  {
   "cell_type": "code",
   "execution_count": 6,
   "metadata": {},
   "outputs": [],
   "source": [
    "y_train_ravel = np.ravel(y_train, order=\"C\")\n",
    "y_train_ravel = y_train_ravel.astype(int)"
   ]
  },
  {
   "cell_type": "code",
   "execution_count": 12,
   "metadata": {},
   "outputs": [],
   "source": [
    "from sklearn.model_selection import train_test_split\n",
    "from sklearn.feature_selection import (\n",
    "    SelectKBest,\n",
    "    RFE,\n",
    "    RFECV,\n",
    "    SelectFpr,\n",
    "    SelectFdr,\n",
    "    SelectFwe,\n",
    ")\n",
    "from sklearn.preprocessing import PolynomialFeatures, RobustScaler, StandardScaler\n",
    "\n",
    "selector = SelectKBest(k=2)\n",
    "\n",
    "X_new = selector.fit_transform(X_train, y_train_ravel)\n",
    "X_new = RobustScaler().fit_transform(X_new, y_train_ravel)\n",
    "X_t, X_te, y_t, y_te = train_test_split(\n",
    "    X_new, y_train_ravel, random_state=42, test_size=0.33\n",
    ")\n",
    "\n",
    "accuracy_scorer = autosklearn.metrics.make_scorer(\n",
    "    name=\"accu\",\n",
    "    score_func=getScoreLimited,\n",
    "    optimum=1,\n",
    "    greater_is_better=True,\n",
    "    needs_proba=True,\n",
    "    needs_threshold=False,\n",
    ")"
   ]
  },
  {
   "cell_type": "markdown",
   "metadata": {},
   "source": [
    "## V2"
   ]
  },
  {
   "cell_type": "code",
   "execution_count": 23,
   "metadata": {},
   "outputs": [
    {
     "name": "stderr",
     "output_type": "stream",
     "text": [
      "/home/patryk/repos/advml-proj-2/.venv/lib/python3.9/site-packages/smac/intensification/parallel_scheduling.py:153: UserWarning: SuccessiveHalving is executed with 1 workers only. Consider to use pynisher to use all available workers.\n",
      "  warnings.warn(\n"
     ]
    },
    {
     "name": "stdout",
     "output_type": "stream",
     "text": [
      "[WARNING] [2024-05-30 16:55:19,162:Client-EnsembleBuilder] No runs were available to build an ensemble from\n",
      "[WARNING] [2024-05-30 16:55:20,229:Client-EnsembleBuilder] No runs were available to build an ensemble from\n",
      "[WARNING] [2024-05-30 16:55:21,388:Client-EnsembleBuilder] No runs were available to build an ensemble from\n"
     ]
    },
    {
     "data": {
      "text/plain": [
       "AutoSklearn2Classifier(delete_tmp_folder_after_terminate=False, metric=roc_auc,\n",
       "                       per_run_time_limit=12, seed=42,\n",
       "                       time_left_for_this_task=120)"
      ]
     },
     "execution_count": 23,
     "metadata": {},
     "output_type": "execute_result"
    }
   ],
   "source": [
    "automl = AutoSklearn2Classifier(\n",
    "    time_left_for_this_task=86400,\n",
    "    delete_tmp_folder_after_terminate=False,\n",
    "    metric=autosklearn.metrics.roc_auc,\n",
    "    seed=42\n",
    ")\n",
    "pd.DataFrame.iteritems = pd.DataFrame.items\n",
    "automl.fit(X_t, y_t, dataset_name=\"project\")"
   ]
  },
  {
   "cell_type": "code",
   "execution_count": 27,
   "metadata": {},
   "outputs": [
    {
     "data": {
      "text/html": [
       "<div>\n",
       "<style scoped>\n",
       "    .dataframe tbody tr th:only-of-type {\n",
       "        vertical-align: middle;\n",
       "    }\n",
       "\n",
       "    .dataframe tbody tr th {\n",
       "        vertical-align: top;\n",
       "    }\n",
       "\n",
       "    .dataframe thead th {\n",
       "        text-align: right;\n",
       "    }\n",
       "</style>\n",
       "<table border=\"1\" class=\"dataframe\">\n",
       "  <thead>\n",
       "    <tr style=\"text-align: right;\">\n",
       "      <th></th>\n",
       "      <th>rank</th>\n",
       "      <th>ensemble_weight</th>\n",
       "      <th>type</th>\n",
       "      <th>cost</th>\n",
       "      <th>duration</th>\n",
       "      <th>config_id</th>\n",
       "      <th>train_loss</th>\n",
       "      <th>seed</th>\n",
       "      <th>start_time</th>\n",
       "      <th>end_time</th>\n",
       "      <th>budget</th>\n",
       "      <th>status</th>\n",
       "      <th>data_preprocessors</th>\n",
       "      <th>feature_preprocessors</th>\n",
       "      <th>balancing_strategy</th>\n",
       "      <th>config_origin</th>\n",
       "    </tr>\n",
       "    <tr>\n",
       "      <th>model_id</th>\n",
       "      <th></th>\n",
       "      <th></th>\n",
       "      <th></th>\n",
       "      <th></th>\n",
       "      <th></th>\n",
       "      <th></th>\n",
       "      <th></th>\n",
       "      <th></th>\n",
       "      <th></th>\n",
       "      <th></th>\n",
       "      <th></th>\n",
       "      <th></th>\n",
       "      <th></th>\n",
       "      <th></th>\n",
       "      <th></th>\n",
       "      <th></th>\n",
       "    </tr>\n",
       "  </thead>\n",
       "  <tbody>\n",
       "    <tr>\n",
       "      <th>24</th>\n",
       "      <td>1</td>\n",
       "      <td>0.02</td>\n",
       "      <td>gradient_boosting</td>\n",
       "      <td>0.460279</td>\n",
       "      <td>2.385873</td>\n",
       "      <td>23</td>\n",
       "      <td>0.009371</td>\n",
       "      <td>0</td>\n",
       "      <td>1.717081e+09</td>\n",
       "      <td>1.717081e+09</td>\n",
       "      <td>6.25</td>\n",
       "      <td>StatusType.SUCCESS</td>\n",
       "      <td>[]</td>\n",
       "      <td>[no_preprocessing]</td>\n",
       "      <td>none</td>\n",
       "      <td>Initial design</td>\n",
       "    </tr>\n",
       "    <tr>\n",
       "      <th>17</th>\n",
       "      <td>2</td>\n",
       "      <td>0.10</td>\n",
       "      <td>extra_trees</td>\n",
       "      <td>0.462705</td>\n",
       "      <td>2.391402</td>\n",
       "      <td>16</td>\n",
       "      <td>0.127356</td>\n",
       "      <td>0</td>\n",
       "      <td>1.717081e+09</td>\n",
       "      <td>1.717081e+09</td>\n",
       "      <td>6.25</td>\n",
       "      <td>StatusType.SUCCESS</td>\n",
       "      <td>[]</td>\n",
       "      <td>[no_preprocessing]</td>\n",
       "      <td>none</td>\n",
       "      <td>Initial design</td>\n",
       "    </tr>\n",
       "    <tr>\n",
       "      <th>30</th>\n",
       "      <td>3</td>\n",
       "      <td>0.02</td>\n",
       "      <td>extra_trees</td>\n",
       "      <td>0.462874</td>\n",
       "      <td>3.916786</td>\n",
       "      <td>29</td>\n",
       "      <td>0.005467</td>\n",
       "      <td>0</td>\n",
       "      <td>1.717081e+09</td>\n",
       "      <td>1.717081e+09</td>\n",
       "      <td>6.25</td>\n",
       "      <td>StatusType.SUCCESS</td>\n",
       "      <td>[]</td>\n",
       "      <td>[no_preprocessing]</td>\n",
       "      <td>weighting</td>\n",
       "      <td>Initial design</td>\n",
       "    </tr>\n",
       "    <tr>\n",
       "      <th>31</th>\n",
       "      <td>4</td>\n",
       "      <td>0.04</td>\n",
       "      <td>mlp</td>\n",
       "      <td>0.480629</td>\n",
       "      <td>3.556101</td>\n",
       "      <td>30</td>\n",
       "      <td>0.457383</td>\n",
       "      <td>0</td>\n",
       "      <td>1.717081e+09</td>\n",
       "      <td>1.717081e+09</td>\n",
       "      <td>6.25</td>\n",
       "      <td>StatusType.SUCCESS</td>\n",
       "      <td>[]</td>\n",
       "      <td>[no_preprocessing]</td>\n",
       "      <td>none</td>\n",
       "      <td>Initial design</td>\n",
       "    </tr>\n",
       "    <tr>\n",
       "      <th>9</th>\n",
       "      <td>5</td>\n",
       "      <td>0.04</td>\n",
       "      <td>mlp</td>\n",
       "      <td>0.481285</td>\n",
       "      <td>2.524077</td>\n",
       "      <td>8</td>\n",
       "      <td>0.466719</td>\n",
       "      <td>0</td>\n",
       "      <td>1.717081e+09</td>\n",
       "      <td>1.717081e+09</td>\n",
       "      <td>6.25</td>\n",
       "      <td>StatusType.SUCCESS</td>\n",
       "      <td>[]</td>\n",
       "      <td>[no_preprocessing]</td>\n",
       "      <td>none</td>\n",
       "      <td>Initial design</td>\n",
       "    </tr>\n",
       "    <tr>\n",
       "      <th>26</th>\n",
       "      <td>6</td>\n",
       "      <td>0.02</td>\n",
       "      <td>mlp</td>\n",
       "      <td>0.484006</td>\n",
       "      <td>3.417205</td>\n",
       "      <td>25</td>\n",
       "      <td>0.460569</td>\n",
       "      <td>0</td>\n",
       "      <td>1.717081e+09</td>\n",
       "      <td>1.717081e+09</td>\n",
       "      <td>6.25</td>\n",
       "      <td>StatusType.SUCCESS</td>\n",
       "      <td>[]</td>\n",
       "      <td>[no_preprocessing]</td>\n",
       "      <td>none</td>\n",
       "      <td>Initial design</td>\n",
       "    </tr>\n",
       "    <tr>\n",
       "      <th>20</th>\n",
       "      <td>7</td>\n",
       "      <td>0.20</td>\n",
       "      <td>mlp</td>\n",
       "      <td>0.484470</td>\n",
       "      <td>3.669278</td>\n",
       "      <td>19</td>\n",
       "      <td>0.482207</td>\n",
       "      <td>0</td>\n",
       "      <td>1.717081e+09</td>\n",
       "      <td>1.717081e+09</td>\n",
       "      <td>6.25</td>\n",
       "      <td>StatusType.SUCCESS</td>\n",
       "      <td>[]</td>\n",
       "      <td>[no_preprocessing]</td>\n",
       "      <td>weighting</td>\n",
       "      <td>Initial design</td>\n",
       "    </tr>\n",
       "    <tr>\n",
       "      <th>7</th>\n",
       "      <td>8</td>\n",
       "      <td>0.42</td>\n",
       "      <td>gradient_boosting</td>\n",
       "      <td>0.488867</td>\n",
       "      <td>1.902128</td>\n",
       "      <td>6</td>\n",
       "      <td>0.439817</td>\n",
       "      <td>0</td>\n",
       "      <td>1.717081e+09</td>\n",
       "      <td>1.717081e+09</td>\n",
       "      <td>6.25</td>\n",
       "      <td>StatusType.DONOTADVANCE</td>\n",
       "      <td>[]</td>\n",
       "      <td>[no_preprocessing]</td>\n",
       "      <td>none</td>\n",
       "      <td>Initial design</td>\n",
       "    </tr>\n",
       "    <tr>\n",
       "      <th>12</th>\n",
       "      <td>9</td>\n",
       "      <td>0.04</td>\n",
       "      <td>mlp</td>\n",
       "      <td>0.495034</td>\n",
       "      <td>4.462073</td>\n",
       "      <td>11</td>\n",
       "      <td>0.479302</td>\n",
       "      <td>0</td>\n",
       "      <td>1.717081e+09</td>\n",
       "      <td>1.717081e+09</td>\n",
       "      <td>6.25</td>\n",
       "      <td>StatusType.SUCCESS</td>\n",
       "      <td>[]</td>\n",
       "      <td>[no_preprocessing]</td>\n",
       "      <td>none</td>\n",
       "      <td>Initial design</td>\n",
       "    </tr>\n",
       "  </tbody>\n",
       "</table>\n",
       "</div>"
      ],
      "text/plain": [
       "          rank  ensemble_weight               type      cost  duration  \\\n",
       "model_id                                                                 \n",
       "24           1             0.02  gradient_boosting  0.460279  2.385873   \n",
       "17           2             0.10        extra_trees  0.462705  2.391402   \n",
       "30           3             0.02        extra_trees  0.462874  3.916786   \n",
       "31           4             0.04                mlp  0.480629  3.556101   \n",
       "9            5             0.04                mlp  0.481285  2.524077   \n",
       "26           6             0.02                mlp  0.484006  3.417205   \n",
       "20           7             0.20                mlp  0.484470  3.669278   \n",
       "7            8             0.42  gradient_boosting  0.488867  1.902128   \n",
       "12           9             0.04                mlp  0.495034  4.462073   \n",
       "\n",
       "          config_id  train_loss  seed    start_time      end_time  budget  \\\n",
       "model_id                                                                    \n",
       "24               23    0.009371     0  1.717081e+09  1.717081e+09    6.25   \n",
       "17               16    0.127356     0  1.717081e+09  1.717081e+09    6.25   \n",
       "30               29    0.005467     0  1.717081e+09  1.717081e+09    6.25   \n",
       "31               30    0.457383     0  1.717081e+09  1.717081e+09    6.25   \n",
       "9                 8    0.466719     0  1.717081e+09  1.717081e+09    6.25   \n",
       "26               25    0.460569     0  1.717081e+09  1.717081e+09    6.25   \n",
       "20               19    0.482207     0  1.717081e+09  1.717081e+09    6.25   \n",
       "7                 6    0.439817     0  1.717081e+09  1.717081e+09    6.25   \n",
       "12               11    0.479302     0  1.717081e+09  1.717081e+09    6.25   \n",
       "\n",
       "                           status data_preprocessors feature_preprocessors  \\\n",
       "model_id                                                                     \n",
       "24             StatusType.SUCCESS                 []    [no_preprocessing]   \n",
       "17             StatusType.SUCCESS                 []    [no_preprocessing]   \n",
       "30             StatusType.SUCCESS                 []    [no_preprocessing]   \n",
       "31             StatusType.SUCCESS                 []    [no_preprocessing]   \n",
       "9              StatusType.SUCCESS                 []    [no_preprocessing]   \n",
       "26             StatusType.SUCCESS                 []    [no_preprocessing]   \n",
       "20             StatusType.SUCCESS                 []    [no_preprocessing]   \n",
       "7         StatusType.DONOTADVANCE                 []    [no_preprocessing]   \n",
       "12             StatusType.SUCCESS                 []    [no_preprocessing]   \n",
       "\n",
       "         balancing_strategy   config_origin  \n",
       "model_id                                     \n",
       "24                     none  Initial design  \n",
       "17                     none  Initial design  \n",
       "30                weighting  Initial design  \n",
       "31                     none  Initial design  \n",
       "9                      none  Initial design  \n",
       "26                     none  Initial design  \n",
       "20                weighting  Initial design  \n",
       "7                      none  Initial design  \n",
       "12                     none  Initial design  "
      ]
     },
     "execution_count": 27,
     "metadata": {},
     "output_type": "execute_result"
    }
   ],
   "source": [
    "automl.leaderboard()"
   ]
  },
  {
   "cell_type": "code",
   "execution_count": 28,
   "metadata": {},
   "outputs": [
    {
     "data": {
      "text/plain": [
       "{7: {'model_id': 7,\n",
       "  'rank': 1,\n",
       "  'cost': 0.48886731355442303,\n",
       "  'ensemble_weight': 0.42,\n",
       "  'data_preprocessor': <autosklearn.pipeline.components.data_preprocessing.DataPreprocessorChoice at 0x7f864d3b6dc0>,\n",
       "  'balancing': Balancing(random_state=42),\n",
       "  'feature_preprocessor': <autosklearn.pipeline.components.feature_preprocessing.FeaturePreprocessorChoice at 0x7f864d3b0610>,\n",
       "  'classifier': <autosklearn.pipeline.components.classification.ClassifierChoice at 0x7f864d38d550>,\n",
       "  'sklearn_classifier': None},\n",
       " 9: {'model_id': 9,\n",
       "  'rank': 2,\n",
       "  'cost': 0.4812854802923116,\n",
       "  'ensemble_weight': 0.04,\n",
       "  'data_preprocessor': <autosklearn.pipeline.components.data_preprocessing.DataPreprocessorChoice at 0x7f864dd18520>,\n",
       "  'balancing': Balancing(random_state=42),\n",
       "  'feature_preprocessor': <autosklearn.pipeline.components.feature_preprocessing.FeaturePreprocessorChoice at 0x7f864d3a1100>,\n",
       "  'classifier': <autosklearn.pipeline.components.classification.ClassifierChoice at 0x7f864d3a1460>,\n",
       "  'sklearn_classifier': None},\n",
       " 12: {'model_id': 12,\n",
       "  'rank': 3,\n",
       "  'cost': 0.49503355607154303,\n",
       "  'ensemble_weight': 0.04,\n",
       "  'data_preprocessor': <autosklearn.pipeline.components.data_preprocessing.DataPreprocessorChoice at 0x7f864d3ab250>,\n",
       "  'balancing': Balancing(random_state=42),\n",
       "  'feature_preprocessor': <autosklearn.pipeline.components.feature_preprocessing.FeaturePreprocessorChoice at 0x7f864d3b9df0>,\n",
       "  'classifier': <autosklearn.pipeline.components.classification.ClassifierChoice at 0x7f864d3b90d0>,\n",
       "  'sklearn_classifier': None},\n",
       " 14: {'model_id': 14,\n",
       "  'rank': 4,\n",
       "  'cost': 0.46344219409396287,\n",
       "  'ensemble_weight': 0.0,\n",
       "  'data_preprocessor': <autosklearn.pipeline.components.data_preprocessing.DataPreprocessorChoice at 0x7f864d3abeb0>,\n",
       "  'balancing': Balancing(random_state=42),\n",
       "  'feature_preprocessor': <autosklearn.pipeline.components.feature_preprocessing.FeaturePreprocessorChoice at 0x7f864d3b0760>,\n",
       "  'classifier': <autosklearn.pipeline.components.classification.ClassifierChoice at 0x7f864d3b0f40>,\n",
       "  'sklearn_classifier': None},\n",
       " 17: {'model_id': 17,\n",
       "  'rank': 5,\n",
       "  'cost': 0.46270491917246237,\n",
       "  'ensemble_weight': 0.1,\n",
       "  'data_preprocessor': <autosklearn.pipeline.components.data_preprocessing.DataPreprocessorChoice at 0x7f864d3a18e0>,\n",
       "  'balancing': Balancing(random_state=42),\n",
       "  'feature_preprocessor': <autosklearn.pipeline.components.feature_preprocessing.FeaturePreprocessorChoice at 0x7f864d3ae070>,\n",
       "  'classifier': <autosklearn.pipeline.components.classification.ClassifierChoice at 0x7f864d3ae130>,\n",
       "  'sklearn_classifier': None},\n",
       " 20: {'model_id': 20,\n",
       "  'rank': 6,\n",
       "  'cost': 0.4844698533789139,\n",
       "  'ensemble_weight': 0.2,\n",
       "  'data_preprocessor': <autosklearn.pipeline.components.data_preprocessing.DataPreprocessorChoice at 0x7f864d3b9280>,\n",
       "  'balancing': Balancing(random_state=42, strategy='weighting'),\n",
       "  'feature_preprocessor': <autosklearn.pipeline.components.feature_preprocessing.FeaturePreprocessorChoice at 0x7f864d38d9d0>,\n",
       "  'classifier': <autosklearn.pipeline.components.classification.ClassifierChoice at 0x7f864d38da90>,\n",
       "  'sklearn_classifier': None},\n",
       " 24: {'model_id': 24,\n",
       "  'rank': 7,\n",
       "  'cost': 0.46027940234354026,\n",
       "  'ensemble_weight': 0.02,\n",
       "  'data_preprocessor': <autosklearn.pipeline.components.data_preprocessing.DataPreprocessorChoice at 0x7f864d3b0bb0>,\n",
       "  'balancing': Balancing(random_state=42),\n",
       "  'feature_preprocessor': <autosklearn.pipeline.components.feature_preprocessing.FeaturePreprocessorChoice at 0x7f864df23280>,\n",
       "  'classifier': <autosklearn.pipeline.components.classification.ClassifierChoice at 0x7f864df23130>,\n",
       "  'sklearn_classifier': None},\n",
       " 25: {'model_id': 25,\n",
       "  'rank': 8,\n",
       "  'cost': 0.4602378759382008,\n",
       "  'ensemble_weight': 0.0,\n",
       "  'data_preprocessor': <autosklearn.pipeline.components.data_preprocessing.DataPreprocessorChoice at 0x7f864d38d6d0>,\n",
       "  'balancing': Balancing(random_state=42, strategy='weighting'),\n",
       "  'feature_preprocessor': <autosklearn.pipeline.components.feature_preprocessing.FeaturePreprocessorChoice at 0x7f864df258b0>,\n",
       "  'classifier': <autosklearn.pipeline.components.classification.ClassifierChoice at 0x7f864df25760>,\n",
       "  'sklearn_classifier': None},\n",
       " 26: {'model_id': 26,\n",
       "  'rank': 9,\n",
       "  'cost': 0.484005773436856,\n",
       "  'ensemble_weight': 0.02,\n",
       "  'data_preprocessor': <autosklearn.pipeline.components.data_preprocessing.DataPreprocessorChoice at 0x7f864da67a90>,\n",
       "  'balancing': Balancing(random_state=42),\n",
       "  'feature_preprocessor': <autosklearn.pipeline.components.feature_preprocessing.FeaturePreprocessorChoice at 0x7f8669921e80>,\n",
       "  'classifier': <autosklearn.pipeline.components.classification.ClassifierChoice at 0x7f8669921d60>,\n",
       "  'sklearn_classifier': None},\n",
       " 30: {'model_id': 30,\n",
       "  'rank': 10,\n",
       "  'cost': 0.46287395944487053,\n",
       "  'ensemble_weight': 0.02,\n",
       "  'data_preprocessor': <autosklearn.pipeline.components.data_preprocessing.DataPreprocessorChoice at 0x7f864df01610>,\n",
       "  'balancing': Balancing(random_state=42, strategy='weighting'),\n",
       "  'feature_preprocessor': <autosklearn.pipeline.components.feature_preprocessing.FeaturePreprocessorChoice at 0x7f86699112e0>,\n",
       "  'classifier': <autosklearn.pipeline.components.classification.ClassifierChoice at 0x7f8669911190>,\n",
       "  'sklearn_classifier': None},\n",
       " 31: {'model_id': 31,\n",
       "  'rank': 11,\n",
       "  'cost': 0.48062926343188156,\n",
       "  'ensemble_weight': 0.04,\n",
       "  'data_preprocessor': <autosklearn.pipeline.components.data_preprocessing.DataPreprocessorChoice at 0x7f864df05be0>,\n",
       "  'balancing': Balancing(random_state=42),\n",
       "  'feature_preprocessor': <autosklearn.pipeline.components.feature_preprocessing.FeaturePreprocessorChoice at 0x7f864de76880>,\n",
       "  'classifier': <autosklearn.pipeline.components.classification.ClassifierChoice at 0x7f864de76fd0>,\n",
       "  'sklearn_classifier': None}}"
      ]
     },
     "execution_count": 28,
     "metadata": {},
     "output_type": "execute_result"
    }
   ],
   "source": [
    "automl.show_models()"
   ]
  },
  {
   "cell_type": "code",
   "execution_count": 24,
   "metadata": {},
   "outputs": [],
   "source": [
    "ypred = automl.predict_proba(X_te)"
   ]
  },
  {
   "cell_type": "code",
   "execution_count": 25,
   "metadata": {},
   "outputs": [
    {
     "data": {
      "text/plain": [
       "0.4740061162079511"
      ]
     },
     "execution_count": 25,
     "metadata": {},
     "output_type": "execute_result"
    }
   ],
   "source": [
    "getScoreLimited(y_te, ypred)"
   ]
  },
  {
   "cell_type": "code",
   "execution_count": 31,
   "metadata": {},
   "outputs": [
    {
     "data": {
      "text/plain": [
       "{'balancing:strategy': 'weighting',\n",
       " 'classifier:__choice__': 'gradient_boosting',\n",
       " 'data_preprocessor:__choice__': 'feature_type',\n",
       " 'feature_preprocessor:__choice__': 'no_preprocessing',\n",
       " 'classifier:gradient_boosting:early_stop': 'off',\n",
       " 'classifier:gradient_boosting:l2_regularization': 0.3823866149047987,\n",
       " 'classifier:gradient_boosting:learning_rate': 0.9564154505530591,\n",
       " 'classifier:gradient_boosting:loss': 'auto',\n",
       " 'classifier:gradient_boosting:max_bins': 255,\n",
       " 'classifier:gradient_boosting:max_depth': 'None',\n",
       " 'classifier:gradient_boosting:max_leaf_nodes': 50,\n",
       " 'classifier:gradient_boosting:min_samples_leaf': 5,\n",
       " 'classifier:gradient_boosting:scoring': 'loss',\n",
       " 'classifier:gradient_boosting:tol': 1e-07,\n",
       " 'data_preprocessor:feature_type:numerical_transformer:imputation:strategy': 'median',\n",
       " 'data_preprocessor:feature_type:numerical_transformer:rescaling:__choice__': 'none'}"
      ]
     },
     "execution_count": 31,
     "metadata": {},
     "output_type": "execute_result"
    }
   ],
   "source": [
    "automl.cv_results_['params'][np.argmax(automl.cv_results_['mean_test_score'])]"
   ]
  },
  {
   "cell_type": "markdown",
   "metadata": {},
   "source": [
    "## V1"
   ]
  },
  {
   "cell_type": "code",
   "execution_count": 32,
   "metadata": {},
   "outputs": [
    {
     "name": "stdout",
     "output_type": "stream",
     "text": [
      "[WARNING] [2024-05-30 17:05:56,738:Client-AutoMLSMBO(42)::project] Could not find meta-data directory /home/patryk/repos/advml-proj-2/.venv/lib/python3.9/site-packages/autosklearn/metalearning/files/accu_binary.classification_dense\n"
     ]
    }
   ],
   "source": [
    "automl1 = autosklearn.classification.AutoSklearnClassifier(\n",
    "    time_left_for_this_task=86400,\n",
    "    delete_tmp_folder_after_terminate=False,\n",
    "    metric=accuracy_scorer,\n",
    "    seed=42\n",
    ")\n",
    "pd.DataFrame.iteritems = pd.DataFrame.items\n",
    "automl1.fit(X_t, y_t, dataset_name=\"project\")"
   ]
  },
  {
   "cell_type": "code",
   "execution_count": null,
   "metadata": {},
   "outputs": [],
   "source": [
    "automl1.cv_results_['params'][np.argmax(automl.cv_results_['mean_test_score'])]"
   ]
  },
  {
   "cell_type": "code",
   "execution_count": null,
   "metadata": {},
   "outputs": [],
   "source": [
    "ypred = automl1.predict_proba(X_te)\n",
    "getScoreLimited(y_te, ypred)"
   ]
  },
  {
   "cell_type": "code",
   "execution_count": null,
   "metadata": {},
   "outputs": [],
   "source": [
    "automl.leaderboard()"
   ]
  }
 ],
 "metadata": {
  "kernelspec": {
   "display_name": "Python 3",
   "language": "python",
   "name": "python3"
  },
  "language_info": {
   "codemirror_mode": {
    "name": "ipython",
    "version": 3
   },
   "file_extension": ".py",
   "mimetype": "text/x-python",
   "name": "python",
   "nbconvert_exporter": "python",
   "pygments_lexer": "ipython3",
   "version": "3.9.19"
  }
 },
 "nbformat": 4,
 "nbformat_minor": 2
}
