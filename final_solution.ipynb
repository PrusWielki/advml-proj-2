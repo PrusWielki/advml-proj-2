{
 "cells": [
  {
   "cell_type": "code",
   "execution_count": 41,
   "metadata": {},
   "outputs": [],
   "source": [
    "import pickle\n",
    "import numpy as np\n",
    "import pandas as pd\n",
    "import itertools\n",
    "from enum import Enum\n",
    "import seaborn as sns\n",
    "import matplotlib.pyplot as plt\n",
    "from sklearn.neural_network import MLPClassifier\n",
    "\n",
    "from sklearn.discriminant_analysis import (\n",
    "    LinearDiscriminantAnalysis,\n",
    "    QuadraticDiscriminantAnalysis,\n",
    ")\n",
    "from sklearn.tree import DecisionTreeClassifier\n",
    "from sklearn.model_selection import train_test_split\n",
    "from sklearn.feature_selection import (\n",
    "    f_classif,\n",
    "    mutual_info_classif,\n",
    "    SelectKBest,\n",
    "    RFE,\n",
    "    RFECV,\n",
    "    SelectFpr,\n",
    "    SelectFdr,\n",
    "    SelectFwe,\n",
    ")\n",
    "from sklearn.svm import SVC\n",
    "from sklearn.preprocessing import StandardScaler\n",
    "from sklearn.pipeline import Pipeline\n",
    "from sklearn.linear_model import LogisticRegression\n",
    "from sklearn.neighbors import KNeighborsClassifier\n",
    "from sklearn.ensemble import HistGradientBoostingClassifier, GradientBoostingClassifier\n",
    "from sklearn.metrics import accuracy_score, precision_score\n",
    "import time\n",
    "RESULTS_COLUMNS = [\n",
    "    \"score\",\n",
    "    \"numberOfTruePositives\",\n",
    "    \"accuracy\",\n",
    "    \"precision\",\n",
    "    \"numberOfFeatures\",\n",
    "    \"model\",\n",
    "    \"model_parameters\",\n",
    "    \"feature_selector\",\n",
    "    \"selector_parameters\",\n",
    "]"
   ]
  },
  {
   "cell_type": "code",
   "execution_count": 62,
   "metadata": {},
   "outputs": [],
   "source": [
    "def getScore(y_true, y_pred, featuresUsed):\n",
    "    \"\"\"Get score based on y_true, y_pred and number of feature used\n",
    "\n",
    "    Scoring function, based on which, the best model is selected.\n",
    "    Score is calculated according to task description: +10 points for each\n",
    "    correctly classified positive class, -200 points for each feature used\n",
    "    \"\"\"\n",
    "\n",
    "    score = 0\n",
    "\n",
    "    correct = 0\n",
    "\n",
    "    for i, y in enumerate(y_true):\n",
    "        if y == 1 and y_pred[i] == 1:\n",
    "            correct += 1\n",
    "\n",
    "    score = 10 * correct - 200 * featuresUsed\n",
    "    score = 10 * correct\n",
    "    return correct, score"
   ]
  },
  {
   "cell_type": "code",
   "execution_count": 63,
   "metadata": {},
   "outputs": [],
   "source": [
    "\n",
    "with open(\"./Dataset/x_train.txt\") as file:\n",
    "    X_orig_train = [[float(digit) for digit in line.split()] for line in file]\n",
    "\n",
    "with open(\"./Dataset/y_train.txt\") as file:\n",
    "    y_orig_train = [[float(digit) for digit in line.split()] for line in file]\n",
    "\n",
    "with open(\"./Dataset/x_test.txt\") as file:\n",
    "    X_orig_test = [[float(digit) for digit in line.split()] for line in file]"
   ]
  },
  {
   "cell_type": "code",
   "execution_count": 64,
   "metadata": {},
   "outputs": [
    {
     "name": "stdout",
     "output_type": "stream",
     "text": [
      "X_test datapoints: 5000  features: 500\n",
      "X_train datapoints: 5000  features: 500\n",
      "y_train datapoints: 5000\n"
     ]
    }
   ],
   "source": [
    "print(\"X_test datapoints:\", len(X_orig_test), \" features:\", len(X_orig_test[0]))\n",
    "print(\"X_train datapoints:\", len(X_orig_train), \" features:\", len(X_orig_train[0]))\n",
    "print(\"y_train datapoints:\", len(y_orig_train))"
   ]
  },
  {
   "cell_type": "code",
   "execution_count": 65,
   "metadata": {},
   "outputs": [],
   "source": [
    "X_train, X_test, y_train, y_test = train_test_split(\n",
    "    X_orig_train, y_orig_train, test_size=0.3, random_state=42\n",
    ")\n",
    "y_train_ravel = np.ravel(y_train, order=\"C\")\n",
    "y_train_ravel = y_train_ravel.astype(int)\n",
    "y_test_ravel = np.ravel(y_test, order=\"C\")\n",
    "y_test_ravel = y_test_ravel.astype(int)"
   ]
  },
  {
   "cell_type": "code",
   "execution_count": 71,
   "metadata": {},
   "outputs": [],
   "source": [
    "# score_func = [f_classif, mutual_info_classif]\n",
    "\n",
    "kbest = SelectKBest(f_classif, k=3)\n",
    "\n",
    "kbest.fit(X_train, y_train_ravel)   \n",
    "\n",
    "X_train_kbest = kbest.transform(X_train)\n",
    "X_test_kbest = kbest.transform(X_test)"
   ]
  },
  {
   "cell_type": "code",
   "execution_count": 78,
   "metadata": {},
   "outputs": [],
   "source": [
    "model = MLPClassifier(hidden_layer_sizes=(200), solver='sgd')\n",
    "\n",
    "model.fit(X_train_kbest, y_train_ravel)\n",
    "\n",
    "y_pred = model.predict(X_test_kbest)\n",
    "\n",
    "numberOfFeatures = len(X_train[0])\n",
    "\n",
    "accuracy = accuracy_score(y_test_ravel, y_pred)\n",
    "\n",
    "correct, score = getScore(y_test_ravel, y_pred, numberOfFeatures)"
   ]
  },
  {
   "cell_type": "code",
   "execution_count": 79,
   "metadata": {},
   "outputs": [
    {
     "data": {
      "text/plain": [
       "(391, 3910, 0.48733333333333334)"
      ]
     },
     "execution_count": 79,
     "metadata": {},
     "output_type": "execute_result"
    }
   ],
   "source": [
    "correct, score, accuracy"
   ]
  },
  {
   "cell_type": "code",
   "execution_count": 80,
   "metadata": {},
   "outputs": [
    {
     "name": "stdout",
     "output_type": "stream",
     "text": [
      "(746,) (805,)\n",
      "(754,) (695,)\n"
     ]
    }
   ],
   "source": [
    "print(y_test_ravel[y_test_ravel == 1].shape, y_pred[y_pred == 1].shape)\n",
    "print(y_test_ravel[y_test_ravel == 0].shape, y_pred[y_pred == 0].shape)"
   ]
  },
  {
   "cell_type": "code",
   "execution_count": null,
   "metadata": {},
   "outputs": [],
   "source": []
  },
  {
   "cell_type": "code",
   "execution_count": null,
   "metadata": {},
   "outputs": [],
   "source": []
  }
 ],
 "metadata": {
  "kernelspec": {
   "display_name": "base",
   "language": "python",
   "name": "python3"
  },
  "language_info": {
   "codemirror_mode": {
    "name": "ipython",
    "version": 3
   },
   "file_extension": ".py",
   "mimetype": "text/x-python",
   "name": "python",
   "nbconvert_exporter": "python",
   "pygments_lexer": "ipython3",
   "version": "3.11.7"
  }
 },
 "nbformat": 4,
 "nbformat_minor": 2
}
