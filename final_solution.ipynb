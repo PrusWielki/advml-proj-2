{
 "cells": [
  {
   "cell_type": "code",
   "execution_count": 81,
   "metadata": {},
   "outputs": [],
   "source": [
    "import functions\n",
    "import numpy as np\n",
    "import pandas as pd\n",
    "import seaborn as sns\n",
    "import pickle\n",
    "from sklearn.feature_selection import f_classif, mutual_info_classif\n",
    "import matplotlib.pyplot as plt\n",
    "from sklearn.svm import SVC"
   ]
  },
  {
   "cell_type": "code",
   "execution_count": 82,
   "metadata": {},
   "outputs": [],
   "source": [
    "with open(\"./Dataset/x_test.txt\") as file:\n",
    "    X_test = [[float(digit) for digit in line.split()] for line in file]\n",
    "\n",
    "\n",
    "with open(\"./Dataset/x_train.txt\") as file:\n",
    "    X_train = [[float(digit) for digit in line.split()] for line in file]\n",
    "\n",
    "\n",
    "with open(\"./Dataset/y_train.txt\") as file:\n",
    "    y_train = [[float(digit) for digit in line.split()] for line in file]"
   ]
  },
  {
   "cell_type": "code",
   "execution_count": 88,
   "metadata": {},
   "outputs": [
    {
     "name": "stdout",
     "output_type": "stream",
     "text": [
      "X_test datapoints: 5000  features: 500\n",
      "X_train datapoints: 5000  features: 500\n",
      "y_train datapoints: 5000\n"
     ]
    }
   ],
   "source": [
    "print(\"X_test datapoints:\", len(X_test), \" features:\", len(X_test[0]))\n",
    "print(\"X_train datapoints:\", len(X_train), \" features:\", len(X_train[0]))\n",
    "print(\"y_train datapoints:\", len(y_train))"
   ]
  },
  {
   "cell_type": "code",
   "execution_count": 89,
   "metadata": {},
   "outputs": [],
   "source": [
    "# MLPClassifier\n",
    "solver = [\"adam\", \"sgd\"]\n",
    "activation = [\"relu\", \"logistic\", \"tanh\"]\n",
    "hidden_layer_sizes = [(100,), (200,), (300,)]\n",
    "mlpClassifierParameters = functions.generateParameters([solver, activation, hidden_layer_sizes], globals())\n",
    "\n",
    "# Voting?\n",
    "\n",
    "\n",
    "models = [\n",
    "    {\"model\": functions.ModelType.MLPClassifier, \"parameters\": mlpClassifierParameters},\n",
    "]"
   ]
  },
  {
   "cell_type": "code",
   "execution_count": 90,
   "metadata": {},
   "outputs": [],
   "source": [
    "# KBest\n",
    "k = [2,3,4,5,8]\n",
    "score_func = [f_classif, mutual_info_classif]\n",
    "kBestParameters = functions.generateParameters([score_func, k], globals())\n",
    "\n",
    "\n",
    "featureSelectors = [\n",
    "    {\"model\": functions.FeatureSelectorType.KBest, \"parameters\": kBestParameters},\n",
    "]"
   ]
  },
  {
   "cell_type": "code",
   "execution_count": 91,
   "metadata": {},
   "outputs": [],
   "source": [
    "y_train_ravel = np.ravel(y_train, order=\"C\")\n",
    "y_train_ravel = y_train_ravel.astype(int)"
   ]
  },
  {
   "cell_type": "code",
   "execution_count": 92,
   "metadata": {},
   "outputs": [],
   "source": [
    "RESULTS_FILENAME = \"./Results/Limited/results-salveen2\""
   ]
  },
  {
   "cell_type": "code",
   "execution_count": 93,
   "metadata": {},
   "outputs": [
    {
     "name": "stdout",
     "output_type": "stream",
     "text": [
      "Performed Experiment 1/180(approx) took (s): model: 0.36 selector 0.14 with: FeatureSelectorType.KBest {'score_func': <function f_classif at 0x15cf7f1a0>, 'k': 2} ModelType.MLPClassifier {'solver': 'adam', 'activation': 'relu', 'hidden_layer_sizes': (100,)}\n",
      "Performed Experiment 2/180(approx) took (s): model: 0.49 selector 0.14 with: FeatureSelectorType.KBest {'score_func': <function f_classif at 0x15cf7f1a0>, 'k': 2} ModelType.MLPClassifier {'solver': 'adam', 'activation': 'relu', 'hidden_layer_sizes': (200,)}\n",
      "Performed Experiment 3/180(approx) took (s): model: 0.56 selector 0.14 with: FeatureSelectorType.KBest {'score_func': <function f_classif at 0x15cf7f1a0>, 'k': 2} ModelType.MLPClassifier {'solver': 'adam', 'activation': 'relu', 'hidden_layer_sizes': (300,)}\n",
      "Performed Experiment 4/180(approx) took (s): model: 0.46 selector 0.14 with: FeatureSelectorType.KBest {'score_func': <function f_classif at 0x15cf7f1a0>, 'k': 2} ModelType.MLPClassifier {'solver': 'adam', 'activation': 'logistic', 'hidden_layer_sizes': (100,)}\n",
      "Performed Experiment 5/180(approx) took (s): model: 0.46 selector 0.14 with: FeatureSelectorType.KBest {'score_func': <function f_classif at 0x15cf7f1a0>, 'k': 2} ModelType.MLPClassifier {'solver': 'adam', 'activation': 'logistic', 'hidden_layer_sizes': (200,)}\n",
      "Performed Experiment 6/180(approx) took (s): model: 0.58 selector 0.14 with: FeatureSelectorType.KBest {'score_func': <function f_classif at 0x15cf7f1a0>, 'k': 2} ModelType.MLPClassifier {'solver': 'adam', 'activation': 'logistic', 'hidden_layer_sizes': (300,)}\n",
      "Performed Experiment 7/180(approx) took (s): model: 0.32 selector 0.14 with: FeatureSelectorType.KBest {'score_func': <function f_classif at 0x15cf7f1a0>, 'k': 2} ModelType.MLPClassifier {'solver': 'adam', 'activation': 'tanh', 'hidden_layer_sizes': (100,)}\n",
      "Performed Experiment 8/180(approx) took (s): model: 0.51 selector 0.14 with: FeatureSelectorType.KBest {'score_func': <function f_classif at 0x15cf7f1a0>, 'k': 2} ModelType.MLPClassifier {'solver': 'adam', 'activation': 'tanh', 'hidden_layer_sizes': (200,)}\n",
      "Performed Experiment 9/180(approx) took (s): model: 0.48 selector 0.14 with: FeatureSelectorType.KBest {'score_func': <function f_classif at 0x15cf7f1a0>, 'k': 2} ModelType.MLPClassifier {'solver': 'adam', 'activation': 'tanh', 'hidden_layer_sizes': (300,)}\n",
      "Performed Experiment 10/180(approx) took (s): model: 0.15 selector 0.14 with: FeatureSelectorType.KBest {'score_func': <function f_classif at 0x15cf7f1a0>, 'k': 2} ModelType.MLPClassifier {'solver': 'sgd', 'activation': 'relu', 'hidden_layer_sizes': (100,)}\n",
      "Performed Experiment 11/180(approx) took (s): model: 0.18 selector 0.14 with: FeatureSelectorType.KBest {'score_func': <function f_classif at 0x15cf7f1a0>, 'k': 2} ModelType.MLPClassifier {'solver': 'sgd', 'activation': 'relu', 'hidden_layer_sizes': (200,)}\n",
      "Performed Experiment 12/180(approx) took (s): model: 0.34 selector 0.14 with: FeatureSelectorType.KBest {'score_func': <function f_classif at 0x15cf7f1a0>, 'k': 2} ModelType.MLPClassifier {'solver': 'sgd', 'activation': 'relu', 'hidden_layer_sizes': (300,)}\n",
      "Performed Experiment 13/180(approx) took (s): model: 0.25 selector 0.14 with: FeatureSelectorType.KBest {'score_func': <function f_classif at 0x15cf7f1a0>, 'k': 2} ModelType.MLPClassifier {'solver': 'sgd', 'activation': 'logistic', 'hidden_layer_sizes': (100,)}\n",
      "Performed Experiment 14/180(approx) took (s): model: 0.36 selector 0.14 with: FeatureSelectorType.KBest {'score_func': <function f_classif at 0x15cf7f1a0>, 'k': 2} ModelType.MLPClassifier {'solver': 'sgd', 'activation': 'logistic', 'hidden_layer_sizes': (200,)}\n",
      "Performed Experiment 15/180(approx) took (s): model: 0.41 selector 0.14 with: FeatureSelectorType.KBest {'score_func': <function f_classif at 0x15cf7f1a0>, 'k': 2} ModelType.MLPClassifier {'solver': 'sgd', 'activation': 'logistic', 'hidden_layer_sizes': (300,)}\n",
      "Performed Experiment 16/180(approx) took (s): model: 0.24 selector 0.14 with: FeatureSelectorType.KBest {'score_func': <function f_classif at 0x15cf7f1a0>, 'k': 2} ModelType.MLPClassifier {'solver': 'sgd', 'activation': 'tanh', 'hidden_layer_sizes': (100,)}\n",
      "Performed Experiment 17/180(approx) took (s): model: 0.2 selector 0.14 with: FeatureSelectorType.KBest {'score_func': <function f_classif at 0x15cf7f1a0>, 'k': 2} ModelType.MLPClassifier {'solver': 'sgd', 'activation': 'tanh', 'hidden_layer_sizes': (200,)}\n",
      "Performed Experiment 18/180(approx) took (s): model: 0.78 selector 0.14 with: FeatureSelectorType.KBest {'score_func': <function f_classif at 0x15cf7f1a0>, 'k': 2} ModelType.MLPClassifier {'solver': 'sgd', 'activation': 'tanh', 'hidden_layer_sizes': (300,)}\n",
      "Performed Experiment 19/180(approx) took (s): model: 0.2 selector 0.18 with: FeatureSelectorType.KBest {'score_func': <function f_classif at 0x15cf7f1a0>, 'k': 3} ModelType.MLPClassifier {'solver': 'adam', 'activation': 'relu', 'hidden_layer_sizes': (100,)}\n",
      "Performed Experiment 20/180(approx) took (s): model: 0.15 selector 0.18 with: FeatureSelectorType.KBest {'score_func': <function f_classif at 0x15cf7f1a0>, 'k': 3} ModelType.MLPClassifier {'solver': 'adam', 'activation': 'relu', 'hidden_layer_sizes': (200,)}\n",
      "Performed Experiment 21/180(approx) took (s): model: 0.36 selector 0.18 with: FeatureSelectorType.KBest {'score_func': <function f_classif at 0x15cf7f1a0>, 'k': 3} ModelType.MLPClassifier {'solver': 'adam', 'activation': 'relu', 'hidden_layer_sizes': (300,)}\n",
      "Performed Experiment 22/180(approx) took (s): model: 0.28 selector 0.18 with: FeatureSelectorType.KBest {'score_func': <function f_classif at 0x15cf7f1a0>, 'k': 3} ModelType.MLPClassifier {'solver': 'adam', 'activation': 'logistic', 'hidden_layer_sizes': (100,)}\n",
      "Performed Experiment 23/180(approx) took (s): model: 0.19 selector 0.18 with: FeatureSelectorType.KBest {'score_func': <function f_classif at 0x15cf7f1a0>, 'k': 3} ModelType.MLPClassifier {'solver': 'adam', 'activation': 'logistic', 'hidden_layer_sizes': (200,)}\n",
      "Performed Experiment 24/180(approx) took (s): model: 0.52 selector 0.18 with: FeatureSelectorType.KBest {'score_func': <function f_classif at 0x15cf7f1a0>, 'k': 3} ModelType.MLPClassifier {'solver': 'adam', 'activation': 'logistic', 'hidden_layer_sizes': (300,)}\n",
      "Performed Experiment 25/180(approx) took (s): model: 0.14 selector 0.18 with: FeatureSelectorType.KBest {'score_func': <function f_classif at 0x15cf7f1a0>, 'k': 3} ModelType.MLPClassifier {'solver': 'adam', 'activation': 'tanh', 'hidden_layer_sizes': (100,)}\n",
      "Performed Experiment 26/180(approx) took (s): model: 0.27 selector 0.18 with: FeatureSelectorType.KBest {'score_func': <function f_classif at 0x15cf7f1a0>, 'k': 3} ModelType.MLPClassifier {'solver': 'adam', 'activation': 'tanh', 'hidden_layer_sizes': (200,)}\n",
      "Performed Experiment 27/180(approx) took (s): model: 0.46 selector 0.18 with: FeatureSelectorType.KBest {'score_func': <function f_classif at 0x15cf7f1a0>, 'k': 3} ModelType.MLPClassifier {'solver': 'adam', 'activation': 'tanh', 'hidden_layer_sizes': (300,)}\n",
      "Performed Experiment 28/180(approx) took (s): model: 0.15 selector 0.18 with: FeatureSelectorType.KBest {'score_func': <function f_classif at 0x15cf7f1a0>, 'k': 3} ModelType.MLPClassifier {'solver': 'sgd', 'activation': 'relu', 'hidden_layer_sizes': (100,)}\n",
      "Performed Experiment 29/180(approx) took (s): model: 0.3 selector 0.18 with: FeatureSelectorType.KBest {'score_func': <function f_classif at 0x15cf7f1a0>, 'k': 3} ModelType.MLPClassifier {'solver': 'sgd', 'activation': 'relu', 'hidden_layer_sizes': (200,)}\n",
      "Performed Experiment 30/180(approx) took (s): model: 0.7 selector 0.18 with: FeatureSelectorType.KBest {'score_func': <function f_classif at 0x15cf7f1a0>, 'k': 3} ModelType.MLPClassifier {'solver': 'sgd', 'activation': 'relu', 'hidden_layer_sizes': (300,)}\n",
      "Performed Experiment 31/180(approx) took (s): model: 0.31 selector 0.18 with: FeatureSelectorType.KBest {'score_func': <function f_classif at 0x15cf7f1a0>, 'k': 3} ModelType.MLPClassifier {'solver': 'sgd', 'activation': 'logistic', 'hidden_layer_sizes': (100,)}\n",
      "Performed Experiment 32/180(approx) took (s): model: 0.48 selector 0.18 with: FeatureSelectorType.KBest {'score_func': <function f_classif at 0x15cf7f1a0>, 'k': 3} ModelType.MLPClassifier {'solver': 'sgd', 'activation': 'logistic', 'hidden_layer_sizes': (200,)}\n",
      "Performed Experiment 33/180(approx) took (s): model: 0.18 selector 0.18 with: FeatureSelectorType.KBest {'score_func': <function f_classif at 0x15cf7f1a0>, 'k': 3} ModelType.MLPClassifier {'solver': 'sgd', 'activation': 'logistic', 'hidden_layer_sizes': (300,)}\n",
      "Performed Experiment 34/180(approx) took (s): model: 0.09 selector 0.18 with: FeatureSelectorType.KBest {'score_func': <function f_classif at 0x15cf7f1a0>, 'k': 3} ModelType.MLPClassifier {'solver': 'sgd', 'activation': 'tanh', 'hidden_layer_sizes': (100,)}\n",
      "Performed Experiment 35/180(approx) took (s): model: 0.33 selector 0.18 with: FeatureSelectorType.KBest {'score_func': <function f_classif at 0x15cf7f1a0>, 'k': 3} ModelType.MLPClassifier {'solver': 'sgd', 'activation': 'tanh', 'hidden_layer_sizes': (200,)}\n",
      "Performed Experiment 36/180(approx) took (s): model: 0.31 selector 0.18 with: FeatureSelectorType.KBest {'score_func': <function f_classif at 0x15cf7f1a0>, 'k': 3} ModelType.MLPClassifier {'solver': 'sgd', 'activation': 'tanh', 'hidden_layer_sizes': (300,)}\n",
      "Performed Experiment 37/180(approx) took (s): model: 0.27 selector 0.14 with: FeatureSelectorType.KBest {'score_func': <function f_classif at 0x15cf7f1a0>, 'k': 4} ModelType.MLPClassifier {'solver': 'adam', 'activation': 'relu', 'hidden_layer_sizes': (100,)}\n",
      "Performed Experiment 38/180(approx) took (s): model: 0.3 selector 0.14 with: FeatureSelectorType.KBest {'score_func': <function f_classif at 0x15cf7f1a0>, 'k': 4} ModelType.MLPClassifier {'solver': 'adam', 'activation': 'relu', 'hidden_layer_sizes': (200,)}\n",
      "Performed Experiment 39/180(approx) took (s): model: 0.57 selector 0.14 with: FeatureSelectorType.KBest {'score_func': <function f_classif at 0x15cf7f1a0>, 'k': 4} ModelType.MLPClassifier {'solver': 'adam', 'activation': 'relu', 'hidden_layer_sizes': (300,)}\n",
      "Performed Experiment 40/180(approx) took (s): model: 0.73 selector 0.14 with: FeatureSelectorType.KBest {'score_func': <function f_classif at 0x15cf7f1a0>, 'k': 4} ModelType.MLPClassifier {'solver': 'adam', 'activation': 'logistic', 'hidden_layer_sizes': (100,)}\n",
      "Performed Experiment 41/180(approx) took (s): model: 0.5 selector 0.14 with: FeatureSelectorType.KBest {'score_func': <function f_classif at 0x15cf7f1a0>, 'k': 4} ModelType.MLPClassifier {'solver': 'adam', 'activation': 'logistic', 'hidden_layer_sizes': (200,)}\n",
      "Performed Experiment 42/180(approx) took (s): model: 0.69 selector 0.14 with: FeatureSelectorType.KBest {'score_func': <function f_classif at 0x15cf7f1a0>, 'k': 4} ModelType.MLPClassifier {'solver': 'adam', 'activation': 'logistic', 'hidden_layer_sizes': (300,)}\n",
      "Performed Experiment 43/180(approx) took (s): model: 0.3 selector 0.14 with: FeatureSelectorType.KBest {'score_func': <function f_classif at 0x15cf7f1a0>, 'k': 4} ModelType.MLPClassifier {'solver': 'adam', 'activation': 'tanh', 'hidden_layer_sizes': (100,)}\n",
      "Performed Experiment 44/180(approx) took (s): model: 0.24 selector 0.14 with: FeatureSelectorType.KBest {'score_func': <function f_classif at 0x15cf7f1a0>, 'k': 4} ModelType.MLPClassifier {'solver': 'adam', 'activation': 'tanh', 'hidden_layer_sizes': (200,)}\n",
      "Performed Experiment 45/180(approx) took (s): model: 0.48 selector 0.14 with: FeatureSelectorType.KBest {'score_func': <function f_classif at 0x15cf7f1a0>, 'k': 4} ModelType.MLPClassifier {'solver': 'adam', 'activation': 'tanh', 'hidden_layer_sizes': (300,)}\n",
      "Performed Experiment 46/180(approx) took (s): model: 0.13 selector 0.14 with: FeatureSelectorType.KBest {'score_func': <function f_classif at 0x15cf7f1a0>, 'k': 4} ModelType.MLPClassifier {'solver': 'sgd', 'activation': 'relu', 'hidden_layer_sizes': (100,)}\n",
      "Performed Experiment 47/180(approx) took (s): model: 0.55 selector 0.14 with: FeatureSelectorType.KBest {'score_func': <function f_classif at 0x15cf7f1a0>, 'k': 4} ModelType.MLPClassifier {'solver': 'sgd', 'activation': 'relu', 'hidden_layer_sizes': (200,)}\n",
      "Performed Experiment 48/180(approx) took (s): model: 0.94 selector 0.14 with: FeatureSelectorType.KBest {'score_func': <function f_classif at 0x15cf7f1a0>, 'k': 4} ModelType.MLPClassifier {'solver': 'sgd', 'activation': 'relu', 'hidden_layer_sizes': (300,)}\n",
      "Performed Experiment 49/180(approx) took (s): model: 0.32 selector 0.14 with: FeatureSelectorType.KBest {'score_func': <function f_classif at 0x15cf7f1a0>, 'k': 4} ModelType.MLPClassifier {'solver': 'sgd', 'activation': 'logistic', 'hidden_layer_sizes': (100,)}\n",
      "Performed Experiment 50/180(approx) took (s): model: 0.26 selector 0.14 with: FeatureSelectorType.KBest {'score_func': <function f_classif at 0x15cf7f1a0>, 'k': 4} ModelType.MLPClassifier {'solver': 'sgd', 'activation': 'logistic', 'hidden_layer_sizes': (200,)}\n",
      "Performed Experiment 51/180(approx) took (s): model: 0.62 selector 0.14 with: FeatureSelectorType.KBest {'score_func': <function f_classif at 0x15cf7f1a0>, 'k': 4} ModelType.MLPClassifier {'solver': 'sgd', 'activation': 'logistic', 'hidden_layer_sizes': (300,)}\n",
      "Performed Experiment 52/180(approx) took (s): model: 0.31 selector 0.14 with: FeatureSelectorType.KBest {'score_func': <function f_classif at 0x15cf7f1a0>, 'k': 4} ModelType.MLPClassifier {'solver': 'sgd', 'activation': 'tanh', 'hidden_layer_sizes': (100,)}\n",
      "Performed Experiment 53/180(approx) took (s): model: 0.27 selector 0.14 with: FeatureSelectorType.KBest {'score_func': <function f_classif at 0x15cf7f1a0>, 'k': 4} ModelType.MLPClassifier {'solver': 'sgd', 'activation': 'tanh', 'hidden_layer_sizes': (200,)}\n",
      "Performed Experiment 54/180(approx) took (s): model: 0.43 selector 0.14 with: FeatureSelectorType.KBest {'score_func': <function f_classif at 0x15cf7f1a0>, 'k': 4} ModelType.MLPClassifier {'solver': 'sgd', 'activation': 'tanh', 'hidden_layer_sizes': (300,)}\n",
      "Performed Experiment 55/180(approx) took (s): model: 0.38 selector 0.15 with: FeatureSelectorType.KBest {'score_func': <function f_classif at 0x15cf7f1a0>, 'k': 5} ModelType.MLPClassifier {'solver': 'adam', 'activation': 'relu', 'hidden_layer_sizes': (100,)}\n",
      "Performed Experiment 56/180(approx) took (s): model: 0.4 selector 0.15 with: FeatureSelectorType.KBest {'score_func': <function f_classif at 0x15cf7f1a0>, 'k': 5} ModelType.MLPClassifier {'solver': 'adam', 'activation': 'relu', 'hidden_layer_sizes': (200,)}\n",
      "Performed Experiment 57/180(approx) took (s): model: 0.65 selector 0.15 with: FeatureSelectorType.KBest {'score_func': <function f_classif at 0x15cf7f1a0>, 'k': 5} ModelType.MLPClassifier {'solver': 'adam', 'activation': 'relu', 'hidden_layer_sizes': (300,)}\n",
      "Performed Experiment 58/180(approx) took (s): model: 0.34 selector 0.15 with: FeatureSelectorType.KBest {'score_func': <function f_classif at 0x15cf7f1a0>, 'k': 5} ModelType.MLPClassifier {'solver': 'adam', 'activation': 'logistic', 'hidden_layer_sizes': (100,)}\n",
      "Performed Experiment 59/180(approx) took (s): model: 0.71 selector 0.15 with: FeatureSelectorType.KBest {'score_func': <function f_classif at 0x15cf7f1a0>, 'k': 5} ModelType.MLPClassifier {'solver': 'adam', 'activation': 'logistic', 'hidden_layer_sizes': (200,)}\n",
      "Performed Experiment 60/180(approx) took (s): model: 1.14 selector 0.15 with: FeatureSelectorType.KBest {'score_func': <function f_classif at 0x15cf7f1a0>, 'k': 5} ModelType.MLPClassifier {'solver': 'adam', 'activation': 'logistic', 'hidden_layer_sizes': (300,)}\n",
      "Performed Experiment 61/180(approx) took (s): model: 0.31 selector 0.15 with: FeatureSelectorType.KBest {'score_func': <function f_classif at 0x15cf7f1a0>, 'k': 5} ModelType.MLPClassifier {'solver': 'adam', 'activation': 'tanh', 'hidden_layer_sizes': (100,)}\n",
      "Performed Experiment 62/180(approx) took (s): model: 0.51 selector 0.15 with: FeatureSelectorType.KBest {'score_func': <function f_classif at 0x15cf7f1a0>, 'k': 5} ModelType.MLPClassifier {'solver': 'adam', 'activation': 'tanh', 'hidden_layer_sizes': (200,)}\n",
      "Performed Experiment 63/180(approx) took (s): model: 0.36 selector 0.15 with: FeatureSelectorType.KBest {'score_func': <function f_classif at 0x15cf7f1a0>, 'k': 5} ModelType.MLPClassifier {'solver': 'adam', 'activation': 'tanh', 'hidden_layer_sizes': (300,)}\n",
      "Performed Experiment 64/180(approx) took (s): model: 0.29 selector 0.15 with: FeatureSelectorType.KBest {'score_func': <function f_classif at 0x15cf7f1a0>, 'k': 5} ModelType.MLPClassifier {'solver': 'sgd', 'activation': 'relu', 'hidden_layer_sizes': (100,)}\n",
      "Performed Experiment 65/180(approx) took (s): model: 0.47 selector 0.15 with: FeatureSelectorType.KBest {'score_func': <function f_classif at 0x15cf7f1a0>, 'k': 5} ModelType.MLPClassifier {'solver': 'sgd', 'activation': 'relu', 'hidden_layer_sizes': (200,)}\n",
      "Performed Experiment 66/180(approx) took (s): model: 0.38 selector 0.15 with: FeatureSelectorType.KBest {'score_func': <function f_classif at 0x15cf7f1a0>, 'k': 5} ModelType.MLPClassifier {'solver': 'sgd', 'activation': 'relu', 'hidden_layer_sizes': (300,)}\n",
      "Performed Experiment 67/180(approx) took (s): model: 0.07 selector 0.15 with: FeatureSelectorType.KBest {'score_func': <function f_classif at 0x15cf7f1a0>, 'k': 5} ModelType.MLPClassifier {'solver': 'sgd', 'activation': 'logistic', 'hidden_layer_sizes': (100,)}\n",
      "Performed Experiment 68/180(approx) took (s): model: 0.27 selector 0.15 with: FeatureSelectorType.KBest {'score_func': <function f_classif at 0x15cf7f1a0>, 'k': 5} ModelType.MLPClassifier {'solver': 'sgd', 'activation': 'logistic', 'hidden_layer_sizes': (200,)}\n",
      "Performed Experiment 69/180(approx) took (s): model: 0.24 selector 0.15 with: FeatureSelectorType.KBest {'score_func': <function f_classif at 0x15cf7f1a0>, 'k': 5} ModelType.MLPClassifier {'solver': 'sgd', 'activation': 'logistic', 'hidden_layer_sizes': (300,)}\n",
      "Performed Experiment 70/180(approx) took (s): model: 0.43 selector 0.15 with: FeatureSelectorType.KBest {'score_func': <function f_classif at 0x15cf7f1a0>, 'k': 5} ModelType.MLPClassifier {'solver': 'sgd', 'activation': 'tanh', 'hidden_layer_sizes': (100,)}\n",
      "Performed Experiment 71/180(approx) took (s): model: 0.63 selector 0.15 with: FeatureSelectorType.KBest {'score_func': <function f_classif at 0x15cf7f1a0>, 'k': 5} ModelType.MLPClassifier {'solver': 'sgd', 'activation': 'tanh', 'hidden_layer_sizes': (200,)}\n",
      "Performed Experiment 72/180(approx) took (s): model: 1.47 selector 0.15 with: FeatureSelectorType.KBest {'score_func': <function f_classif at 0x15cf7f1a0>, 'k': 5} ModelType.MLPClassifier {'solver': 'sgd', 'activation': 'tanh', 'hidden_layer_sizes': (300,)}\n"
     ]
    },
    {
     "name": "stderr",
     "output_type": "stream",
     "text": [
      "/opt/anaconda3/lib/python3.11/site-packages/sklearn/neural_network/_multilayer_perceptron.py:686: ConvergenceWarning: Stochastic Optimizer: Maximum iterations (200) reached and the optimization hasn't converged yet.\n",
      "  warnings.warn(\n"
     ]
    },
    {
     "name": "stdout",
     "output_type": "stream",
     "text": [
      "Performed Experiment 73/180(approx) took (s): model: 1.05 selector 0.19 with: FeatureSelectorType.KBest {'score_func': <function f_classif at 0x15cf7f1a0>, 'k': 8} ModelType.MLPClassifier {'solver': 'adam', 'activation': 'relu', 'hidden_layer_sizes': (100,)}\n"
     ]
    },
    {
     "name": "stderr",
     "output_type": "stream",
     "text": [
      "/opt/anaconda3/lib/python3.11/site-packages/sklearn/neural_network/_multilayer_perceptron.py:686: ConvergenceWarning: Stochastic Optimizer: Maximum iterations (200) reached and the optimization hasn't converged yet.\n",
      "  warnings.warn(\n"
     ]
    },
    {
     "name": "stdout",
     "output_type": "stream",
     "text": [
      "Performed Experiment 74/180(approx) took (s): model: 2.37 selector 0.19 with: FeatureSelectorType.KBest {'score_func': <function f_classif at 0x15cf7f1a0>, 'k': 8} ModelType.MLPClassifier {'solver': 'adam', 'activation': 'relu', 'hidden_layer_sizes': (200,)}\n"
     ]
    },
    {
     "name": "stderr",
     "output_type": "stream",
     "text": [
      "/opt/anaconda3/lib/python3.11/site-packages/sklearn/neural_network/_multilayer_perceptron.py:686: ConvergenceWarning: Stochastic Optimizer: Maximum iterations (200) reached and the optimization hasn't converged yet.\n",
      "  warnings.warn(\n"
     ]
    },
    {
     "name": "stdout",
     "output_type": "stream",
     "text": [
      "Performed Experiment 75/180(approx) took (s): model: 3.09 selector 0.19 with: FeatureSelectorType.KBest {'score_func': <function f_classif at 0x15cf7f1a0>, 'k': 8} ModelType.MLPClassifier {'solver': 'adam', 'activation': 'relu', 'hidden_layer_sizes': (300,)}\n",
      "Performed Experiment 76/180(approx) took (s): model: 0.42 selector 0.19 with: FeatureSelectorType.KBest {'score_func': <function f_classif at 0x15cf7f1a0>, 'k': 8} ModelType.MLPClassifier {'solver': 'adam', 'activation': 'logistic', 'hidden_layer_sizes': (100,)}\n",
      "Performed Experiment 77/180(approx) took (s): model: 0.67 selector 0.19 with: FeatureSelectorType.KBest {'score_func': <function f_classif at 0x15cf7f1a0>, 'k': 8} ModelType.MLPClassifier {'solver': 'adam', 'activation': 'logistic', 'hidden_layer_sizes': (200,)}\n",
      "Performed Experiment 78/180(approx) took (s): model: 0.66 selector 0.19 with: FeatureSelectorType.KBest {'score_func': <function f_classif at 0x15cf7f1a0>, 'k': 8} ModelType.MLPClassifier {'solver': 'adam', 'activation': 'logistic', 'hidden_layer_sizes': (300,)}\n",
      "Performed Experiment 79/180(approx) took (s): model: 0.52 selector 0.19 with: FeatureSelectorType.KBest {'score_func': <function f_classif at 0x15cf7f1a0>, 'k': 8} ModelType.MLPClassifier {'solver': 'adam', 'activation': 'tanh', 'hidden_layer_sizes': (100,)}\n",
      "Performed Experiment 80/180(approx) took (s): model: 1.48 selector 0.19 with: FeatureSelectorType.KBest {'score_func': <function f_classif at 0x15cf7f1a0>, 'k': 8} ModelType.MLPClassifier {'solver': 'adam', 'activation': 'tanh', 'hidden_layer_sizes': (200,)}\n",
      "Performed Experiment 81/180(approx) took (s): model: 0.56 selector 0.19 with: FeatureSelectorType.KBest {'score_func': <function f_classif at 0x15cf7f1a0>, 'k': 8} ModelType.MLPClassifier {'solver': 'adam', 'activation': 'tanh', 'hidden_layer_sizes': (300,)}\n",
      "Performed Experiment 82/180(approx) took (s): model: 0.63 selector 0.19 with: FeatureSelectorType.KBest {'score_func': <function f_classif at 0x15cf7f1a0>, 'k': 8} ModelType.MLPClassifier {'solver': 'sgd', 'activation': 'relu', 'hidden_layer_sizes': (100,)}\n",
      "Performed Experiment 83/180(approx) took (s): model: 1.19 selector 0.19 with: FeatureSelectorType.KBest {'score_func': <function f_classif at 0x15cf7f1a0>, 'k': 8} ModelType.MLPClassifier {'solver': 'sgd', 'activation': 'relu', 'hidden_layer_sizes': (200,)}\n",
      "Performed Experiment 84/180(approx) took (s): model: 0.65 selector 0.19 with: FeatureSelectorType.KBest {'score_func': <function f_classif at 0x15cf7f1a0>, 'k': 8} ModelType.MLPClassifier {'solver': 'sgd', 'activation': 'relu', 'hidden_layer_sizes': (300,)}\n",
      "Performed Experiment 85/180(approx) took (s): model: 0.27 selector 0.19 with: FeatureSelectorType.KBest {'score_func': <function f_classif at 0x15cf7f1a0>, 'k': 8} ModelType.MLPClassifier {'solver': 'sgd', 'activation': 'logistic', 'hidden_layer_sizes': (100,)}\n",
      "Performed Experiment 86/180(approx) took (s): model: 0.49 selector 0.19 with: FeatureSelectorType.KBest {'score_func': <function f_classif at 0x15cf7f1a0>, 'k': 8} ModelType.MLPClassifier {'solver': 'sgd', 'activation': 'logistic', 'hidden_layer_sizes': (200,)}\n",
      "Performed Experiment 87/180(approx) took (s): model: 0.48 selector 0.19 with: FeatureSelectorType.KBest {'score_func': <function f_classif at 0x15cf7f1a0>, 'k': 8} ModelType.MLPClassifier {'solver': 'sgd', 'activation': 'logistic', 'hidden_layer_sizes': (300,)}\n",
      "Performed Experiment 88/180(approx) took (s): model: 0.4 selector 0.19 with: FeatureSelectorType.KBest {'score_func': <function f_classif at 0x15cf7f1a0>, 'k': 8} ModelType.MLPClassifier {'solver': 'sgd', 'activation': 'tanh', 'hidden_layer_sizes': (100,)}\n",
      "Performed Experiment 89/180(approx) took (s): model: 0.83 selector 0.19 with: FeatureSelectorType.KBest {'score_func': <function f_classif at 0x15cf7f1a0>, 'k': 8} ModelType.MLPClassifier {'solver': 'sgd', 'activation': 'tanh', 'hidden_layer_sizes': (200,)}\n",
      "Performed Experiment 90/180(approx) took (s): model: 0.78 selector 0.19 with: FeatureSelectorType.KBest {'score_func': <function f_classif at 0x15cf7f1a0>, 'k': 8} ModelType.MLPClassifier {'solver': 'sgd', 'activation': 'tanh', 'hidden_layer_sizes': (300,)}\n",
      "Performed Experiment 91/180(approx) took (s): model: 0.31 selector 3.39 with: FeatureSelectorType.KBest {'score_func': <function mutual_info_classif at 0x15dabe700>, 'k': 2} ModelType.MLPClassifier {'solver': 'adam', 'activation': 'relu', 'hidden_layer_sizes': (100,)}\n",
      "Performed Experiment 92/180(approx) took (s): model: 0.43 selector 3.39 with: FeatureSelectorType.KBest {'score_func': <function mutual_info_classif at 0x15dabe700>, 'k': 2} ModelType.MLPClassifier {'solver': 'adam', 'activation': 'relu', 'hidden_layer_sizes': (200,)}\n",
      "Performed Experiment 93/180(approx) took (s): model: 0.5 selector 3.39 with: FeatureSelectorType.KBest {'score_func': <function mutual_info_classif at 0x15dabe700>, 'k': 2} ModelType.MLPClassifier {'solver': 'adam', 'activation': 'relu', 'hidden_layer_sizes': (300,)}\n",
      "Performed Experiment 94/180(approx) took (s): model: 0.09 selector 3.39 with: FeatureSelectorType.KBest {'score_func': <function mutual_info_classif at 0x15dabe700>, 'k': 2} ModelType.MLPClassifier {'solver': 'adam', 'activation': 'logistic', 'hidden_layer_sizes': (100,)}\n",
      "Performed Experiment 95/180(approx) took (s): model: 0.23 selector 3.39 with: FeatureSelectorType.KBest {'score_func': <function mutual_info_classif at 0x15dabe700>, 'k': 2} ModelType.MLPClassifier {'solver': 'adam', 'activation': 'logistic', 'hidden_layer_sizes': (200,)}\n",
      "Performed Experiment 96/180(approx) took (s): model: 0.33 selector 3.39 with: FeatureSelectorType.KBest {'score_func': <function mutual_info_classif at 0x15dabe700>, 'k': 2} ModelType.MLPClassifier {'solver': 'adam', 'activation': 'logistic', 'hidden_layer_sizes': (300,)}\n",
      "Performed Experiment 97/180(approx) took (s): model: 0.7 selector 3.39 with: FeatureSelectorType.KBest {'score_func': <function mutual_info_classif at 0x15dabe700>, 'k': 2} ModelType.MLPClassifier {'solver': 'adam', 'activation': 'tanh', 'hidden_layer_sizes': (100,)}\n",
      "Performed Experiment 98/180(approx) took (s): model: 1.32 selector 3.39 with: FeatureSelectorType.KBest {'score_func': <function mutual_info_classif at 0x15dabe700>, 'k': 2} ModelType.MLPClassifier {'solver': 'adam', 'activation': 'tanh', 'hidden_layer_sizes': (200,)}\n",
      "Performed Experiment 99/180(approx) took (s): model: 2.22 selector 3.39 with: FeatureSelectorType.KBest {'score_func': <function mutual_info_classif at 0x15dabe700>, 'k': 2} ModelType.MLPClassifier {'solver': 'adam', 'activation': 'tanh', 'hidden_layer_sizes': (300,)}\n",
      "Performed Experiment 100/180(approx) took (s): model: 0.28 selector 3.39 with: FeatureSelectorType.KBest {'score_func': <function mutual_info_classif at 0x15dabe700>, 'k': 2} ModelType.MLPClassifier {'solver': 'sgd', 'activation': 'relu', 'hidden_layer_sizes': (100,)}\n",
      "Performed Experiment 101/180(approx) took (s): model: 0.51 selector 3.39 with: FeatureSelectorType.KBest {'score_func': <function mutual_info_classif at 0x15dabe700>, 'k': 2} ModelType.MLPClassifier {'solver': 'sgd', 'activation': 'relu', 'hidden_layer_sizes': (200,)}\n",
      "Performed Experiment 102/180(approx) took (s): model: 0.76 selector 3.39 with: FeatureSelectorType.KBest {'score_func': <function mutual_info_classif at 0x15dabe700>, 'k': 2} ModelType.MLPClassifier {'solver': 'sgd', 'activation': 'relu', 'hidden_layer_sizes': (300,)}\n",
      "Performed Experiment 103/180(approx) took (s): model: 0.07 selector 3.39 with: FeatureSelectorType.KBest {'score_func': <function mutual_info_classif at 0x15dabe700>, 'k': 2} ModelType.MLPClassifier {'solver': 'sgd', 'activation': 'logistic', 'hidden_layer_sizes': (100,)}\n",
      "Performed Experiment 104/180(approx) took (s): model: 0.13 selector 3.39 with: FeatureSelectorType.KBest {'score_func': <function mutual_info_classif at 0x15dabe700>, 'k': 2} ModelType.MLPClassifier {'solver': 'sgd', 'activation': 'logistic', 'hidden_layer_sizes': (200,)}\n",
      "Performed Experiment 105/180(approx) took (s): model: 0.17 selector 3.39 with: FeatureSelectorType.KBest {'score_func': <function mutual_info_classif at 0x15dabe700>, 'k': 2} ModelType.MLPClassifier {'solver': 'sgd', 'activation': 'logistic', 'hidden_layer_sizes': (300,)}\n",
      "Performed Experiment 106/180(approx) took (s): model: 0.12 selector 3.39 with: FeatureSelectorType.KBest {'score_func': <function mutual_info_classif at 0x15dabe700>, 'k': 2} ModelType.MLPClassifier {'solver': 'sgd', 'activation': 'tanh', 'hidden_layer_sizes': (100,)}\n",
      "Performed Experiment 107/180(approx) took (s): model: 0.15 selector 3.39 with: FeatureSelectorType.KBest {'score_func': <function mutual_info_classif at 0x15dabe700>, 'k': 2} ModelType.MLPClassifier {'solver': 'sgd', 'activation': 'tanh', 'hidden_layer_sizes': (200,)}\n",
      "Performed Experiment 108/180(approx) took (s): model: 0.34 selector 3.39 with: FeatureSelectorType.KBest {'score_func': <function mutual_info_classif at 0x15dabe700>, 'k': 2} ModelType.MLPClassifier {'solver': 'sgd', 'activation': 'tanh', 'hidden_layer_sizes': (300,)}\n",
      "Performed Experiment 109/180(approx) took (s): model: 0.26 selector 3.39 with: FeatureSelectorType.KBest {'score_func': <function mutual_info_classif at 0x15dabe700>, 'k': 3} ModelType.MLPClassifier {'solver': 'adam', 'activation': 'relu', 'hidden_layer_sizes': (100,)}\n",
      "Performed Experiment 110/180(approx) took (s): model: 0.38 selector 3.39 with: FeatureSelectorType.KBest {'score_func': <function mutual_info_classif at 0x15dabe700>, 'k': 3} ModelType.MLPClassifier {'solver': 'adam', 'activation': 'relu', 'hidden_layer_sizes': (200,)}\n",
      "Performed Experiment 111/180(approx) took (s): model: 1.2 selector 3.39 with: FeatureSelectorType.KBest {'score_func': <function mutual_info_classif at 0x15dabe700>, 'k': 3} ModelType.MLPClassifier {'solver': 'adam', 'activation': 'relu', 'hidden_layer_sizes': (300,)}\n",
      "Performed Experiment 112/180(approx) took (s): model: 0.1 selector 3.39 with: FeatureSelectorType.KBest {'score_func': <function mutual_info_classif at 0x15dabe700>, 'k': 3} ModelType.MLPClassifier {'solver': 'adam', 'activation': 'logistic', 'hidden_layer_sizes': (100,)}\n"
     ]
    },
    {
     "name": "stderr",
     "output_type": "stream",
     "text": [
      "/opt/anaconda3/lib/python3.11/site-packages/sklearn/metrics/_classification.py:1344: UndefinedMetricWarning: Precision is ill-defined and being set to 0.0 due to no predicted samples. Use `zero_division` parameter to control this behavior.\n",
      "  _warn_prf(average, modifier, msg_start, len(result))\n"
     ]
    },
    {
     "name": "stdout",
     "output_type": "stream",
     "text": [
      "Performed Experiment 113/180(approx) took (s): model: 0.15 selector 3.39 with: FeatureSelectorType.KBest {'score_func': <function mutual_info_classif at 0x15dabe700>, 'k': 3} ModelType.MLPClassifier {'solver': 'adam', 'activation': 'logistic', 'hidden_layer_sizes': (200,)}\n",
      "Performed Experiment 114/180(approx) took (s): model: 0.21 selector 3.39 with: FeatureSelectorType.KBest {'score_func': <function mutual_info_classif at 0x15dabe700>, 'k': 3} ModelType.MLPClassifier {'solver': 'adam', 'activation': 'logistic', 'hidden_layer_sizes': (300,)}\n",
      "Performed Experiment 115/180(approx) took (s): model: 0.57 selector 3.39 with: FeatureSelectorType.KBest {'score_func': <function mutual_info_classif at 0x15dabe700>, 'k': 3} ModelType.MLPClassifier {'solver': 'adam', 'activation': 'tanh', 'hidden_layer_sizes': (100,)}\n",
      "Performed Experiment 116/180(approx) took (s): model: 1.18 selector 3.39 with: FeatureSelectorType.KBest {'score_func': <function mutual_info_classif at 0x15dabe700>, 'k': 3} ModelType.MLPClassifier {'solver': 'adam', 'activation': 'tanh', 'hidden_layer_sizes': (200,)}\n",
      "Performed Experiment 117/180(approx) took (s): model: 0.33 selector 3.39 with: FeatureSelectorType.KBest {'score_func': <function mutual_info_classif at 0x15dabe700>, 'k': 3} ModelType.MLPClassifier {'solver': 'adam', 'activation': 'tanh', 'hidden_layer_sizes': (300,)}\n",
      "Performed Experiment 118/180(approx) took (s): model: 0.24 selector 3.39 with: FeatureSelectorType.KBest {'score_func': <function mutual_info_classif at 0x15dabe700>, 'k': 3} ModelType.MLPClassifier {'solver': 'sgd', 'activation': 'relu', 'hidden_layer_sizes': (100,)}\n",
      "Performed Experiment 119/180(approx) took (s): model: 0.61 selector 3.39 with: FeatureSelectorType.KBest {'score_func': <function mutual_info_classif at 0x15dabe700>, 'k': 3} ModelType.MLPClassifier {'solver': 'sgd', 'activation': 'relu', 'hidden_layer_sizes': (200,)}\n",
      "Performed Experiment 120/180(approx) took (s): model: 0.93 selector 3.39 with: FeatureSelectorType.KBest {'score_func': <function mutual_info_classif at 0x15dabe700>, 'k': 3} ModelType.MLPClassifier {'solver': 'sgd', 'activation': 'relu', 'hidden_layer_sizes': (300,)}\n",
      "Performed Experiment 121/180(approx) took (s): model: 0.07 selector 3.39 with: FeatureSelectorType.KBest {'score_func': <function mutual_info_classif at 0x15dabe700>, 'k': 3} ModelType.MLPClassifier {'solver': 'sgd', 'activation': 'logistic', 'hidden_layer_sizes': (100,)}\n",
      "Performed Experiment 122/180(approx) took (s): model: 0.11 selector 3.39 with: FeatureSelectorType.KBest {'score_func': <function mutual_info_classif at 0x15dabe700>, 'k': 3} ModelType.MLPClassifier {'solver': 'sgd', 'activation': 'logistic', 'hidden_layer_sizes': (200,)}\n",
      "Performed Experiment 123/180(approx) took (s): model: 0.17 selector 3.39 with: FeatureSelectorType.KBest {'score_func': <function mutual_info_classif at 0x15dabe700>, 'k': 3} ModelType.MLPClassifier {'solver': 'sgd', 'activation': 'logistic', 'hidden_layer_sizes': (300,)}\n",
      "Performed Experiment 124/180(approx) took (s): model: 0.12 selector 3.39 with: FeatureSelectorType.KBest {'score_func': <function mutual_info_classif at 0x15dabe700>, 'k': 3} ModelType.MLPClassifier {'solver': 'sgd', 'activation': 'tanh', 'hidden_layer_sizes': (100,)}\n",
      "Performed Experiment 125/180(approx) took (s): model: 0.57 selector 3.39 with: FeatureSelectorType.KBest {'score_func': <function mutual_info_classif at 0x15dabe700>, 'k': 3} ModelType.MLPClassifier {'solver': 'sgd', 'activation': 'tanh', 'hidden_layer_sizes': (200,)}\n",
      "Performed Experiment 126/180(approx) took (s): model: 0.22 selector 3.39 with: FeatureSelectorType.KBest {'score_func': <function mutual_info_classif at 0x15dabe700>, 'k': 3} ModelType.MLPClassifier {'solver': 'sgd', 'activation': 'tanh', 'hidden_layer_sizes': (300,)}\n",
      "Performed Experiment 127/180(approx) took (s): model: 0.84 selector 3.37 with: FeatureSelectorType.KBest {'score_func': <function mutual_info_classif at 0x15dabe700>, 'k': 4} ModelType.MLPClassifier {'solver': 'adam', 'activation': 'relu', 'hidden_layer_sizes': (100,)}\n"
     ]
    },
    {
     "name": "stderr",
     "output_type": "stream",
     "text": [
      "/opt/anaconda3/lib/python3.11/site-packages/sklearn/neural_network/_multilayer_perceptron.py:686: ConvergenceWarning: Stochastic Optimizer: Maximum iterations (200) reached and the optimization hasn't converged yet.\n",
      "  warnings.warn(\n"
     ]
    },
    {
     "name": "stdout",
     "output_type": "stream",
     "text": [
      "Performed Experiment 128/180(approx) took (s): model: 2.71 selector 3.37 with: FeatureSelectorType.KBest {'score_func': <function mutual_info_classif at 0x15dabe700>, 'k': 4} ModelType.MLPClassifier {'solver': 'adam', 'activation': 'relu', 'hidden_layer_sizes': (200,)}\n",
      "Performed Experiment 129/180(approx) took (s): model: 1.04 selector 3.37 with: FeatureSelectorType.KBest {'score_func': <function mutual_info_classif at 0x15dabe700>, 'k': 4} ModelType.MLPClassifier {'solver': 'adam', 'activation': 'relu', 'hidden_layer_sizes': (300,)}\n",
      "Performed Experiment 130/180(approx) took (s): model: 0.23 selector 3.37 with: FeatureSelectorType.KBest {'score_func': <function mutual_info_classif at 0x15dabe700>, 'k': 4} ModelType.MLPClassifier {'solver': 'adam', 'activation': 'logistic', 'hidden_layer_sizes': (100,)}\n",
      "Performed Experiment 131/180(approx) took (s): model: 0.2 selector 3.37 with: FeatureSelectorType.KBest {'score_func': <function mutual_info_classif at 0x15dabe700>, 'k': 4} ModelType.MLPClassifier {'solver': 'adam', 'activation': 'logistic', 'hidden_layer_sizes': (200,)}\n",
      "Performed Experiment 132/180(approx) took (s): model: 0.35 selector 3.37 with: FeatureSelectorType.KBest {'score_func': <function mutual_info_classif at 0x15dabe700>, 'k': 4} ModelType.MLPClassifier {'solver': 'adam', 'activation': 'logistic', 'hidden_layer_sizes': (300,)}\n",
      "Performed Experiment 133/180(approx) took (s): model: 0.74 selector 3.37 with: FeatureSelectorType.KBest {'score_func': <function mutual_info_classif at 0x15dabe700>, 'k': 4} ModelType.MLPClassifier {'solver': 'adam', 'activation': 'tanh', 'hidden_layer_sizes': (100,)}\n",
      "Performed Experiment 134/180(approx) took (s): model: 1.25 selector 3.37 with: FeatureSelectorType.KBest {'score_func': <function mutual_info_classif at 0x15dabe700>, 'k': 4} ModelType.MLPClassifier {'solver': 'adam', 'activation': 'tanh', 'hidden_layer_sizes': (200,)}\n",
      "Performed Experiment 135/180(approx) took (s): model: 0.19 selector 3.37 with: FeatureSelectorType.KBest {'score_func': <function mutual_info_classif at 0x15dabe700>, 'k': 4} ModelType.MLPClassifier {'solver': 'adam', 'activation': 'tanh', 'hidden_layer_sizes': (300,)}\n",
      "Performed Experiment 136/180(approx) took (s): model: 0.45 selector 3.37 with: FeatureSelectorType.KBest {'score_func': <function mutual_info_classif at 0x15dabe700>, 'k': 4} ModelType.MLPClassifier {'solver': 'sgd', 'activation': 'relu', 'hidden_layer_sizes': (100,)}\n",
      "Performed Experiment 137/180(approx) took (s): model: 0.62 selector 3.37 with: FeatureSelectorType.KBest {'score_func': <function mutual_info_classif at 0x15dabe700>, 'k': 4} ModelType.MLPClassifier {'solver': 'sgd', 'activation': 'relu', 'hidden_layer_sizes': (200,)}\n",
      "Performed Experiment 138/180(approx) took (s): model: 0.84 selector 3.37 with: FeatureSelectorType.KBest {'score_func': <function mutual_info_classif at 0x15dabe700>, 'k': 4} ModelType.MLPClassifier {'solver': 'sgd', 'activation': 'relu', 'hidden_layer_sizes': (300,)}\n",
      "Performed Experiment 139/180(approx) took (s): model: 0.1 selector 3.37 with: FeatureSelectorType.KBest {'score_func': <function mutual_info_classif at 0x15dabe700>, 'k': 4} ModelType.MLPClassifier {'solver': 'sgd', 'activation': 'logistic', 'hidden_layer_sizes': (100,)}\n",
      "Performed Experiment 140/180(approx) took (s): model: 0.13 selector 3.37 with: FeatureSelectorType.KBest {'score_func': <function mutual_info_classif at 0x15dabe700>, 'k': 4} ModelType.MLPClassifier {'solver': 'sgd', 'activation': 'logistic', 'hidden_layer_sizes': (200,)}\n",
      "Performed Experiment 141/180(approx) took (s): model: 0.25 selector 3.37 with: FeatureSelectorType.KBest {'score_func': <function mutual_info_classif at 0x15dabe700>, 'k': 4} ModelType.MLPClassifier {'solver': 'sgd', 'activation': 'logistic', 'hidden_layer_sizes': (300,)}\n",
      "Performed Experiment 142/180(approx) took (s): model: 0.13 selector 3.37 with: FeatureSelectorType.KBest {'score_func': <function mutual_info_classif at 0x15dabe700>, 'k': 4} ModelType.MLPClassifier {'solver': 'sgd', 'activation': 'tanh', 'hidden_layer_sizes': (100,)}\n",
      "Performed Experiment 143/180(approx) took (s): model: 0.16 selector 3.37 with: FeatureSelectorType.KBest {'score_func': <function mutual_info_classif at 0x15dabe700>, 'k': 4} ModelType.MLPClassifier {'solver': 'sgd', 'activation': 'tanh', 'hidden_layer_sizes': (200,)}\n",
      "Performed Experiment 144/180(approx) took (s): model: 0.25 selector 3.37 with: FeatureSelectorType.KBest {'score_func': <function mutual_info_classif at 0x15dabe700>, 'k': 4} ModelType.MLPClassifier {'solver': 'sgd', 'activation': 'tanh', 'hidden_layer_sizes': (300,)}\n"
     ]
    },
    {
     "name": "stderr",
     "output_type": "stream",
     "text": [
      "/opt/anaconda3/lib/python3.11/site-packages/sklearn/neural_network/_multilayer_perceptron.py:686: ConvergenceWarning: Stochastic Optimizer: Maximum iterations (200) reached and the optimization hasn't converged yet.\n",
      "  warnings.warn(\n"
     ]
    },
    {
     "name": "stdout",
     "output_type": "stream",
     "text": [
      "Performed Experiment 145/180(approx) took (s): model: 1.06 selector 3.36 with: FeatureSelectorType.KBest {'score_func': <function mutual_info_classif at 0x15dabe700>, 'k': 5} ModelType.MLPClassifier {'solver': 'adam', 'activation': 'relu', 'hidden_layer_sizes': (100,)}\n"
     ]
    },
    {
     "name": "stderr",
     "output_type": "stream",
     "text": [
      "/opt/anaconda3/lib/python3.11/site-packages/sklearn/neural_network/_multilayer_perceptron.py:686: ConvergenceWarning: Stochastic Optimizer: Maximum iterations (200) reached and the optimization hasn't converged yet.\n",
      "  warnings.warn(\n"
     ]
    },
    {
     "name": "stdout",
     "output_type": "stream",
     "text": [
      "Performed Experiment 146/180(approx) took (s): model: 1.77 selector 3.36 with: FeatureSelectorType.KBest {'score_func': <function mutual_info_classif at 0x15dabe700>, 'k': 5} ModelType.MLPClassifier {'solver': 'adam', 'activation': 'relu', 'hidden_layer_sizes': (200,)}\n"
     ]
    },
    {
     "name": "stderr",
     "output_type": "stream",
     "text": [
      "/opt/anaconda3/lib/python3.11/site-packages/sklearn/neural_network/_multilayer_perceptron.py:686: ConvergenceWarning: Stochastic Optimizer: Maximum iterations (200) reached and the optimization hasn't converged yet.\n",
      "  warnings.warn(\n"
     ]
    },
    {
     "name": "stdout",
     "output_type": "stream",
     "text": [
      "Performed Experiment 147/180(approx) took (s): model: 2.84 selector 3.36 with: FeatureSelectorType.KBest {'score_func': <function mutual_info_classif at 0x15dabe700>, 'k': 5} ModelType.MLPClassifier {'solver': 'adam', 'activation': 'relu', 'hidden_layer_sizes': (300,)}\n",
      "Performed Experiment 148/180(approx) took (s): model: 0.19 selector 3.36 with: FeatureSelectorType.KBest {'score_func': <function mutual_info_classif at 0x15dabe700>, 'k': 5} ModelType.MLPClassifier {'solver': 'adam', 'activation': 'logistic', 'hidden_layer_sizes': (100,)}\n",
      "Performed Experiment 149/180(approx) took (s): model: 0.31 selector 3.36 with: FeatureSelectorType.KBest {'score_func': <function mutual_info_classif at 0x15dabe700>, 'k': 5} ModelType.MLPClassifier {'solver': 'adam', 'activation': 'logistic', 'hidden_layer_sizes': (200,)}\n",
      "Performed Experiment 150/180(approx) took (s): model: 0.54 selector 3.36 with: FeatureSelectorType.KBest {'score_func': <function mutual_info_classif at 0x15dabe700>, 'k': 5} ModelType.MLPClassifier {'solver': 'adam', 'activation': 'logistic', 'hidden_layer_sizes': (300,)}\n",
      "Performed Experiment 151/180(approx) took (s): model: 0.67 selector 3.36 with: FeatureSelectorType.KBest {'score_func': <function mutual_info_classif at 0x15dabe700>, 'k': 5} ModelType.MLPClassifier {'solver': 'adam', 'activation': 'tanh', 'hidden_layer_sizes': (100,)}\n",
      "Performed Experiment 152/180(approx) took (s): model: 2.66 selector 3.36 with: FeatureSelectorType.KBest {'score_func': <function mutual_info_classif at 0x15dabe700>, 'k': 5} ModelType.MLPClassifier {'solver': 'adam', 'activation': 'tanh', 'hidden_layer_sizes': (200,)}\n",
      "Performed Experiment 153/180(approx) took (s): model: 2.97 selector 3.36 with: FeatureSelectorType.KBest {'score_func': <function mutual_info_classif at 0x15dabe700>, 'k': 5} ModelType.MLPClassifier {'solver': 'adam', 'activation': 'tanh', 'hidden_layer_sizes': (300,)}\n",
      "Performed Experiment 154/180(approx) took (s): model: 0.61 selector 3.36 with: FeatureSelectorType.KBest {'score_func': <function mutual_info_classif at 0x15dabe700>, 'k': 5} ModelType.MLPClassifier {'solver': 'sgd', 'activation': 'relu', 'hidden_layer_sizes': (100,)}\n",
      "Performed Experiment 155/180(approx) took (s): model: 1.05 selector 3.36 with: FeatureSelectorType.KBest {'score_func': <function mutual_info_classif at 0x15dabe700>, 'k': 5} ModelType.MLPClassifier {'solver': 'sgd', 'activation': 'relu', 'hidden_layer_sizes': (200,)}\n",
      "Performed Experiment 156/180(approx) took (s): model: 1.89 selector 3.36 with: FeatureSelectorType.KBest {'score_func': <function mutual_info_classif at 0x15dabe700>, 'k': 5} ModelType.MLPClassifier {'solver': 'sgd', 'activation': 'relu', 'hidden_layer_sizes': (300,)}\n",
      "Performed Experiment 157/180(approx) took (s): model: 0.1 selector 3.36 with: FeatureSelectorType.KBest {'score_func': <function mutual_info_classif at 0x15dabe700>, 'k': 5} ModelType.MLPClassifier {'solver': 'sgd', 'activation': 'logistic', 'hidden_layer_sizes': (100,)}\n",
      "Performed Experiment 158/180(approx) took (s): model: 0.16 selector 3.36 with: FeatureSelectorType.KBest {'score_func': <function mutual_info_classif at 0x15dabe700>, 'k': 5} ModelType.MLPClassifier {'solver': 'sgd', 'activation': 'logistic', 'hidden_layer_sizes': (200,)}\n",
      "Performed Experiment 159/180(approx) took (s): model: 0.2 selector 3.36 with: FeatureSelectorType.KBest {'score_func': <function mutual_info_classif at 0x15dabe700>, 'k': 5} ModelType.MLPClassifier {'solver': 'sgd', 'activation': 'logistic', 'hidden_layer_sizes': (300,)}\n",
      "Performed Experiment 160/180(approx) took (s): model: 0.28 selector 3.36 with: FeatureSelectorType.KBest {'score_func': <function mutual_info_classif at 0x15dabe700>, 'k': 5} ModelType.MLPClassifier {'solver': 'sgd', 'activation': 'tanh', 'hidden_layer_sizes': (100,)}\n",
      "Performed Experiment 161/180(approx) took (s): model: 0.29 selector 3.36 with: FeatureSelectorType.KBest {'score_func': <function mutual_info_classif at 0x15dabe700>, 'k': 5} ModelType.MLPClassifier {'solver': 'sgd', 'activation': 'tanh', 'hidden_layer_sizes': (200,)}\n",
      "Performed Experiment 162/180(approx) took (s): model: 0.33 selector 3.36 with: FeatureSelectorType.KBest {'score_func': <function mutual_info_classif at 0x15dabe700>, 'k': 5} ModelType.MLPClassifier {'solver': 'sgd', 'activation': 'tanh', 'hidden_layer_sizes': (300,)}\n"
     ]
    },
    {
     "name": "stderr",
     "output_type": "stream",
     "text": [
      "/opt/anaconda3/lib/python3.11/site-packages/sklearn/neural_network/_multilayer_perceptron.py:686: ConvergenceWarning: Stochastic Optimizer: Maximum iterations (200) reached and the optimization hasn't converged yet.\n",
      "  warnings.warn(\n"
     ]
    },
    {
     "name": "stdout",
     "output_type": "stream",
     "text": [
      "Performed Experiment 163/180(approx) took (s): model: 1.29 selector 3.39 with: FeatureSelectorType.KBest {'score_func': <function mutual_info_classif at 0x15dabe700>, 'k': 8} ModelType.MLPClassifier {'solver': 'adam', 'activation': 'relu', 'hidden_layer_sizes': (100,)}\n"
     ]
    },
    {
     "name": "stderr",
     "output_type": "stream",
     "text": [
      "/opt/anaconda3/lib/python3.11/site-packages/sklearn/neural_network/_multilayer_perceptron.py:686: ConvergenceWarning: Stochastic Optimizer: Maximum iterations (200) reached and the optimization hasn't converged yet.\n",
      "  warnings.warn(\n"
     ]
    },
    {
     "name": "stdout",
     "output_type": "stream",
     "text": [
      "Performed Experiment 164/180(approx) took (s): model: 2.02 selector 3.39 with: FeatureSelectorType.KBest {'score_func': <function mutual_info_classif at 0x15dabe700>, 'k': 8} ModelType.MLPClassifier {'solver': 'adam', 'activation': 'relu', 'hidden_layer_sizes': (200,)}\n"
     ]
    },
    {
     "name": "stderr",
     "output_type": "stream",
     "text": [
      "/opt/anaconda3/lib/python3.11/site-packages/sklearn/neural_network/_multilayer_perceptron.py:686: ConvergenceWarning: Stochastic Optimizer: Maximum iterations (200) reached and the optimization hasn't converged yet.\n",
      "  warnings.warn(\n"
     ]
    },
    {
     "name": "stdout",
     "output_type": "stream",
     "text": [
      "Performed Experiment 165/180(approx) took (s): model: 3.13 selector 3.39 with: FeatureSelectorType.KBest {'score_func': <function mutual_info_classif at 0x15dabe700>, 'k': 8} ModelType.MLPClassifier {'solver': 'adam', 'activation': 'relu', 'hidden_layer_sizes': (300,)}\n",
      "Performed Experiment 166/180(approx) took (s): model: 0.32 selector 3.39 with: FeatureSelectorType.KBest {'score_func': <function mutual_info_classif at 0x15dabe700>, 'k': 8} ModelType.MLPClassifier {'solver': 'adam', 'activation': 'logistic', 'hidden_layer_sizes': (100,)}\n",
      "Performed Experiment 167/180(approx) took (s): model: 0.39 selector 3.39 with: FeatureSelectorType.KBest {'score_func': <function mutual_info_classif at 0x15dabe700>, 'k': 8} ModelType.MLPClassifier {'solver': 'adam', 'activation': 'logistic', 'hidden_layer_sizes': (200,)}\n",
      "Performed Experiment 168/180(approx) took (s): model: 0.6 selector 3.39 with: FeatureSelectorType.KBest {'score_func': <function mutual_info_classif at 0x15dabe700>, 'k': 8} ModelType.MLPClassifier {'solver': 'adam', 'activation': 'logistic', 'hidden_layer_sizes': (300,)}\n",
      "Performed Experiment 169/180(approx) took (s): model: 1.46 selector 3.39 with: FeatureSelectorType.KBest {'score_func': <function mutual_info_classif at 0x15dabe700>, 'k': 8} ModelType.MLPClassifier {'solver': 'adam', 'activation': 'tanh', 'hidden_layer_sizes': (100,)}\n",
      "Performed Experiment 170/180(approx) took (s): model: 1.86 selector 3.39 with: FeatureSelectorType.KBest {'score_func': <function mutual_info_classif at 0x15dabe700>, 'k': 8} ModelType.MLPClassifier {'solver': 'adam', 'activation': 'tanh', 'hidden_layer_sizes': (200,)}\n"
     ]
    },
    {
     "name": "stderr",
     "output_type": "stream",
     "text": [
      "/opt/anaconda3/lib/python3.11/site-packages/sklearn/neural_network/_multilayer_perceptron.py:686: ConvergenceWarning: Stochastic Optimizer: Maximum iterations (200) reached and the optimization hasn't converged yet.\n",
      "  warnings.warn(\n"
     ]
    },
    {
     "name": "stdout",
     "output_type": "stream",
     "text": [
      "Performed Experiment 171/180(approx) took (s): model: 4.91 selector 3.39 with: FeatureSelectorType.KBest {'score_func': <function mutual_info_classif at 0x15dabe700>, 'k': 8} ModelType.MLPClassifier {'solver': 'adam', 'activation': 'tanh', 'hidden_layer_sizes': (300,)}\n",
      "Performed Experiment 172/180(approx) took (s): model: 0.7 selector 3.39 with: FeatureSelectorType.KBest {'score_func': <function mutual_info_classif at 0x15dabe700>, 'k': 8} ModelType.MLPClassifier {'solver': 'sgd', 'activation': 'relu', 'hidden_layer_sizes': (100,)}\n",
      "Performed Experiment 173/180(approx) took (s): model: 1.61 selector 3.39 with: FeatureSelectorType.KBest {'score_func': <function mutual_info_classif at 0x15dabe700>, 'k': 8} ModelType.MLPClassifier {'solver': 'sgd', 'activation': 'relu', 'hidden_layer_sizes': (200,)}\n",
      "Performed Experiment 174/180(approx) took (s): model: 2.96 selector 3.39 with: FeatureSelectorType.KBest {'score_func': <function mutual_info_classif at 0x15dabe700>, 'k': 8} ModelType.MLPClassifier {'solver': 'sgd', 'activation': 'relu', 'hidden_layer_sizes': (300,)}\n",
      "Performed Experiment 175/180(approx) took (s): model: 0.13 selector 3.39 with: FeatureSelectorType.KBest {'score_func': <function mutual_info_classif at 0x15dabe700>, 'k': 8} ModelType.MLPClassifier {'solver': 'sgd', 'activation': 'logistic', 'hidden_layer_sizes': (100,)}\n",
      "Performed Experiment 176/180(approx) took (s): model: 0.24 selector 3.39 with: FeatureSelectorType.KBest {'score_func': <function mutual_info_classif at 0x15dabe700>, 'k': 8} ModelType.MLPClassifier {'solver': 'sgd', 'activation': 'logistic', 'hidden_layer_sizes': (200,)}\n",
      "Performed Experiment 177/180(approx) took (s): model: 0.46 selector 3.39 with: FeatureSelectorType.KBest {'score_func': <function mutual_info_classif at 0x15dabe700>, 'k': 8} ModelType.MLPClassifier {'solver': 'sgd', 'activation': 'logistic', 'hidden_layer_sizes': (300,)}\n",
      "Performed Experiment 178/180(approx) took (s): model: 0.24 selector 3.39 with: FeatureSelectorType.KBest {'score_func': <function mutual_info_classif at 0x15dabe700>, 'k': 8} ModelType.MLPClassifier {'solver': 'sgd', 'activation': 'tanh', 'hidden_layer_sizes': (100,)}\n",
      "Performed Experiment 179/180(approx) took (s): model: 0.41 selector 3.39 with: FeatureSelectorType.KBest {'score_func': <function mutual_info_classif at 0x15dabe700>, 'k': 8} ModelType.MLPClassifier {'solver': 'sgd', 'activation': 'tanh', 'hidden_layer_sizes': (200,)}\n",
      "Performed Experiment 180/180(approx) took (s): model: 0.54 selector 3.39 with: FeatureSelectorType.KBest {'score_func': <function mutual_info_classif at 0x15dabe700>, 'k': 8} ModelType.MLPClassifier {'solver': 'sgd', 'activation': 'tanh', 'hidden_layer_sizes': (300,)}\n",
      "CPU times: user 18min 31s, sys: 1min 33s, total: 20min 5s\n",
      "Wall time: 2min 11s\n"
     ]
    }
   ],
   "source": [
    "%%time\n",
    "results = functions.conductExperiments(\n",
    "    models=models,\n",
    "    featureSelectors=featureSelectors,\n",
    "    X_orig=X_train,\n",
    "    y_orig=y_train_ravel,\n",
    "    getLimitedScore=True,\n",
    ")\n",
    "with open(RESULTS_FILENAME, \"wb\") as f:\n",
    "    pickle.dump(results, f)"
   ]
  },
  {
   "cell_type": "code",
   "execution_count": 94,
   "metadata": {},
   "outputs": [],
   "source": [
    "with open(RESULTS_FILENAME, \"rb\") as input_file:\n",
    "    results = pickle.load(input_file)"
   ]
  },
  {
   "cell_type": "code",
   "execution_count": 95,
   "metadata": {},
   "outputs": [
    {
     "data": {
      "text/html": [
       "<div>\n",
       "<style scoped>\n",
       "    .dataframe tbody tr th:only-of-type {\n",
       "        vertical-align: middle;\n",
       "    }\n",
       "\n",
       "    .dataframe tbody tr th {\n",
       "        vertical-align: top;\n",
       "    }\n",
       "\n",
       "    .dataframe thead th {\n",
       "        text-align: right;\n",
       "    }\n",
       "</style>\n",
       "<table border=\"1\" class=\"dataframe\">\n",
       "  <thead>\n",
       "    <tr style=\"text-align: right;\">\n",
       "      <th></th>\n",
       "      <th>score</th>\n",
       "      <th>numberOfTruePositives</th>\n",
       "      <th>accuracy</th>\n",
       "      <th>precision</th>\n",
       "      <th>numberOfFeatures</th>\n",
       "      <th>model</th>\n",
       "      <th>model_parameters</th>\n",
       "      <th>feature_selector</th>\n",
       "      <th>selector_parameters</th>\n",
       "    </tr>\n",
       "  </thead>\n",
       "  <tbody>\n",
       "    <tr>\n",
       "      <th>98</th>\n",
       "      <td>0.555556</td>\n",
       "      <td>380</td>\n",
       "      <td>0.570303</td>\n",
       "      <td>0.582946</td>\n",
       "      <td>2</td>\n",
       "      <td>MLPClassifier</td>\n",
       "      <td>{'solver': 'adam', 'activation': 'tanh', 'hidd...</td>\n",
       "      <td>KBest</td>\n",
       "      <td>{'score_func': &lt;function mutual_info_classif a...</td>\n",
       "    </tr>\n",
       "    <tr>\n",
       "      <th>92</th>\n",
       "      <td>0.552288</td>\n",
       "      <td>378</td>\n",
       "      <td>0.567879</td>\n",
       "      <td>0.570451</td>\n",
       "      <td>2</td>\n",
       "      <td>MLPClassifier</td>\n",
       "      <td>{'solver': 'adam', 'activation': 'relu', 'hidd...</td>\n",
       "      <td>KBest</td>\n",
       "      <td>{'score_func': &lt;function mutual_info_classif a...</td>\n",
       "    </tr>\n",
       "    <tr>\n",
       "      <th>96</th>\n",
       "      <td>0.552288</td>\n",
       "      <td>378</td>\n",
       "      <td>0.567879</td>\n",
       "      <td>0.579353</td>\n",
       "      <td>2</td>\n",
       "      <td>MLPClassifier</td>\n",
       "      <td>{'solver': 'adam', 'activation': 'tanh', 'hidd...</td>\n",
       "      <td>KBest</td>\n",
       "      <td>{'score_func': &lt;function mutual_info_classif a...</td>\n",
       "    </tr>\n",
       "    <tr>\n",
       "      <th>91</th>\n",
       "      <td>0.547386</td>\n",
       "      <td>375</td>\n",
       "      <td>0.563636</td>\n",
       "      <td>0.569971</td>\n",
       "      <td>2</td>\n",
       "      <td>MLPClassifier</td>\n",
       "      <td>{'solver': 'adam', 'activation': 'relu', 'hidd...</td>\n",
       "      <td>KBest</td>\n",
       "      <td>{'score_func': &lt;function mutual_info_classif a...</td>\n",
       "    </tr>\n",
       "    <tr>\n",
       "      <th>101</th>\n",
       "      <td>0.545752</td>\n",
       "      <td>374</td>\n",
       "      <td>0.553939</td>\n",
       "      <td>0.549875</td>\n",
       "      <td>2</td>\n",
       "      <td>MLPClassifier</td>\n",
       "      <td>{'solver': 'sgd', 'activation': 'relu', 'hidde...</td>\n",
       "      <td>KBest</td>\n",
       "      <td>{'score_func': &lt;function mutual_info_classif a...</td>\n",
       "    </tr>\n",
       "    <tr>\n",
       "      <th>...</th>\n",
       "      <td>...</td>\n",
       "      <td>...</td>\n",
       "      <td>...</td>\n",
       "      <td>...</td>\n",
       "      <td>...</td>\n",
       "      <td>...</td>\n",
       "      <td>...</td>\n",
       "      <td>...</td>\n",
       "      <td>...</td>\n",
       "    </tr>\n",
       "    <tr>\n",
       "      <th>166</th>\n",
       "      <td>0.248366</td>\n",
       "      <td>312</td>\n",
       "      <td>0.488485</td>\n",
       "      <td>0.488294</td>\n",
       "      <td>8</td>\n",
       "      <td>MLPClassifier</td>\n",
       "      <td>{'solver': 'adam', 'activation': 'logistic', '...</td>\n",
       "      <td>KBest</td>\n",
       "      <td>{'score_func': &lt;function mutual_info_classif a...</td>\n",
       "    </tr>\n",
       "    <tr>\n",
       "      <th>174</th>\n",
       "      <td>0.248366</td>\n",
       "      <td>312</td>\n",
       "      <td>0.499394</td>\n",
       "      <td>0.494703</td>\n",
       "      <td>8</td>\n",
       "      <td>MLPClassifier</td>\n",
       "      <td>{'solver': 'sgd', 'activation': 'logistic', 'h...</td>\n",
       "      <td>KBest</td>\n",
       "      <td>{'score_func': &lt;function mutual_info_classif a...</td>\n",
       "    </tr>\n",
       "    <tr>\n",
       "      <th>165</th>\n",
       "      <td>0.246732</td>\n",
       "      <td>311</td>\n",
       "      <td>0.471515</td>\n",
       "      <td>0.468182</td>\n",
       "      <td>8</td>\n",
       "      <td>MLPClassifier</td>\n",
       "      <td>{'solver': 'adam', 'activation': 'logistic', '...</td>\n",
       "      <td>KBest</td>\n",
       "      <td>{'score_func': &lt;function mutual_info_classif a...</td>\n",
       "    </tr>\n",
       "    <tr>\n",
       "      <th>178</th>\n",
       "      <td>0.238562</td>\n",
       "      <td>306</td>\n",
       "      <td>0.472121</td>\n",
       "      <td>0.468643</td>\n",
       "      <td>8</td>\n",
       "      <td>MLPClassifier</td>\n",
       "      <td>{'solver': 'sgd', 'activation': 'tanh', 'hidde...</td>\n",
       "      <td>KBest</td>\n",
       "      <td>{'score_func': &lt;function mutual_info_classif a...</td>\n",
       "    </tr>\n",
       "    <tr>\n",
       "      <th>179</th>\n",
       "      <td>0.233660</td>\n",
       "      <td>303</td>\n",
       "      <td>0.475758</td>\n",
       "      <td>0.472928</td>\n",
       "      <td>8</td>\n",
       "      <td>MLPClassifier</td>\n",
       "      <td>{'solver': 'sgd', 'activation': 'tanh', 'hidde...</td>\n",
       "      <td>KBest</td>\n",
       "      <td>{'score_func': &lt;function mutual_info_classif a...</td>\n",
       "    </tr>\n",
       "  </tbody>\n",
       "</table>\n",
       "<p>180 rows × 9 columns</p>\n",
       "</div>"
      ],
      "text/plain": [
       "        score  numberOfTruePositives  accuracy  precision  numberOfFeatures  \\\n",
       "98   0.555556                    380  0.570303   0.582946                 2   \n",
       "92   0.552288                    378  0.567879   0.570451                 2   \n",
       "96   0.552288                    378  0.567879   0.579353                 2   \n",
       "91   0.547386                    375  0.563636   0.569971                 2   \n",
       "101  0.545752                    374  0.553939   0.549875                 2   \n",
       "..        ...                    ...       ...        ...               ...   \n",
       "166  0.248366                    312  0.488485   0.488294                 8   \n",
       "174  0.248366                    312  0.499394   0.494703                 8   \n",
       "165  0.246732                    311  0.471515   0.468182                 8   \n",
       "178  0.238562                    306  0.472121   0.468643                 8   \n",
       "179  0.233660                    303  0.475758   0.472928                 8   \n",
       "\n",
       "             model                                   model_parameters  \\\n",
       "98   MLPClassifier  {'solver': 'adam', 'activation': 'tanh', 'hidd...   \n",
       "92   MLPClassifier  {'solver': 'adam', 'activation': 'relu', 'hidd...   \n",
       "96   MLPClassifier  {'solver': 'adam', 'activation': 'tanh', 'hidd...   \n",
       "91   MLPClassifier  {'solver': 'adam', 'activation': 'relu', 'hidd...   \n",
       "101  MLPClassifier  {'solver': 'sgd', 'activation': 'relu', 'hidde...   \n",
       "..             ...                                                ...   \n",
       "166  MLPClassifier  {'solver': 'adam', 'activation': 'logistic', '...   \n",
       "174  MLPClassifier  {'solver': 'sgd', 'activation': 'logistic', 'h...   \n",
       "165  MLPClassifier  {'solver': 'adam', 'activation': 'logistic', '...   \n",
       "178  MLPClassifier  {'solver': 'sgd', 'activation': 'tanh', 'hidde...   \n",
       "179  MLPClassifier  {'solver': 'sgd', 'activation': 'tanh', 'hidde...   \n",
       "\n",
       "    feature_selector                                selector_parameters  \n",
       "98             KBest  {'score_func': <function mutual_info_classif a...  \n",
       "92             KBest  {'score_func': <function mutual_info_classif a...  \n",
       "96             KBest  {'score_func': <function mutual_info_classif a...  \n",
       "91             KBest  {'score_func': <function mutual_info_classif a...  \n",
       "101            KBest  {'score_func': <function mutual_info_classif a...  \n",
       "..               ...                                                ...  \n",
       "166            KBest  {'score_func': <function mutual_info_classif a...  \n",
       "174            KBest  {'score_func': <function mutual_info_classif a...  \n",
       "165            KBest  {'score_func': <function mutual_info_classif a...  \n",
       "178            KBest  {'score_func': <function mutual_info_classif a...  \n",
       "179            KBest  {'score_func': <function mutual_info_classif a...  \n",
       "\n",
       "[180 rows x 9 columns]"
      ]
     },
     "execution_count": 95,
     "metadata": {},
     "output_type": "execute_result"
    }
   ],
   "source": [
    "resultsDf = pd.DataFrame(\n",
    "    results,\n",
    "    columns=functions.RESULTS_COLUMNS,\n",
    ")\n",
    "resultsDf = resultsDf.sort_values(by=[\"score\"], ascending=False)\n",
    "resultsDf"
   ]
  },
  {
   "cell_type": "code",
   "execution_count": 102,
   "metadata": {},
   "outputs": [
    {
     "data": {
      "text/html": [
       "<div>\n",
       "<style scoped>\n",
       "    .dataframe tbody tr th:only-of-type {\n",
       "        vertical-align: middle;\n",
       "    }\n",
       "\n",
       "    .dataframe tbody tr th {\n",
       "        vertical-align: top;\n",
       "    }\n",
       "\n",
       "    .dataframe thead th {\n",
       "        text-align: right;\n",
       "    }\n",
       "</style>\n",
       "<table border=\"1\" class=\"dataframe\">\n",
       "  <thead>\n",
       "    <tr style=\"text-align: right;\">\n",
       "      <th></th>\n",
       "      <th>score</th>\n",
       "      <th>numberOfTruePositives</th>\n",
       "      <th>accuracy</th>\n",
       "      <th>precision</th>\n",
       "      <th>numberOfFeatures</th>\n",
       "      <th>model</th>\n",
       "      <th>model_parameters</th>\n",
       "      <th>feature_selector</th>\n",
       "      <th>selector_parameters</th>\n",
       "    </tr>\n",
       "  </thead>\n",
       "  <tbody>\n",
       "    <tr>\n",
       "      <th>98</th>\n",
       "      <td>0.555556</td>\n",
       "      <td>380</td>\n",
       "      <td>0.570303</td>\n",
       "      <td>0.582946</td>\n",
       "      <td>2</td>\n",
       "      <td>MLPClassifier</td>\n",
       "      <td>{'solver': 'adam', 'activation': 'tanh', 'hidd...</td>\n",
       "      <td>KBest</td>\n",
       "      <td>{'score_func': &lt;function mutual_info_classif a...</td>\n",
       "    </tr>\n",
       "  </tbody>\n",
       "</table>\n",
       "</div>"
      ],
      "text/plain": [
       "       score  numberOfTruePositives  accuracy  precision  numberOfFeatures  \\\n",
       "98  0.555556                    380  0.570303   0.582946                 2   \n",
       "\n",
       "            model                                   model_parameters  \\\n",
       "98  MLPClassifier  {'solver': 'adam', 'activation': 'tanh', 'hidd...   \n",
       "\n",
       "   feature_selector                                selector_parameters  \n",
       "98            KBest  {'score_func': <function mutual_info_classif a...  "
      ]
     },
     "execution_count": 102,
     "metadata": {},
     "output_type": "execute_result"
    }
   ],
   "source": []
  },
  {
   "cell_type": "code",
   "execution_count": null,
   "metadata": {},
   "outputs": [],
   "source": []
  }
 ],
 "metadata": {
  "kernelspec": {
   "display_name": "base",
   "language": "python",
   "name": "python3"
  },
  "language_info": {
   "codemirror_mode": {
    "name": "ipython",
    "version": 3
   },
   "file_extension": ".py",
   "mimetype": "text/x-python",
   "name": "python",
   "nbconvert_exporter": "python",
   "pygments_lexer": "ipython3",
   "version": "3.11.7"
  }
 },
 "nbformat": 4,
 "nbformat_minor": 2
}
